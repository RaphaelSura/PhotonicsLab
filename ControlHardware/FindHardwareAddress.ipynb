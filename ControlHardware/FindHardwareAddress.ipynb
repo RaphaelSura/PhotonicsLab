{
 "cells": [
  {
   "cell_type": "code",
   "execution_count": 4,
   "metadata": {},
   "outputs": [],
   "source": [
    "import visa\n",
    "from pyvisa import util"
   ]
  },
  {
   "cell_type": "code",
   "execution_count": 5,
   "metadata": {},
   "outputs": [],
   "source": [
    "rm_py = visa.ResourceManager()"
   ]
  },
  {
   "cell_type": "code",
   "execution_count": 6,
   "metadata": {},
   "outputs": [
    {
     "name": "stdout",
     "output_type": "stream",
     "text": [
      "List of all connected devices\n",
      "TCPIP0::169.254.66.149::inst0::INSTR\n",
      "TCPIP0::169.254.66.146::inst0::INSTR\n",
      "ASRL1::INSTR\n",
      "ASRL3::INSTR\n",
      "ASRL6::INSTR\n",
      "GPIB0::INTFC\n",
      "GPIB0::12::INSTR\n",
      "GPIB0::28::INSTR\n",
      "\n",
      "List of GPIB identites\n",
      "Address:  GPIB0::12::INSTR      ID:  LSCI,MODEL335,335A0X8/#######,1.2\n",
      "Address:  GPIB0::28::INSTR      ID:  Stanford Research Systems,SG384,s/n002128,ver1.23.26\n"
     ]
    }
   ],
   "source": [
    "devs = rm_py.list_resources('?*')\n",
    "print(\"List of all connected devices\")\n",
    "for d in devs:\n",
    "    print(d)\n",
    "\n",
    "print(\"\\nList of GPIB identites\")\n",
    "gpib_devs = [d for d in devs if 'GPIB' in d and 'INSTR' in d]\n",
    "for d in gpib_devs:\n",
    "    inst = rm_py.open_resource(d)\n",
    "    print(\"Address: \", d, \"     ID: \", inst.query(\"*IDN?\").strip())\n",
    "    inst.close()"
   ]
  },
  {
   "cell_type": "code",
   "execution_count": null,
   "metadata": {},
   "outputs": [],
   "source": []
  }
 ],
 "metadata": {
  "kernelspec": {
   "display_name": "Python 3",
   "language": "python",
   "name": "python3"
  },
  "language_info": {
   "codemirror_mode": {
    "name": "ipython",
    "version": 3
   },
   "file_extension": ".py",
   "mimetype": "text/x-python",
   "name": "python",
   "nbconvert_exporter": "python",
   "pygments_lexer": "ipython3",
   "version": "3.6.5"
  }
 },
 "nbformat": 4,
 "nbformat_minor": 2
}

{
 "cells": [
  {
   "cell_type": "code",
   "execution_count": 1,
   "metadata": {},
   "outputs": [],
   "source": [
    "import visa\n",
    "from pyvisa import util"
   ]
  },
  {
   "cell_type": "code",
   "execution_count": 2,
   "metadata": {},
   "outputs": [],
   "source": [
    "rm_py = visa.ResourceManager()"
   ]
  },
  {
   "cell_type": "code",
   "execution_count": 4,
   "metadata": {},
   "outputs": [
    {
     "name": "stdout",
     "output_type": "stream",
     "text": [
      "List of all connected devices\n",
      "USB0::0x1313::0x8078::P0021814::INSTR\n",
      "TCPIP0::169.254.66.149::inst0::INSTR\n",
      "TCPIP0::169.254.66.146::inst0::INSTR\n",
      "ASRL1::INSTR\n",
      "ASRL3::INSTR\n",
      "ASRL6::INSTR\n",
      "GPIB0::INTFC\n",
      "GPIB0::12::INSTR\n",
      "\n",
      "List of GPIB identites\n",
      "Address:  GPIB0::12::INSTR      ID:  LSCI,MODEL335,335A0X8/#######,1.2\n",
      "\n",
      "List of USB identites\n",
      "Address:  USB0::0x1313::0x8078::P0021814::INSTR      ID:  Thorlabs,PM100D,P0021814,2.6.0\n"
     ]
    }
   ],
   "source": [
    "devs = rm_py.list_resources('?*')\n",
    "print(\"List of all connected devices\")\n",
    "for d in devs:\n",
    "    print(d)\n",
    "\n",
    "print(\"\\nList of GPIB identites\")\n",
    "gpib_devs = [d for d in devs if 'GPIB' in d and 'INSTR' in d]\n",
    "for d in gpib_devs:\n",
    "    inst = rm_py.open_resource(d)\n",
    "    print(\"Address: \", d, \"     ID: \", inst.query(\"*IDN?\").strip())\n",
    "    inst.close()\n",
    "    \n",
    "print(\"\\nList of USB identites\")\n",
    "usb_devs = [d for d in devs if 'USB' in d and 'INSTR' in d]\n",
    "for d in usb_devs:\n",
    "    inst = rm_py.open_resource(d)\n",
    "    print(\"Address: \", d, \"     ID: \", inst.query(\"*IDN?\").strip())\n",
    "    inst.close()"
   ]
  },
  {
   "cell_type": "code",
   "execution_count": null,
   "metadata": {},
   "outputs": [],
   "source": []
  }
 ],
 "metadata": {
  "kernelspec": {
   "display_name": "Python 3",
   "language": "python",
   "name": "python3"
  },
  "language_info": {
   "codemirror_mode": {
    "name": "ipython",
    "version": 3
   },
   "file_extension": ".py",
   "mimetype": "text/x-python",
   "name": "python",
   "nbconvert_exporter": "python",
   "pygments_lexer": "ipython3",
   "version": "3.6.5"
  }
 },
 "nbformat": 4,
 "nbformat_minor": 2
}

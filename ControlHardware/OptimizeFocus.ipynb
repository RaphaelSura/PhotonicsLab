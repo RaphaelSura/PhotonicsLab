{
 "cells": [
  {
   "cell_type": "code",
   "execution_count": null,
   "metadata": {},
   "outputs": [],
   "source": [
    "import sys\n",
    "sys.path.append(\"..\")\n",
    "from LowLevelModules.XPScontroller import XPSstage\n",
    "from LowLevelModules.NIdaqAPD import APDCounter\n",
    "from LowLevelModules.GeneralFunctions import *\n",
    "import time\n",
    "import ipywidgets as widgets\n",
    "from IPython.display import display\n",
    "from scipy.optimize import curve_fit\n",
    "import numpy as np\n",
    "from sklearn.metrics import r2_score\n",
    "\n",
    "# stage stuff\n",
    "ip_address = '169.254.66.147'\n",
    "portnum = 5001\n",
    "groupnum = 1\n",
    "stage = XPSstage(ip_address, portnum, groupnum)\n",
    "stage.read_position()"
   ]
  },
  {
   "cell_type": "code",
   "execution_count": null,
   "metadata": {},
   "outputs": [],
   "source": [
    "\"\"\"#######################################   Default parameters   #########################################\"\"\"\n",
    "terminal = \"/Dev1/PFI1\"   # APD that has the HWP and polarizer in front\n",
    "scan_extent = 2    #microns\n",
    "steps = 20         \n",
    "collection_time = .2   #seconds\n",
    "\"\"\"#########################################################################################################\"\"\"\n",
    "# initialize scan range\n",
    "scan_values = stage.read_position() + np.arange(-scan_extent, scan_extent, steps)/1000\n",
    "\n",
    "lp = LivePlot(1, 9, 4, 'o', 'x (\\microm)', 'APD counts (kHz)')\n",
    "pos, cts = [], []\n",
    "for p in scan_values:\n",
    "    try:\n",
    "        # move stage to new position\n",
    "        stage.move_to(p)\n",
    "        # collect the APD count rate\n",
    "        APD1 = APDCounter(terminal, task_name='stage scan counts')\n",
    "        APD1.start()\n",
    "        time.sleep(collection_time)\n",
    "        APD_cts = APD1.read() / collection_time / 1000\n",
    "        APD1.close()\n",
    "        # get the new data and update the plot\n",
    "        pos.append(p)\n",
    "        cts.append(APD_cts)\n",
    "        lp.plot_live(pos, cts)\n",
    "    except KeyboardInterrupt:\n",
    "        # press the stop button to trigger this\n",
    "        APD1.close()\n",
    "        break"
   ]
  },
  {
   "cell_type": "code",
   "execution_count": null,
   "metadata": {},
   "outputs": [],
   "source": [
    "# fit data and move the stage\n",
    "bds = ([.1, scan_values[0], 0.0001],[np.inf, scan_values[-1], 0.1])\n",
    "popt, pcov = curve_fit(gaussian_func, pos, cts, bounds=bds)\n",
    "data_y_fit = gaussian_func(pos, *popt)\n",
    "plt.plot(pos, data_y_fit, 'r-')\n",
    "#check validity of the fit\n",
    "if r2_score(cts, data_y_fit)>.9:\n",
    "    best_position = popt[1]\n",
    "else:\n",
    "    best_position = pos(cts.argmax())\n",
    "# move the stage\n",
    "stage.move_to(best_position)"
   ]
  },
  {
   "cell_type": "code",
   "execution_count": null,
   "metadata": {},
   "outputs": [],
   "source": []
  },
  {
   "cell_type": "code",
   "execution_count": null,
   "metadata": {},
   "outputs": [],
   "source": []
  }
 ],
 "metadata": {
  "kernelspec": {
   "display_name": "Python 3",
   "language": "python",
   "name": "python3"
  },
  "language_info": {
   "codemirror_mode": {
    "name": "ipython",
    "version": 3
   },
   "file_extension": ".py",
   "mimetype": "text/x-python",
   "name": "python",
   "nbconvert_exporter": "python",
   "pygments_lexer": "ipython3",
   "version": "3.6.5"
  }
 },
 "nbformat": 4,
 "nbformat_minor": 2
}

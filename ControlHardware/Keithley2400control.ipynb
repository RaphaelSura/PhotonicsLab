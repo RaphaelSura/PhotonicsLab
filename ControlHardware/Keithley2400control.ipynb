{
 "cells": [
  {
   "cell_type": "code",
   "execution_count": 1,
   "metadata": {},
   "outputs": [],
   "source": [
    "from pymeasure.instruments.keithley import Keithley2400\n",
    "keithley = Keithley2400(\"GPIB0::24::INSTR\")   # 'ASRL9::INSTR' if RS232 connection"
   ]
  },
  {
   "cell_type": "code",
   "execution_count": 3,
   "metadata": {},
   "outputs": [],
   "source": [
    "keithley.apply_voltage()                # Sets up to source voltage\n",
    "keithley.source_voltage_range = 20       # Sets the source voltage range to 1 V\n",
    "keithley.compliance_current = 5e-5      # Sets the compliance current to 1 mA\n",
    "keithley.source_voltage = 0             # Sets the source current to 0 mA"
   ]
  },
  {
   "cell_type": "code",
   "execution_count": 4,
   "metadata": {},
   "outputs": [],
   "source": [
    "keithley.enable_source()                # Enables the source output"
   ]
  },
  {
   "cell_type": "code",
   "execution_count": 6,
   "metadata": {},
   "outputs": [
    {
     "name": "stdout",
     "output_type": "stream",
     "text": [
      "-0.0001308643\n"
     ]
    }
   ],
   "source": [
    "keithley.measure_voltage()              # Sets up to measure voltage\n",
    "keithley.ramp_to_voltage(0)            # Ramps the volage to 0.5 V\n",
    "print(keithley.voltage)                 # Prints the voltage in Volts"
   ]
  },
  {
   "cell_type": "code",
   "execution_count": 7,
   "metadata": {},
   "outputs": [],
   "source": [
    "keithley.disable_source()                # Disables the source output"
   ]
  },
  {
   "cell_type": "code",
   "execution_count": 8,
   "metadata": {},
   "outputs": [],
   "source": [
    "keithley.shutdown()    "
   ]
  },
  {
   "cell_type": "code",
   "execution_count": null,
   "metadata": {},
   "outputs": [],
   "source": []
  },
  {
   "cell_type": "code",
   "execution_count": null,
   "metadata": {},
   "outputs": [],
   "source": []
  },
  {
   "cell_type": "code",
   "execution_count": null,
   "metadata": {},
   "outputs": [],
   "source": []
  }
 ],
 "metadata": {
  "kernelspec": {
   "display_name": "Python 3",
   "language": "python",
   "name": "python3"
  },
  "language_info": {
   "codemirror_mode": {
    "name": "ipython",
    "version": 3
   },
   "file_extension": ".py",
   "mimetype": "text/x-python",
   "name": "python",
   "nbconvert_exporter": "python",
   "pygments_lexer": "ipython3",
   "version": "3.6.5"
  }
 },
 "nbformat": 4,
 "nbformat_minor": 2
}

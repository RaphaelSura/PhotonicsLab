{
 "cells": [
  {
   "cell_type": "code",
   "execution_count": 3,
   "metadata": {},
   "outputs": [],
   "source": [
    "# JL3562@cornell.edu\n",
    "# created: 20200121\n",
    "# \n",
    "import pyvisa\n",
    "import time\n",
    "from collections import deque\n",
    "\n",
    "rm = pyvisa.ResourceManager()\n",
    "thorlabPM100DVName= 'USB0::0x1313::0x8078::P0021814::INSTR'\n"
   ]
  },
  {
   "cell_type": "code",
   "execution_count": 4,
   "metadata": {},
   "outputs": [
    {
     "data": {
      "text/plain": "('USB0::0x1313::0x8078::P0021814::INSTR',\n 'TCPIP0::169.254.66.149::inst0::INSTR',\n 'TCPIP0::169.254.66.146::inst0::INSTR',\n 'ASRL1::INSTR',\n 'ASRL3::INSTR',\n 'ASRL5::INSTR',\n 'ASRL11::INSTR',\n 'ASRL14::INSTR',\n 'GPIB0::12::INSTR',\n 'GPIB0::15::INSTR',\n 'GPIB0::24::INSTR')"
     },
     "execution_count": 4,
     "metadata": {},
     "output_type": "execute_result"
    }
   ],
   "source": [
    "rm.list_resources()"
   ]
  },
  {
   "cell_type": "code",
   "execution_count": 5,
   "metadata": {},
   "outputs": [
    {
     "data": {
      "text/plain": "tuple"
     },
     "execution_count": 5,
     "metadata": {},
     "output_type": "execute_result"
    }
   ],
   "source": [
    "type(rm.list_resources())"
   ]
  },
  {
   "cell_type": "code",
   "execution_count": 6,
   "metadata": {},
   "outputs": [
    {
     "name": "stdout",
     "output_type": "stream",
     "text": "Thorlabs,PM100D,P0021814,2.6.0\n\n<class 'str'>\n"
    }
   ],
   "source": [
    "pm= rm.open_resource(thorlabPM100DVName)\n",
    "print(pm.query('*IDN?'))\n",
    "print(type(pm.query('*IDN?')))\n"
   ]
  },
  {
   "cell_type": "code",
   "execution_count": 15,
   "metadata": {},
   "outputs": [
    {
     "name": "stdout",
     "output_type": "stream",
     "text": [
      "S120C,181221309,21-Dec-2018,1,18,289\n",
      "\n"
     ]
    }
   ],
   "source": [
    "print(pm.query('system:sensor:idn?'))\n"
   ]
  },
  {
   "cell_type": "code",
   "execution_count": 16,
   "metadata": {
    "scrolled": false
   },
   "outputs": [
    {
     "name": "stdout",
     "output_type": "stream",
     "text": [
      "\"22-Jan-2019\"\n",
      "\n"
     ]
    }
   ],
   "source": [
    "print(pm.query('calibration:string?'))\n"
   ]
  },
  {
   "cell_type": "code",
   "execution_count": 26,
   "metadata": {},
   "outputs": [
    {
     "name": "stdout",
     "output_type": "stream",
     "text": [
      "0\n",
      "\n"
     ]
    }
   ],
   "source": [
    "print(pm.query('status:MEAS:COND?'))"
   ]
  },
  {
   "cell_type": "code",
   "execution_count": 64,
   "metadata": {},
   "outputs": [
    {
     "name": "stdout",
     "output_type": "stream",
     "text": [
      "sense:average 10\n",
      "(18, <StatusCode.success: 0>)\n",
      "10\n",
      "\n"
     ]
    }
   ],
   "source": [
    "NAvg= 10 # each sample takes ~3ms \n",
    "cmd= f\"sense:average {NAvg}\"\n",
    "print(cmd)\n",
    "print(pm.write(cmd))\n",
    "print(pm.query('sense:average:count?'))\n"
   ]
  },
  {
   "cell_type": "code",
   "execution_count": 7,
   "metadata": {},
   "outputs": [
    {
     "name": "stdout",
     "output_type": "stream",
     "text": "beamDiameter= 3 [mm]\nwavelength= 535 [nm]\n"
    }
   ],
   "source": [
    "beamDiameterMM= float(pm.query('sense:correction:beamdiameter?'))\n",
    "print(f\"beamDiameter= {beamDiameterMM:.0f} [mm]\")\n",
    "wavelengthNM= float(pm.query('sense:correction:wavelength?'))\n",
    "print(f\"wavelength= {wavelengthNM:.0f} [nm]\")"
   ]
  },
  {
   "cell_type": "code",
   "execution_count": 8,
   "metadata": {},
   "outputs": [
    {
     "name": "stdout",
     "output_type": "stream",
     "text": "powerResponse= 0.0255785082 [A/W]\n"
    }
   ],
   "source": [
    "powerResponse= float(pm.query('sense:correction:power?'))\n",
    "print(f\"powerResponse= {powerResponse} [A/W]\")"
   ]
  },
  {
   "cell_type": "code",
   "execution_count": 9,
   "metadata": {},
   "outputs": [
    {
     "name": "stdout",
     "output_type": "stream",
     "text": "Measurement configuration: POW\n\n"
    }
   ],
   "source": [
    "print(f\"Measurement configuration: {pm.query('configure?')}\")"
   ]
  },
  {
   "cell_type": "code",
   "execution_count": 10,
   "metadata": {},
   "outputs": [
    {
     "name": "stdout",
     "output_type": "stream",
     "text": "(10, <StatusCode.success: 0>)\n(15, <StatusCode.success: 0>)\n-1.71489461E-07\n\n"
    }
   ],
   "source": [
    "print(pm.write('initiate'))\n",
    "print(pm.write('measure:power'))\n",
    "print(pm.query('fetch?'))\n",
    "tmpData= deque()\n",
    "for i in range(1,100,1):\n",
    "    try: \n",
    "        pm.write('initiate')\n",
    "        pm.write('measure:power')\n",
    "        tmpData.append(float(pm.query('fetch?')))\n",
    "        time.sleep(0.005)\n",
    "    except KeyboardInterrupt:\n",
    "        break\n"
   ]
  },
  {
   "cell_type": "code",
   "execution_count": 11,
   "metadata": {},
   "outputs": [
    {
     "name": "stdout",
     "output_type": "stream",
     "text": "[-1.72085635e-07, -1.72129603e-07, -1.71704471e-07, -1.71465032e-07, -1.71430813e-07, -1.71787548e-07, -1.72119826e-07, -1.72124729e-07, -1.71826628e-07, -1.71836419e-07, -1.7136729e-07, -1.71557886e-07, -1.71450367e-07, -1.71396621e-07, -1.71870624e-07, -1.72173586e-07, -1.71860847e-07, -1.71538332e-07, -1.71396621e-07, -1.71425938e-07, -1.71450367e-07, -1.7156276e-07, -1.71528555e-07, -1.71445478e-07, -1.71596966e-07, -1.72080732e-07, -1.72105175e-07, -1.71782645e-07, -1.72085635e-07, -1.71821753e-07, -1.71899927e-07, -1.72119826e-07, -1.71513889e-07, -1.71767994e-07, -1.72070969e-07, -1.72105175e-07, -1.71719122e-07, -1.71983004e-07, -1.72119826e-07, -1.71797325e-07, -1.71484587e-07, -1.71572538e-07, -1.71973241e-07, -1.72105175e-07, -1.71831516e-07, -1.71474809e-07, -1.7138683e-07, -1.71479684e-07, -1.71455255e-07, -1.71772896e-07, -1.71523681e-07, -1.71494349e-07, -1.71958575e-07, -1.72168711e-07, -1.71929258e-07, -1.71572538e-07, -1.72080732e-07, -1.71880401e-07, -1.71899941e-07, -1.71450381e-07, -1.71479684e-07, -1.71772896e-07, -1.72119826e-07, -1.72022098e-07, -1.71538332e-07, -1.7206608e-07, -1.71899927e-07, -1.71865722e-07, -1.71499238e-07, -1.71445478e-07, -1.71826642e-07, -1.72105175e-07, -1.72105175e-07, -1.71670266e-07, -1.72012321e-07, -1.7206608e-07, -1.71826642e-07, -1.71548109e-07, -1.71406384e-07, -1.7161652e-07, -1.72031875e-07, -1.72031875e-07, -1.71704471e-07, -1.72046526e-07, -1.72080746e-07, -1.71699583e-07, -1.71489461e-07, -1.71499238e-07, -1.71728914e-07, -1.72134506e-07, -1.72036749e-07, -1.71596966e-07, -1.72061206e-07, -1.72056318e-07, -1.71699583e-07, -1.71430813e-07, -1.71469921e-07, -1.71557886e-07, -1.71469907e-07]\n"
    }
   ],
   "source": [
    "print(list(tmpData))"
   ]
  },
  {
   "cell_type": "code",
   "execution_count": null,
   "metadata": {},
   "outputs": [],
   "source": []
  }
 ],
 "metadata": {
  "kernelspec": {
   "display_name": "Python 3.6.5 32-bit",
   "language": "python",
   "name": "python36532bit07809ddb79fe475db280c9f22a9c7045"
  },
  "language_info": {
   "codemirror_mode": {
    "name": "ipython",
    "version": 3
   },
   "file_extension": ".py",
   "mimetype": "text/x-python",
   "name": "python",
   "nbconvert_exporter": "python",
   "pygments_lexer": "ipython3",
   "version": "3.6.5-final"
  }
 },
 "nbformat": 4,
 "nbformat_minor": 2
}
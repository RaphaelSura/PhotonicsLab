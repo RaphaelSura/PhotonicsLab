{
 "cells": [
  {
   "cell_type": "code",
   "execution_count": 43,
   "metadata": {},
   "outputs": [
    {
     "name": "stdout",
     "output_type": "stream",
     "text": [
      "DC offset: 0.000000\n"
     ]
    },
    {
     "data": {
      "text/plain": [
       "0.0"
      ]
     },
     "execution_count": 43,
     "metadata": {},
     "output_type": "execute_result"
    }
   ],
   "source": [
    "import visa\n",
    "from pyvisa import util\n",
    "import numpy as np\n",
    "\n",
    "\n",
    "class SG384:\n",
    "    def __init__(self, addr):\n",
    "        rm_py = visa.ResourceManager()\n",
    "        self.equipment = rm_py.open_resource(addr)\n",
    "\n",
    "    def set_frequency(self, value, unit='GHz'):\n",
    "        self.equipment.write(\"FREQ %f %s\" % (value, unit))\n",
    "    \n",
    "    def get_frequency(self, unit='GHz'):\n",
    "        return self.equipment.query(\"FREQ? %s\" % (unit))\n",
    "\n",
    "    def set_amplitude(self, value, unit='dBm', port='BNC'):\n",
    "        if port == 'BNC':\n",
    "            self.equipment.write(\"AMPL %f %s\" % (value, unit))\n",
    "        else:\n",
    "            self.equipment.write(\"AMPR %f %s\" % (value, unit))\n",
    "        \n",
    "    def get_amplitude(self, unit='dBm', port='BNC'):\n",
    "        if port == 'BNC':\n",
    "            return self.equipment.query(\"AMPL?\")\n",
    "        else:\n",
    "            return self.equipment.query(\"AMPR?\")\n",
    "    \n",
    "    def set_DC_offset(self, value):\n",
    "        self.equipment.write(\"OFSL %f\" % (value,))\n",
    "    \n",
    "    def get_DC_offset(self):\n",
    "        offset = float(self.equipment.query(\"OFSL?\").strip())\n",
    "        print('DC offset: %f' % (np.round(offset, 2),))\n",
    "        return offset\n",
    "\n",
    "    def enable_RF_signal(self, port='BNC'):\n",
    "        if port == 'BNC':\n",
    "            self.equipment.write(\"ENBL 1\")\n",
    "        else:\n",
    "            self.equipment.write(\"ENBR 1\")\n",
    "\n",
    "    def disable_RF_signal(self, port='BNC'):\n",
    "        if port == 'BNC':\n",
    "            self.equipment.write(\"ENBL 0\")\n",
    "        else:\n",
    "            self.equipment.write(\"ENBR 0\")\n",
    "        \n",
    "    def read_error(self):\n",
    "        return self.equipment.query(\"LERR?\").strip()\n",
    "\n",
    "device_address = 'GPIB0::28::INSTR'\n",
    "amplitude = .5   #dBm\n",
    "RF_freq_start = 5\n",
    "# initialize the RF generator\n",
    "rf_source = SG384(device_address)\n",
    "rf_source.set_frequency(RF_freq_start, 'Hz')\n",
    "rf_source.set_amplitude(amplitude, 'rms', 'BNC')\n",
    "rf_source.set_DC_offset(0)\n",
    "rf_source.enable_RF_signal('BNC')\n",
    "rf_source.get_DC_offset()"
   ]
  },
  {
   "cell_type": "code",
   "execution_count": 44,
   "metadata": {},
   "outputs": [],
   "source": [
    "rf_source.disable_RF_signal()"
   ]
  },
  {
   "cell_type": "code",
   "execution_count": null,
   "metadata": {},
   "outputs": [],
   "source": []
  }
 ],
 "metadata": {
  "kernelspec": {
   "display_name": "Python 3",
   "language": "python",
   "name": "python3"
  },
  "language_info": {
   "codemirror_mode": {
    "name": "ipython",
    "version": 3
   },
   "file_extension": ".py",
   "mimetype": "text/x-python",
   "name": "python",
   "nbconvert_exporter": "python",
   "pygments_lexer": "ipython3",
   "version": "3.6.5"
  }
 },
 "nbformat": 4,
 "nbformat_minor": 2
}

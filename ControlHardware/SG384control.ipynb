{
 "cells": [
  {
   "cell_type": "code",
   "execution_count": 10,
   "metadata": {},
   "outputs": [],
   "source": [
    "import sys\n",
    "sys.path.append(\"..\")\n",
    "import visa\n",
    "from pyvisa import util\n",
    "from LowLevelModules.SignalGenerator import SG384\n",
    "device_address = 'GPIB0::28::INSTR'\n",
    "amplitude = 10   #dBm\n",
    "RF_freq_start = 1\n",
    "# initialize the RF generator\n",
    "rf_source = SG384(device_address)\n",
    "rf_source.set_frequency(RF_freq_start, 'Hz')\n",
    "rf_source.set_amplitude(amplitude, 'dBm')\n",
    "rf_source.enable_RF_signal()"
   ]
  },
  {
   "cell_type": "code",
   "execution_count": 9,
   "metadata": {},
   "outputs": [
    {
     "name": "stdout",
     "output_type": "stream",
     "text": [
      "Current frequency is 5.000000 Hz\n"
     ]
    }
   ],
   "source": [
    "# set frequency of RF and check\n",
    "freq = 5\n",
    "rf_source.set_frequency(freq, 'Hz')\n",
    "curr_freq = rf_source.get_frequency('Hz')\n",
    "print(\"Current frequency is \" + str(curr_freq).strip() + \" Hz\")"
   ]
  },
  {
   "cell_type": "code",
   "execution_count": null,
   "metadata": {},
   "outputs": [],
   "source": [
    "# scan frequency\n",
    "import time\n",
    "import numpy as np\n",
    "\n",
    "for f in np.arange(0.8, 3.6, .1):\n",
    "    rf_source.set_frequency(f, 'GHz')\n",
    "    print(\"Frequency: \" + str(f), end='\\r')\n",
    "    time.sleep(1)\n",
    "    \n",
    "rf_source.disable_RF_signal()"
   ]
  },
  {
   "cell_type": "code",
   "execution_count": 17,
   "metadata": {},
   "outputs": [
    {
     "data": {
      "text/plain": [
       "(8, <StatusCode.success: 0>)"
      ]
     },
     "execution_count": 17,
     "metadata": {},
     "output_type": "execute_result"
    }
   ],
   "source": [
    "# disable the source\n",
    "rf_source.disable_RF_signal()"
   ]
  },
  {
   "cell_type": "code",
   "execution_count": null,
   "metadata": {},
   "outputs": [],
   "source": []
  }
 ],
 "metadata": {
  "kernelspec": {
   "display_name": "Python 3",
   "language": "python",
   "name": "python3"
  },
  "language_info": {
   "codemirror_mode": {
    "name": "ipython",
    "version": 3
   },
   "file_extension": ".py",
   "mimetype": "text/x-python",
   "name": "python",
   "nbconvert_exporter": "python",
   "pygments_lexer": "ipython3",
   "version": "3.6.5"
  }
 },
 "nbformat": 4,
 "nbformat_minor": 2
}

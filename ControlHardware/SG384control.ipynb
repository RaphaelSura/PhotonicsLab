{
 "cells": [
  {
   "cell_type": "code",
   "execution_count": 1,
   "metadata": {},
   "outputs": [],
   "source": [
    "import sys\n",
    "sys.path.append(\"..\")\n",
    "import visa\n",
    "from pyvisa import util\n",
    "from LowLevelModules.Instruments import SG384\n",
    "device_address = 'GPIB0::28::INSTR'\n",
    "amplitude = .1   #dBm\n",
    "RF_freq_start = 5\n",
    "# initialize the RF generator\n",
    "rf_source = SG384(device_address)\n",
    "rf_source.set_frequency(RF_freq_start, 'Hz')\n",
    "rf_source.set_amplitude(amplitude, 'rms')\n",
    "rf_source.enable_rf_signal()"
   ]
  },
  {
   "cell_type": "code",
   "execution_count": 2,
   "metadata": {},
   "outputs": [
    {
     "name": "stdout",
     "output_type": "stream",
     "text": [
      "Current frequency is 5000000.000000 Hz\n"
     ]
    }
   ],
   "source": [
    "# set frequency of RF and check\n",
    "freq = 5\n",
    "amp = 0.2\n",
    "rf_source.enable_rf_signal()\n",
    "rf_source.set_frequency(freq, 'MHz')\n",
    "rf_source.set_amplitude(amplitude, 'rms')\n",
    "curr_freq = rf_source.get_frequency('Hz')\n",
    "print(\"Current frequency is \" + str(curr_freq).strip() + \" Hz\")"
   ]
  },
  {
   "cell_type": "code",
   "execution_count": 14,
   "metadata": {},
   "outputs": [
    {
     "name": "stdout",
     "output_type": "stream",
     "text": [
      "Frequency: 49.799999999999996\r"
     ]
    }
   ],
   "source": [
    "# scan frequency\n",
    "import time\n",
    "import numpy as np\n",
    "\n",
    "rf_source.set_amplitude(.5, 'rms')\n",
    "rf_source.enable_rf_signal()\n",
    "for f in np.arange(1, 50, .2):\n",
    "    rf_source.set_frequency(f, 'MHz')\n",
    "    print(\"Frequency: \" + str(f), end='\\r')\n",
    "    time.sleep(.05)\n",
    "    \n",
    "#rf_source.disable_RF_signal()"
   ]
  },
  {
   "cell_type": "code",
   "execution_count": 15,
   "metadata": {},
   "outputs": [],
   "source": [
    "# disable the source\n",
    "rf_source.disable_rf_signal()"
   ]
  },
  {
   "cell_type": "code",
   "execution_count": null,
   "metadata": {},
   "outputs": [],
   "source": []
  }
 ],
 "metadata": {
  "kernelspec": {
   "display_name": "Python 3",
   "language": "python",
   "name": "python3"
  },
  "language_info": {
   "codemirror_mode": {
    "name": "ipython",
    "version": 3
   },
   "file_extension": ".py",
   "mimetype": "text/x-python",
   "name": "python",
   "nbconvert_exporter": "python",
   "pygments_lexer": "ipython3",
   "version": "3.7.0"
  }
 },
 "nbformat": 4,
 "nbformat_minor": 2
}

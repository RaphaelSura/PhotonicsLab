{
 "cells": [
  {
   "cell_type": "code",
   "execution_count": 14,
   "metadata": {},
   "outputs": [],
   "source": [
    "from LowLevelModules.SignalGenerator import SG384\n",
    "device_address = 'GPIB0::28::INSTR'\n",
    "amplitude = 5   #dBm\n",
    "RF_freq_start = .1\n",
    "# initialize the RF generator\n",
    "rf_source = SG384(device_address)\n",
    "rf_source.set_frequency(RF_freq_start, 'GHz')\n",
    "rf_source.set_amplitude(amplitude, 'dBm')\n",
    "rf_source.enable_RF_signal()"
   ]
  },
  {
   "cell_type": "code",
   "execution_count": 26,
   "metadata": {},
   "outputs": [
    {
     "name": "stdout",
     "output_type": "stream",
     "text": [
      "RF frequency (MHz):  200.000000000000\r\n",
      "\n",
      "RF amplitude (dBm):  5.00\r\n",
      "\n"
     ]
    }
   ],
   "source": [
    "# set frequency of RF and check\n",
    "freq = 0.5\n",
    "rf_source.set_frequency(freq, 'GHz')\n",
    "curr_freq = rf_source.get_frequency()\n",
    "print(\"Current frequency is \" + str(curr_freq) + \" GHz\")"
   ]
  },
  {
   "cell_type": "code",
   "execution_count": null,
   "metadata": {},
   "outputs": [],
   "source": [
    "# scan frequency\n",
    "import time\n",
    "import numpy as np\n",
    "\n",
    "for f in np.arange(0.8, 3.6, .1):\n",
    "    rf_source.set_frequency(f, 'GHz')\n",
    "    print(\"Frequency: \" + str(f), end='\\r')\n",
    "    time.sleep(1)\n",
    "    \n",
    "rf_source.disable_RF_signal()"
   ]
  },
  {
   "cell_type": "code",
   "execution_count": 17,
   "metadata": {},
   "outputs": [
    {
     "data": {
      "text/plain": [
       "(8, <StatusCode.success: 0>)"
      ]
     },
     "execution_count": 17,
     "metadata": {},
     "output_type": "execute_result"
    }
   ],
   "source": [
    "# disable the source\n",
    "rf_source.disable_RF_signal()"
   ]
  },
  {
   "cell_type": "code",
   "execution_count": null,
   "metadata": {},
   "outputs": [],
   "source": []
  }
 ],
 "metadata": {
  "kernelspec": {
   "display_name": "Python 3",
   "language": "python",
   "name": "python3"
  },
  "language_info": {
   "codemirror_mode": {
    "name": "ipython",
    "version": 3
   },
   "file_extension": ".py",
   "mimetype": "text/x-python",
   "name": "python",
   "nbconvert_exporter": "python",
   "pygments_lexer": "ipython3",
   "version": "3.6.5"
  }
 },
 "nbformat": 4,
 "nbformat_minor": 2
}

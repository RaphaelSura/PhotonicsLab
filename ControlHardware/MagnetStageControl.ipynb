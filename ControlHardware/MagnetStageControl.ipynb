{
 "cells": [
  {
   "cell_type": "code",
   "execution_count": 2,
   "metadata": {},
   "outputs": [],
   "source": [
    "######   ONLY RUN THIS ONCE   #########\n",
    "import sys\n",
    "sys.path.append(\"..\")\n",
    "from LowLevelModules.XPScontroller import XPSstage\n",
    "ip_address = '169.254.66.147'\n",
    "portnum = 5001\n",
    "# objective stage is #1, magnet stage is #2\n",
    "groupnum = 2\n",
    "# define and initialize the stage\n",
    "magnet = XPSstage(ip_address, portnum, groupnum)\n",
    "# Run this is the stage is not responding\n",
    "# magnet.initialize()"
   ]
  },
  {
   "cell_type": "code",
   "execution_count": 13,
   "metadata": {},
   "outputs": [
    {
     "data": {
      "text/plain": [
       "-49.999"
      ]
     },
     "execution_count": 13,
     "metadata": {},
     "output_type": "execute_result"
    }
   ],
   "source": [
    "#magnet.move_by(10)  #mm\n",
    "magnet.move_to(-50)  #mm\n",
    "magnet.read_position()"
   ]
  },
  {
   "cell_type": "code",
   "execution_count": null,
   "metadata": {},
   "outputs": [],
   "source": []
  }
 ],
 "metadata": {
  "kernelspec": {
   "display_name": "Python 3",
   "language": "python",
   "name": "python3"
  },
  "language_info": {
   "codemirror_mode": {
    "name": "ipython",
    "version": 3
   },
   "file_extension": ".py",
   "mimetype": "text/x-python",
   "name": "python",
   "nbconvert_exporter": "python",
   "pygments_lexer": "ipython3",
   "version": "3.6.5"
  }
 },
 "nbformat": 4,
 "nbformat_minor": 2
}

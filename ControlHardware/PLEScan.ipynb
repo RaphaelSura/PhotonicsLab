{
 "cells": [
  {
   "cell_type": "markdown",
   "metadata": {},
   "source": [
    "B13 setup"
   ]
  },
  {
   "cell_type": "code",
   "execution_count": 13,
   "metadata": {},
   "outputs": [
    {
     "data": {
      "text/plain": [
       "1"
      ]
     },
     "execution_count": 13,
     "metadata": {},
     "output_type": "execute_result"
    }
   ],
   "source": [
    "# write analog input onto DSC110 toptica scan\n",
    "import sys\n",
    "sys.path.append(\"..\")\n",
    "import matplotlib\n",
    "%matplotlib notebook\n",
    "import matplotlib.pyplot as plt\n",
    "from LowLevelModules.GeneralFunctions import *\n",
    "from LowLevelModules.NIdaqAPD import *\n",
    "from collections import deque\n",
    "from LowLevelModules.bristol_wavelength_meter_client import *\n",
    "import visa\n",
    "from pyvisa import util\n",
    "from LowLevelModules.Instruments import DG645\n",
    "DG645_address = 'GPIB0::15::INSTR'\n",
    "\n",
    "import nidaqmx\n",
    "import numpy as np\n",
    "import time\n",
    "\n",
    "bristolCOM=8\n",
    "\n",
    "bristol521handle=CLOpenUSBSerialDevice(bristolCOM)\n",
    "bristol521handle.CLSetLambdaUnits('nm')\n",
    "\n",
    "scan_terminal = '/Dev1/ao2'\n",
    "offset_voltage = 0\n",
    "\n",
    "# scan the FSM until the desired position\n",
    "task_toptica = nidaqmx.Task(\"Toptica scan\")\n",
    "output_volt = task_toptica.ao_channels.add_ao_voltage_chan(scan_terminal, 'Piezo scan', min_val=-5, max_val=5)\n",
    "task_toptica.write(offset_voltage, auto_start=True, timeout=5) # write a single data"
   ]
  },
  {
   "cell_type": "code",
   "execution_count": null,
   "metadata": {},
   "outputs": [],
   "source": [
    "# set DAQ counter clock output"
   ]
  },
  {
   "cell_type": "code",
   "execution_count": null,
   "metadata": {},
   "outputs": [],
   "source": [
    "# setup DG645 - 637, 737, RF switch\n",
    "# in us\n",
    "# Note - there is about 85 ns delay from external trigger to T0 rising edge\n",
    "\n",
    "time_per_point = 1e6 #us \n",
    "init_time = 1 # 637 nm\n",
    "PLE_time = 50 # 737 nm\n",
    "delay637 = 0\n",
    "delay737 = 0\n",
    "delay532 = 1.030\n",
    "\n",
    "delay_init = delay637\n",
    "delay_resonance = delay737\n",
    "\n",
    "marginFront = 0.100 # allow the excitation laser to truely turn off, let the defect decays to its ground state\n",
    "marginBack = 0.050\n",
    "# AB - 532, CD - 737, EF - 637 digital modulation, GH - RF switch\n",
    "BNC_532 = 1\n",
    "ch1_532 = 2\n",
    "ch2_532 = 3\n",
    "\n",
    "BNC_737 = 2\n",
    "ch1_737 = 4\n",
    "ch2_737 = 5\n",
    "\n",
    "BNC_637 = 3\n",
    "ch1_637 = 6\n",
    "ch2_637 = 7\n",
    "\n",
    "BNC_switch = 4\n",
    "ch1_switch = 8\n",
    "ch2_switch = 9\n",
    "\n",
    "BNC_init = BNC_637\n",
    "ch1_init = ch1_637\n",
    "ch2_init = ch2_637\n",
    "\n",
    "BNC_resonance = BNC_737\n",
    "ch1_resonance = ch1_737\n",
    "ch2_resonance = ch2_737\n",
    "\n",
    "darkTime = marginFront + PLE_time + marginBack # excitation laser off\n",
    "\n",
    "TTL_delay_resonance = max(0, delay_init + marginFront - delay_resonance )\n",
    "TTL_delay_init = max(0, delay_resonance - delay_init - marginFront)\n",
    "\n",
    "initMargin = 0.100\n",
    "\n",
    "cycleEndInitTime = max(initMargin, init_time - TTL_delay_init - delay_init)\n",
    "cycle_time = TTL_delay_init + delay_init + darkTime + cycleEndInitTime\n",
    "\n",
    "num_cycle = np.ceil(time_per_point/cycle_time)\n",
    "\n",
    "\n",
    "# set DG645 to burst mode\n",
    "dg_source = DG645(DG645_address)\n",
    "\n",
    "dg_source.set_delay(ch1_init,0,TTL_delay_init)\n",
    "dg_source.set_delay(ch2_init,ch1_init,darkTime)\n",
    "\n",
    "dg_source.set_delay(ch1_resonance,0,TTL_delay_resonance)\n",
    "dg_source.set_delay(ch2_resonance,ch1_resonance,PLE_time)\n",
    "\n",
    "dg_source.set_delay(ch1_switch,0,TTL_delay_resonance+delay_resonance)\n",
    "dg_source.set_delay(ch2_switch,ch1_switch,PLE_time)\n",
    "\n",
    "dg_source.set_burst_mode(1)\n",
    "dg_source.set_burst_period(cycle_time)\n",
    "dg_source.set_burst_delay(0)\n",
    "dg_source.set_burst_count(num_cycle)"
   ]
  },
  {
   "cell_type": "code",
   "execution_count": 16,
   "metadata": {},
   "outputs": [],
   "source": [
    "# scan laser frequency in discrete steps\n",
    "# software timed\n",
    "voltage = np.linspace(-1,1,50)\n",
    "for v in voltage:\n",
    "    task_toptica.write(v, auto_start=True, timeout=5)   \n",
    "    # output high on a digital channel\n",
    "    # ...\n",
    "    currentLambda = CLGetLambdaReading(bristol521handle)\n",
    "    currentPower = CLGetPowerReading(bristol521handle)\n",
    "    \n",
    "# Hardware timed \n",
    "# construct a list of voltages to write\n",
    "# generate an on board clock with the rate desired"
   ]
  },
  {
   "cell_type": "code",
   "execution_count": null,
   "metadata": {},
   "outputs": [],
   "source": []
  },
  {
   "cell_type": "code",
   "execution_count": 12,
   "metadata": {},
   "outputs": [],
   "source": [
    "# set instruments back to default state and close communication channels\n",
    "task_toptica.write(0)\n",
    "task_toptica.close()\n",
    "dg_source.close()"
   ]
  },
  {
   "cell_type": "code",
   "execution_count": null,
   "metadata": {},
   "outputs": [],
   "source": []
  },
  {
   "cell_type": "code",
   "execution_count": null,
   "metadata": {},
   "outputs": [],
   "source": []
  }
 ],
 "metadata": {
  "kernelspec": {
   "display_name": "Python 3",
   "language": "python",
   "name": "python3"
  },
  "language_info": {
   "codemirror_mode": {
    "name": "ipython",
    "version": 3
   },
   "file_extension": ".py",
   "mimetype": "text/x-python",
   "name": "python",
   "nbconvert_exporter": "python",
   "pygments_lexer": "ipython3",
   "version": "3.7.0"
  }
 },
 "nbformat": 4,
 "nbformat_minor": 2
}

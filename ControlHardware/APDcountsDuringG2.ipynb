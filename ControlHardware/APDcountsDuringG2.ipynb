{
 "cells": [
  {
   "cell_type": "code",
   "execution_count": 10,
   "metadata": {},
   "outputs": [],
   "source": [
    "import sys\n",
    "sys.path.append(\"..\")\n",
    "\n",
    "from LowLevelModules.NIdaqAPD import APDCounter, ExtClock\n",
    "import time\n",
    "import numpy as np\n",
    "terminal1 = '/Dev1/PFI1'\n",
    "terminal2 = '/Dev1/PFI5'\n",
    "\n",
    "import time\n"
   ]
  },
  {
   "cell_type": "code",
   "execution_count": 11,
   "metadata": {},
   "outputs": [
    {
     "name": "stdout",
     "output_type": "stream",
     "text": [
      "Started at Mon May 13 14:43:45 2019\n"
     ]
    }
   ],
   "source": [
    "# run this when you start g2 measurement\n",
    "APD1 = APDCounter(terminal1, ctr=1, task_name=\"APD1\")\n",
    "APD2 = APDCounter(terminal2, ctr=2, task_name=\"APD2\")\n",
    "# start task and count\n",
    "t_start = time.time()\n",
    "t_collect = 6\n",
    "\n",
    "APD1.start()\n",
    "APD2.start()\n",
    "print(\"Started at \" + time.strftime(\"%a %b %d %H:%M:%S %Y\"))\n",
    "    \n"
   ]
  },
  {
   "cell_type": "code",
   "execution_count": 12,
   "metadata": {},
   "outputs": [
    {
     "name": "stdout",
     "output_type": "stream",
     "text": [
      "Time elapsed: 2.148 seconds\n",
      "Total counts: APD1 97.451 kcts,   APD2 112.991 kcts\n",
      "APD1 count rate: 45.366 kHz\n",
      "APD2 count rate: 52.6 kHz\n"
     ]
    }
   ],
   "source": [
    "# run this when the g2 measurement is done\n",
    "delta_t = time.time() - t_start\n",
    "cts1 = APD1.read() / 1000\n",
    "cts2 = APD2.read() / 1000\n",
    "APD1.close()\n",
    "APD2.close()\n",
    "print(\"Time elapsed:\", np.round(delta_t, 3), \"seconds\")\n",
    "print(\"Total counts: APD1\", cts1, \"kcts,   APD2\", cts2, \"kcts\")\n",
    "print(\"APD1 count rate:\", np.round(cts1/delta_t, 3), \"kHz\")\n",
    "print(\"APD2 count rate:\", np.round(cts2/delta_t, 3), \"kHz\")"
   ]
  },
  {
   "cell_type": "code",
   "execution_count": 13,
   "metadata": {},
   "outputs": [
    {
     "name": "stderr",
     "output_type": "stream",
     "text": [
      "c:\\users\\user\\appdata\\local\\programs\\python\\python36-32\\lib\\site-packages\\nidaqmx\\task.py:463: ResourceWarning: Attempted to close NI-DAQmx task of name \"APD1\" but task was already closed.\n",
      "  'already closed.'.format(self._saved_name), DaqResourceWarning)\n",
      "c:\\users\\user\\appdata\\local\\programs\\python\\python36-32\\lib\\site-packages\\nidaqmx\\task.py:463: ResourceWarning: Attempted to close NI-DAQmx task of name \"APD2\" but task was already closed.\n",
      "  'already closed.'.format(self._saved_name), DaqResourceWarning)\n"
     ]
    }
   ],
   "source": [
    "# in case something goes wrong or you just want to close the APD tasks\n",
    "APD1.close()\n",
    "APD2.close()"
   ]
  },
  {
   "cell_type": "code",
   "execution_count": null,
   "metadata": {},
   "outputs": [],
   "source": []
  }
 ],
 "metadata": {
  "kernelspec": {
   "display_name": "Python 3",
   "language": "python",
   "name": "python3"
  },
  "language_info": {
   "codemirror_mode": {
    "name": "ipython",
    "version": 3
   },
   "file_extension": ".py",
   "mimetype": "text/x-python",
   "name": "python",
   "nbconvert_exporter": "python",
   "pygments_lexer": "ipython3",
   "version": "3.6.5"
  }
 },
 "nbformat": 4,
 "nbformat_minor": 2
}

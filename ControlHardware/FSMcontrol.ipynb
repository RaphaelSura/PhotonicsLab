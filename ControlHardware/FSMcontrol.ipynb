{
 "cells": [
  {
   "cell_type": "code",
   "execution_count": 1,
   "metadata": {},
   "outputs": [
    {
     "name": "stdout",
     "output_type": "stream",
     "text": [
      "x: volts: -0.3596562955127338 um -3.071812830862216\n",
      "y: volts: 0.0463080256290676 um 0.28672558349622274\n"
     ]
    }
   ],
   "source": [
    "# write and read from the FSM and compare with LabVIEW vi\n",
    "import nidaqmx\n",
    "import numpy as np\n",
    "\n",
    "scaling = 1.00457\n",
    "conversion = {'x': 8.58/scaling, 'y': 6.22/scaling}\n",
    "\n",
    "def microm_to_volts(pos_in_microm, axis):\n",
    "    return pos_in_microm / conversion[axis]\n",
    "\n",
    "def volts_to_microm(pos_in_volts, axis):\n",
    "    return pos_in_volts * conversion[axis]\n",
    "\n",
    "\n",
    "x_terminal = '/Dev1/ai1'\n",
    "y_terminal = '/Dev1/ai0'\n",
    "with nidaqmx.Task() as x_task:\n",
    "    x_task.ai_channels.add_ai_voltage_chan(x_terminal)\n",
    "    curr_pos = x_task.read(number_of_samples_per_channel=8)\n",
    "    curr_pos = np.mean(curr_pos)\n",
    "    print('x: volts:', curr_pos, 'um', volts_to_microm(curr_pos, 'x'))\n",
    "    \n",
    "with nidaqmx.Task() as y_task:\n",
    "    y_task.ai_channels.add_ai_voltage_chan(y_terminal)\n",
    "    curr_pos = y_task.read(number_of_samples_per_channel=8)\n",
    "    curr_pos = np.mean(curr_pos)\n",
    "    print('y: volts:', curr_pos, 'um', volts_to_microm(curr_pos, 'y'))\n"
   ]
  },
  {
   "cell_type": "code",
   "execution_count": 2,
   "metadata": {},
   "outputs": [
    {
     "name": "stdout",
     "output_type": "stream",
     "text": [
      "Old y: volts: 0.0466367582859122 um 0.2887609987739768\n",
      "y: volts: 0.149468438858534 um 0.9254643177678823\n"
     ]
    }
   ],
   "source": [
    "import time\n",
    "# go to a position --> use smooth sinusoidal sweeping from start to end position\n",
    "x_terminal_out = '/Dev1/ao1'\n",
    "y_terminal_out = '/Dev1/ao0'\n",
    "new_y = 1   # um\n",
    "scan_freq = 1000\n",
    "n_pts = 200\n",
    "\n",
    "# read current position\n",
    "with nidaqmx.Task() as y_task:\n",
    "    y_task.ai_channels.add_ai_voltage_chan(y_terminal)\n",
    "    curr_pos = y_task.read()\n",
    "    print('Old y: volts:', curr_pos, 'um', volts_to_microm(curr_pos, 'y'))\n",
    "\n",
    "# make sine-like profile for sweeping the values from one position to the next\n",
    "delta_pos = microm_to_volts(new_y, 'y') - curr_pos\n",
    "x_sine = np.linspace(-np.pi/2, np.pi/2, n_pts)\n",
    "vsweep_array = (np.sin(x_sine)+1)/2*delta_pos + curr_pos\n",
    "\n",
    "# scan the FSM until the desired position\n",
    "with nidaqmx.Task() as task:\n",
    "    output_volt = task.ao_channels.add_ao_voltage_chan(y_terminal_out, 'FSM y axis', min_val=-3.5, max_val=3.5)\n",
    "    #output_volt.ao_term_cfg = nidaqmx.constants.TerminalConfiguration.DEFAULT\n",
    "    \n",
    "    task.timing.samp_timing_type = nidaqmx.constants.SampleTimingType.SAMPLE_CLOCK\n",
    "    task.timing.samp_quant_samp_mode = nidaqmx.constants.AcquisitionType.FINITE\n",
    "    task.timing.samp_quant_samp_per_channel = n_pts\n",
    "    task.timing.samp_clk_rate = scan_freq\n",
    "    task.timing.samp_clk_active_edge = nidaqmx.constants.Edge.RISING\n",
    "    #task.timing.samp_clk_src = \n",
    "    \n",
    "    task.write(vsweep_array, auto_start=True, timeout=5)\n",
    "    task.wait_until_done(timeout=5)\n",
    "\n",
    "# read the new position\n",
    "with nidaqmx.Task() as y_task:\n",
    "    y_task.ai_channels.add_ai_voltage_chan(y_terminal)\n",
    "    curr_pos = y_task.read(number_of_samples_per_channel=8)\n",
    "    curr_pos = np.mean(curr_pos)\n",
    "    print('y: volts:', curr_pos, 'um', volts_to_microm(curr_pos, 'y'))"
   ]
  },
  {
   "cell_type": "code",
   "execution_count": null,
   "metadata": {},
   "outputs": [],
   "source": [
    "# scan_size = 10   #um\n",
    "# mesh_size = 100  #number of points per line scan\n",
    "# scan_rate = 100  #Hz\n",
    "# terminal = \"/Dev1/PFI1\"\n",
    "\n",
    "pts = np.linspace(-scan_size/2, scan_size/2, 100)\n",
    "\n",
    "for i in pts:\n",
    "    for j in pts:\n",
    "        # move to position i, j\n",
    "        # read position\n",
    "        # read APD counts\n",
    "        # append new data and plot"
   ]
  }
 ],
 "metadata": {
  "kernelspec": {
   "display_name": "Python 3",
   "language": "python",
   "name": "python3"
  },
  "language_info": {
   "codemirror_mode": {
    "name": "ipython",
    "version": 3
   },
   "file_extension": ".py",
   "mimetype": "text/x-python",
   "name": "python",
   "nbconvert_exporter": "python",
   "pygments_lexer": "ipython3",
   "version": "3.6.5"
  }
 },
 "nbformat": 4,
 "nbformat_minor": 2
}

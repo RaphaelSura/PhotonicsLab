{
 "cells": [
  {
   "cell_type": "code",
   "execution_count": 1,
   "metadata": {},
   "outputs": [
    {
     "ename": "DaqError",
     "evalue": "The specified resource is reserved. The operation could not be completed as specified.\nTask Name: _unnamedTask<0>\n\nStatus Code: -50103",
     "output_type": "error",
     "traceback": [
      "\u001b[1;31m---------------------------------------------------------------------------\u001b[0m",
      "\u001b[1;31mDaqError\u001b[0m                                  Traceback (most recent call last)",
      "\u001b[1;32m<ipython-input-1-07d685d2cf6a>\u001b[0m in \u001b[0;36m<module>\u001b[1;34m()\u001b[0m\n\u001b[0;32m     17\u001b[0m \u001b[1;32mwith\u001b[0m \u001b[0mnidaqmx\u001b[0m\u001b[1;33m.\u001b[0m\u001b[0mTask\u001b[0m\u001b[1;33m(\u001b[0m\u001b[1;33m)\u001b[0m \u001b[1;32mas\u001b[0m \u001b[0mx_task\u001b[0m\u001b[1;33m:\u001b[0m\u001b[1;33m\u001b[0m\u001b[0m\n\u001b[0;32m     18\u001b[0m     \u001b[0mx_task\u001b[0m\u001b[1;33m.\u001b[0m\u001b[0mai_channels\u001b[0m\u001b[1;33m.\u001b[0m\u001b[0madd_ai_voltage_chan\u001b[0m\u001b[1;33m(\u001b[0m\u001b[0mx_terminal\u001b[0m\u001b[1;33m)\u001b[0m\u001b[1;33m\u001b[0m\u001b[0m\n\u001b[1;32m---> 19\u001b[1;33m     \u001b[0mcurr_pos\u001b[0m \u001b[1;33m=\u001b[0m \u001b[0mx_task\u001b[0m\u001b[1;33m.\u001b[0m\u001b[0mread\u001b[0m\u001b[1;33m(\u001b[0m\u001b[0mnumber_of_samples_per_channel\u001b[0m\u001b[1;33m=\u001b[0m\u001b[1;36m8\u001b[0m\u001b[1;33m)\u001b[0m\u001b[1;33m\u001b[0m\u001b[0m\n\u001b[0m\u001b[0;32m     20\u001b[0m     \u001b[0mcurr_pos\u001b[0m \u001b[1;33m=\u001b[0m \u001b[0mnp\u001b[0m\u001b[1;33m.\u001b[0m\u001b[0mmean\u001b[0m\u001b[1;33m(\u001b[0m\u001b[0mcurr_pos\u001b[0m\u001b[1;33m)\u001b[0m\u001b[1;33m\u001b[0m\u001b[0m\n\u001b[0;32m     21\u001b[0m     \u001b[0mprint\u001b[0m\u001b[1;33m(\u001b[0m\u001b[1;34m'x: volts:'\u001b[0m\u001b[1;33m,\u001b[0m \u001b[0mcurr_pos\u001b[0m\u001b[1;33m,\u001b[0m \u001b[1;34m'um'\u001b[0m\u001b[1;33m,\u001b[0m \u001b[0mvolts_to_microm\u001b[0m\u001b[1;33m(\u001b[0m\u001b[0mcurr_pos\u001b[0m\u001b[1;33m,\u001b[0m \u001b[1;34m'x'\u001b[0m\u001b[1;33m)\u001b[0m\u001b[1;33m)\u001b[0m\u001b[1;33m\u001b[0m\u001b[0m\n",
      "\u001b[1;32mc:\\users\\user\\appdata\\local\\programs\\python\\python36-32\\lib\\site-packages\\nidaqmx\\task.py\u001b[0m in \u001b[0;36mread\u001b[1;34m(self, number_of_samples_per_channel, timeout)\u001b[0m\n\u001b[0;32m    627\u001b[0m             \u001b[0mdata\u001b[0m \u001b[1;33m=\u001b[0m \u001b[0mnumpy\u001b[0m\u001b[1;33m.\u001b[0m\u001b[0mzeros\u001b[0m\u001b[1;33m(\u001b[0m\u001b[0marray_shape\u001b[0m\u001b[1;33m,\u001b[0m \u001b[0mdtype\u001b[0m\u001b[1;33m=\u001b[0m\u001b[0mnumpy\u001b[0m\u001b[1;33m.\u001b[0m\u001b[0mfloat64\u001b[0m\u001b[1;33m)\u001b[0m\u001b[1;33m\u001b[0m\u001b[0m\n\u001b[0;32m    628\u001b[0m             samples_read = _read_analog_f_64(\n\u001b[1;32m--> 629\u001b[1;33m                 self._handle, data, number_of_samples_per_channel, timeout)\n\u001b[0m\u001b[0;32m    630\u001b[0m \u001b[1;33m\u001b[0m\u001b[0m\n\u001b[0;32m    631\u001b[0m         \u001b[1;31m# Digital Input or Digital Output\u001b[0m\u001b[1;33m\u001b[0m\u001b[1;33m\u001b[0m\u001b[0m\n",
      "\u001b[1;32mc:\\users\\user\\appdata\\local\\programs\\python\\python36-32\\lib\\site-packages\\nidaqmx\\_task_modules\\read_functions.py\u001b[0m in \u001b[0;36m_read_analog_f_64\u001b[1;34m(task_handle, read_array, num_samps_per_chan, timeout, fill_mode)\u001b[0m\n\u001b[0;32m     33\u001b[0m         \u001b[0mread_array\u001b[0m\u001b[1;33m,\u001b[0m \u001b[0mnumpy\u001b[0m\u001b[1;33m.\u001b[0m\u001b[0mprod\u001b[0m\u001b[1;33m(\u001b[0m\u001b[0mread_array\u001b[0m\u001b[1;33m.\u001b[0m\u001b[0mshape\u001b[0m\u001b[1;33m)\u001b[0m\u001b[1;33m,\u001b[0m\u001b[1;33m\u001b[0m\u001b[0m\n\u001b[0;32m     34\u001b[0m         ctypes.byref(samps_per_chan_read), None)\n\u001b[1;32m---> 35\u001b[1;33m     \u001b[0mcheck_for_error\u001b[0m\u001b[1;33m(\u001b[0m\u001b[0merror_code\u001b[0m\u001b[1;33m)\u001b[0m\u001b[1;33m\u001b[0m\u001b[0m\n\u001b[0m\u001b[0;32m     36\u001b[0m \u001b[1;33m\u001b[0m\u001b[0m\n\u001b[0;32m     37\u001b[0m     \u001b[1;32mreturn\u001b[0m \u001b[0msamps_per_chan_read\u001b[0m\u001b[1;33m.\u001b[0m\u001b[0mvalue\u001b[0m\u001b[1;33m\u001b[0m\u001b[0m\n",
      "\u001b[1;32mc:\\users\\user\\appdata\\local\\programs\\python\\python36-32\\lib\\site-packages\\nidaqmx\\errors.py\u001b[0m in \u001b[0;36mcheck_for_error\u001b[1;34m(error_code)\u001b[0m\n\u001b[0;32m    125\u001b[0m         \u001b[0mcfunc\u001b[0m\u001b[1;33m(\u001b[0m\u001b[0merror_buffer\u001b[0m\u001b[1;33m,\u001b[0m \u001b[1;36m2048\u001b[0m\u001b[1;33m)\u001b[0m\u001b[1;33m\u001b[0m\u001b[0m\n\u001b[0;32m    126\u001b[0m \u001b[1;33m\u001b[0m\u001b[0m\n\u001b[1;32m--> 127\u001b[1;33m         \u001b[1;32mraise\u001b[0m \u001b[0mDaqError\u001b[0m\u001b[1;33m(\u001b[0m\u001b[0merror_buffer\u001b[0m\u001b[1;33m.\u001b[0m\u001b[0mvalue\u001b[0m\u001b[1;33m.\u001b[0m\u001b[0mdecode\u001b[0m\u001b[1;33m(\u001b[0m\u001b[1;34m\"utf-8\"\u001b[0m\u001b[1;33m)\u001b[0m\u001b[1;33m,\u001b[0m \u001b[0merror_code\u001b[0m\u001b[1;33m)\u001b[0m\u001b[1;33m\u001b[0m\u001b[0m\n\u001b[0m\u001b[0;32m    128\u001b[0m \u001b[1;33m\u001b[0m\u001b[0m\n\u001b[0;32m    129\u001b[0m     \u001b[1;32melif\u001b[0m \u001b[0merror_code\u001b[0m \u001b[1;33m>\u001b[0m \u001b[1;36m0\u001b[0m\u001b[1;33m:\u001b[0m\u001b[1;33m\u001b[0m\u001b[0m\n",
      "\u001b[1;31mDaqError\u001b[0m: The specified resource is reserved. The operation could not be completed as specified.\nTask Name: _unnamedTask<0>\n\nStatus Code: -50103"
     ]
    }
   ],
   "source": [
    "# write and read from the FSM and compare with LabVIEW vi\n",
    "import nidaqmx\n",
    "import numpy as np\n",
    "\n",
    "scaling = 1.00457\n",
    "conversion = {'x': 8.58/scaling, 'y': 6.22/scaling}\n",
    "\n",
    "def microm_to_volts(pos_in_microm, axis):\n",
    "    return pos_in_microm / conversion[axis]\n",
    "\n",
    "def volts_to_microm(pos_in_volts, axis):\n",
    "    return pos_in_volts * conversion[axis]\n",
    "\n",
    "\n",
    "x_terminal = '/Dev1/ai1'\n",
    "y_terminal = '/Dev1/ai0'\n",
    "with nidaqmx.Task() as x_task:\n",
    "    x_task.ai_channels.add_ai_voltage_chan(x_terminal)\n",
    "    curr_pos = x_task.read(number_of_samples_per_channel=8)\n",
    "    curr_pos = np.mean(curr_pos)\n",
    "    print('x: volts:', curr_pos, 'um', volts_to_microm(curr_pos, 'x'))\n",
    "    \n",
    "with nidaqmx.Task() as y_task:\n",
    "    y_task.ai_channels.add_ai_voltage_chan(y_terminal)\n",
    "    curr_pos = y_task.read(number_of_samples_per_channel=8)\n",
    "    curr_pos = np.mean(curr_pos)\n",
    "    print('y: volts:', curr_pos, 'um', volts_to_microm(curr_pos, 'y'))\n"
   ]
  },
  {
   "cell_type": "code",
   "execution_count": 73,
   "metadata": {},
   "outputs": [
    {
     "name": "stdout",
     "output_type": "stream",
     "text": [
      "Old y: volts: 0.7964756654459785 um 4.931541494444375\n",
      "y: volts: 0.14942734727945525 um 0.9252098908769042\n"
     ]
    }
   ],
   "source": [
    "import time\n",
    "# go to a position --> use smooth sinusoidal sweeping from start to end position\n",
    "x_terminal_out = '/Dev1/ao1'\n",
    "y_terminal_out = '/Dev1/ao0'\n",
    "new_y = 1   # um\n",
    "scan_freq = 1000\n",
    "n_pts = 200\n",
    "\n",
    "# read current position\n",
    "with nidaqmx.Task() as y_task:\n",
    "    y_task.ai_channels.add_ai_voltage_chan(y_terminal)\n",
    "    curr_pos = y_task.read()\n",
    "    print('Old y: volts:', curr_pos, 'um', volts_to_microm(curr_pos, 'y'))\n",
    "\n",
    "# make sine-like profile for sweeping the values from one position to the next\n",
    "delta_pos = microm_to_volts(new_y, 'y') - curr_pos\n",
    "x_sine = np.linspace(-np.pi/2, np.pi/2, n_pts)\n",
    "vsweep_array = (np.sin(x_sine)+1)/2*delta_pos + curr_pos\n",
    "\n",
    "# scan the FSM until the desired position\n",
    "with nidaqmx.Task() as task:\n",
    "    output_volt = task.ao_channels.add_ao_voltage_chan(y_terminal_out, 'FSM y axis', min_val=-3.5, max_val=3.5)\n",
    "    #output_volt.ao_term_cfg = nidaqmx.constants.TerminalConfiguration.DEFAULT\n",
    "    \n",
    "    task.timing.samp_timing_type = nidaqmx.constants.SampleTimingType.SAMPLE_CLOCK\n",
    "    task.timing.samp_quant_samp_mode = nidaqmx.constants.AcquisitionType.FINITE\n",
    "    task.timing.samp_quant_samp_per_channel = n_pts\n",
    "    task.timing.samp_clk_rate = scan_freq\n",
    "    task.timing.samp_clk_active_edge = nidaqmx.constants.Edge.RISING\n",
    "    #task.timing.samp_clk_src = \n",
    "    \n",
    "    task.write(vsweep_array, auto_start=True, timeout=5)\n",
    "    task.wait_until_done(timeout=5)\n",
    "\n",
    "# read the new position\n",
    "with nidaqmx.Task() as y_task:\n",
    "    y_task.ai_channels.add_ai_voltage_chan(y_terminal)\n",
    "    curr_pos = y_task.read(number_of_samples_per_channel=8)\n",
    "    curr_pos = np.mean(curr_pos)\n",
    "    print('y: volts:', curr_pos, 'um', volts_to_microm(curr_pos, 'y'))"
   ]
  },
  {
   "cell_type": "code",
   "execution_count": null,
   "metadata": {},
   "outputs": [],
   "source": [
    "# scan_size = 10   #um\n",
    "# mesh_size = 100  #number of points per line scan\n",
    "# scan_rate = 100  #Hz\n",
    "# terminal = \"/Dev1/PFI1\"\n",
    "\n",
    "pts = np.linspace(-scan_size/2, scan_size/2, 100)\n",
    "\n",
    "for i in pts:\n",
    "    for j in pts:\n",
    "        # move to position i, j\n",
    "        # read position\n",
    "        # read APD counts\n",
    "        # append new data and plot"
   ]
  }
 ],
 "metadata": {
  "kernelspec": {
   "display_name": "Python 3",
   "language": "python",
   "name": "python3"
  },
  "language_info": {
   "codemirror_mode": {
    "name": "ipython",
    "version": 3
   },
   "file_extension": ".py",
   "mimetype": "text/x-python",
   "name": "python",
   "nbconvert_exporter": "python",
   "pygments_lexer": "ipython3",
   "version": "3.6.5"
  }
 },
 "nbformat": 4,
 "nbformat_minor": 2
}

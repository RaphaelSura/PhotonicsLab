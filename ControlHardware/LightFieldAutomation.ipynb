{
 "cells": [
  {
   "cell_type": "code",
   "execution_count": 5,
   "metadata": {},
   "outputs": [],
   "source": [
    "import clr\n",
    "import sys\n",
    "import os\n",
    "from System.IO import *\n",
    "from System import String\n",
    "from System.Collections.Generic import List\n",
    "\n",
    "#needed dll\n",
    "sys.path.append(os.environ['LIGHTFIELD_ROOT'])\n",
    "sys.path.append(os.environ['LIGHTFIELD_ROOT']+'\\\\AddInViews')\n",
    "clr.AddReference('PrincetonInstruments.LightFieldViewV5')\n",
    "clr.AddReference('PrincetonInstruments.LightField.AutomationV5')\n",
    "clr.AddReference('PrincetonInstruments.LightFieldAddInSupportServices')\n",
    "\n",
    "# PI imports\n",
    "import PrincetonInstruments.LightField.AddIns as AddIns\n",
    "from PrincetonInstruments.LightField.Automation import Automation\n",
    "from PrincetonInstruments.LightField.AddIns import CameraSettings\n",
    "from PrincetonInstruments.LightField.AddIns import DeviceType"
   ]
  },
  {
   "cell_type": "code",
   "execution_count": 7,
   "metadata": {},
   "outputs": [],
   "source": [
    "def set_value(setting, value):\n",
    "    # Check for existence before setting\n",
    "    # gain, adc rate, or adc quality\n",
    "    if experiment.Exists(setting):\n",
    "        experiment.SetValue(setting, value)\n",
    "\n",
    "def device_found():\n",
    "    # Find connected device\n",
    "    for device in experiment.ExperimentDevices:\n",
    "        if (device.Type == DeviceType.Camera):\n",
    "            return True\n",
    "        else:\n",
    "            return False\n",
    "        \n",
    "# Create the LightField Application (true for visible)\n",
    "# The 2nd parameter forces LF to load with no experiment\n",
    "auto = Automation(True, List[String]())\n",
    "\n",
    "# Get experiment object\n",
    "experiment = auto.LightFieldApplication.Experiment\n",
    "\n",
    "if device_found():\n",
    "    #Set exposure time\n",
    "    set_value(CameraSettings.ShutterTimingExposureTime, 200.0) #ms\n",
    "    # Acquire image\n",
    "    experiment.Acquire()"
   ]
  },
  {
   "cell_type": "code",
   "execution_count": null,
   "metadata": {},
   "outputs": [],
   "source": []
  }
 ],
 "metadata": {
  "kernelspec": {
   "display_name": "Python 3",
   "language": "python",
   "name": "python3"
  },
  "language_info": {
   "codemirror_mode": {
    "name": "ipython",
    "version": 3
   },
   "file_extension": ".py",
   "mimetype": "text/x-python",
   "name": "python",
   "nbconvert_exporter": "python",
   "pygments_lexer": "ipython3",
   "version": "3.6.8"
  }
 },
 "nbformat": 4,
 "nbformat_minor": 2
}

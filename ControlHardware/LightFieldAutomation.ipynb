{
 "cells": [
  {
   "cell_type": "code",
   "execution_count": 1,
   "metadata": {},
   "outputs": [],
   "source": [
    "import os\n",
    "import sys\n",
    "sys.path.append(\"..\")\n",
    "import time\n",
    "import numpy as np\n",
    "import matplotlib\n",
    "%matplotlib notebook\n",
    "import matplotlib.pyplot as plt\n",
    "from LowLevelModules.Spectroscopy import Spectrum\n",
    "from LowLevelModules.GeneralFunctions import LivePlot2D, prettify_2d_plot\n",
    "from LowLevelModules.LightField import LightField\n",
    "\n",
    "# Initialize LightField --> make sure LF is closed before starting this initialization\n",
    "LFauto = LightField()"
   ]
  },
  {
   "cell_type": "markdown",
   "metadata": {},
   "source": [
    "Keithley stuff"
   ]
  },
  {
   "cell_type": "code",
   "execution_count": 2,
   "metadata": {},
   "outputs": [],
   "source": [
    "from pymeasure.instruments.keithley import Keithley2400\n",
    "keithley = Keithley2400(\"GPIB0::24::INSTR\")   # 'ASRL9::INSTR' if RS232 connection\n",
    "keithley.apply_voltage()                      # Sets up to source voltage\n",
    "keithley.source_voltage_range = 50             # Sets the source voltage range to 1 V\n",
    "keithley.compliance_current = 20e-6            # Sets the compliance current to 1 mA\n",
    "keithley.source_voltage = 0                   # Sets the source current to 0 mA\n",
    "keithley.measure_current()                    # Sets up to measure voltage"
   ]
  },
  {
   "cell_type": "code",
   "execution_count": 3,
   "metadata": {},
   "outputs": [
    {
     "data": {
      "application/vnd.jupyter.widget-view+json": {
       "model_id": "a1b5caa25ee4448a95c33883c18a99c7",
       "version_major": 2,
       "version_minor": 0
      },
      "text/plain": [
       "Checkbox(value=False, description='Remove CCD etaloning')"
      ]
     },
     "metadata": {},
     "output_type": "display_data"
    },
    {
     "data": {
      "application/vnd.jupyter.widget-view+json": {
       "model_id": "71e96d8e0a7b4dc29f34ae441de80607",
       "version_major": 2,
       "version_minor": 0
      },
      "text/plain": [
       "RadioButtons(description='X axis unit:', options=('Wavelength (nm)', 'Energy (eV)'), value='Wavelength (nm)')"
      ]
     },
     "metadata": {},
     "output_type": "display_data"
    },
    {
     "data": {
      "application/vnd.jupyter.widget-view+json": {
       "model_id": "f85d7e3e944d4ffea34fbeab572453d2",
       "version_major": 2,
       "version_minor": 0
      },
      "text/plain": [
       "Text(value='Z:\\\\Projects\\\\WSe2\\\\2019', description='Directory: ')"
      ]
     },
     "metadata": {},
     "output_type": "display_data"
    },
    {
     "data": {
      "application/vnd.jupyter.widget-view+json": {
       "model_id": "abfe211ea3c342d7a771623ea206b58d",
       "version_major": 2,
       "version_minor": 0
      },
      "text/plain": [
       "Text(value='WSe2', description='Filename: ')"
      ]
     },
     "metadata": {},
     "output_type": "display_data"
    },
    {
     "data": {
      "application/vnd.jupyter.widget-view+json": {
       "model_id": "43cb941d21954a37a762c78967c16138",
       "version_major": 2,
       "version_minor": 0
      },
      "text/plain": [
       "IntSlider(value=10, continuous_update=False, description='Acq. time:', max=60)"
      ]
     },
     "metadata": {},
     "output_type": "display_data"
    },
    {
     "data": {
      "application/vnd.jupyter.widget-view+json": {
       "model_id": "d91549a655204dcea4416ee03a0f83fa",
       "version_major": 2,
       "version_minor": 0
      },
      "text/plain": [
       "IntRangeSlider(value=(-5, 5), continuous_update=False, description='V range:', max=20, min=-20)"
      ]
     },
     "metadata": {},
     "output_type": "display_data"
    }
   ],
   "source": [
    "import ipywidgets as widgets\n",
    "from IPython.display import display\n",
    "\n",
    "etaloning_choice = widgets.Checkbox(value=False, description='Remove CCD etaloning')\n",
    "x_axis_choice = widgets.RadioButtons(options=['Wavelength (nm)', 'Energy (eV)'],\n",
    "                                     value='Wavelength (nm)',\n",
    "                                     description='X axis unit:')\n",
    "base_dir_widg = widgets.Text(value=r'Z:\\Projects\\WSe2\\2019',\n",
    "                            description='Directory: ',\n",
    "                            disabled=False)\n",
    "base_name_widg = widgets.Text(value='WSe2',\n",
    "                              description='Filename: ',\n",
    "                              disabled=False)\n",
    "acq_time_widg = widgets.IntSlider(value=10,\n",
    "                                  min=0,\n",
    "                                  max=60,\n",
    "                                  step=1,\n",
    "                                  description='Acq. time:',\n",
    "                                  disabled=False,\n",
    "                                  continuous_update=False,\n",
    "                                  orientation='horizontal',\n",
    "                                  readout=True,\n",
    "                                  readout_format='d'\n",
    "                            )\n",
    "v_range_widg = widgets.IntRangeSlider(value=[-5, 5],\n",
    "                                      min=-20,\n",
    "                                      max=20,\n",
    "                                      step=1,\n",
    "                                      description='V range:',\n",
    "                                      disabled=False,\n",
    "                                      continuous_update=False,\n",
    "                                      orientation='horizontal',\n",
    "                                      readout=True,\n",
    "                                      readout_format='d')\n",
    "\n",
    "display(etaloning_choice)\n",
    "display(x_axis_choice)\n",
    "display(base_dir_widg)\n",
    "display(base_name_widg)\n",
    "display(acq_time_widg)\n",
    "display(v_range_widg)"
   ]
  },
  {
   "cell_type": "code",
   "execution_count": 4,
   "metadata": {
    "scrolled": false
   },
   "outputs": [
    {
     "ename": "KeyboardInterrupt",
     "evalue": "",
     "output_type": "error",
     "traceback": [
      "\u001b[1;31m---------------------------------------------------------------------------\u001b[0m",
      "\u001b[1;31mKeyboardInterrupt\u001b[0m                         Traceback (most recent call last)",
      "\u001b[1;32m<ipython-input-4-004bb8a9a670>\u001b[0m in \u001b[0;36m<module>\u001b[1;34m()\u001b[0m\n\u001b[0;32m     18\u001b[0m \u001b[0mkeithley\u001b[0m\u001b[1;33m.\u001b[0m\u001b[0mramp_to_voltage\u001b[0m\u001b[1;33m(\u001b[0m\u001b[1;36m0\u001b[0m\u001b[1;33m)\u001b[0m\u001b[1;33m\u001b[0m\u001b[0m\n\u001b[0;32m     19\u001b[0m \u001b[1;32mif\u001b[0m \u001b[1;32mnot\u001b[0m \u001b[1;34m\"ref_spect_noV.spe\"\u001b[0m \u001b[1;32min\u001b[0m \u001b[0mos\u001b[0m\u001b[1;33m.\u001b[0m\u001b[0mlistdir\u001b[0m\u001b[1;33m(\u001b[0m\u001b[0mwdir\u001b[0m\u001b[1;33m)\u001b[0m\u001b[1;33m:\u001b[0m\u001b[1;33m\u001b[0m\u001b[0m\n\u001b[1;32m---> 20\u001b[1;33m     \u001b[0mLFauto\u001b[0m\u001b[1;33m.\u001b[0m\u001b[0macquire\u001b[0m\u001b[1;33m(\u001b[0m\u001b[1;33m)\u001b[0m\u001b[1;33m\u001b[0m\u001b[0m\n\u001b[0m\u001b[0;32m     21\u001b[0m \u001b[1;33m\u001b[0m\u001b[0m\n\u001b[0;32m     22\u001b[0m \u001b[0mdata_ref\u001b[0m \u001b[1;33m=\u001b[0m \u001b[0mLFauto\u001b[0m\u001b[1;33m.\u001b[0m\u001b[0mload_acquired_data\u001b[0m\u001b[1;33m(\u001b[0m\u001b[0mwdir\u001b[0m\u001b[1;33m,\u001b[0m \u001b[1;34m\"ref_spect_noV\"\u001b[0m\u001b[1;33m)\u001b[0m\u001b[1;33m\u001b[0m\u001b[0m\n",
      "\u001b[1;32mZ:\\PythonPhotonicsLab\\LowLevelModules\\LightField.py\u001b[0m in \u001b[0;36macquire\u001b[1;34m(self)\u001b[0m\n\u001b[0;32m     58\u001b[0m     \u001b[1;32mdef\u001b[0m \u001b[0macquire\u001b[0m\u001b[1;33m(\u001b[0m\u001b[0mself\u001b[0m\u001b[1;33m)\u001b[0m\u001b[1;33m:\u001b[0m\u001b[1;33m\u001b[0m\u001b[0m\n\u001b[0;32m     59\u001b[0m         \u001b[1;32mwhile\u001b[0m \u001b[1;32mnot\u001b[0m \u001b[0mself\u001b[0m\u001b[1;33m.\u001b[0m\u001b[0mexperiment\u001b[0m\u001b[1;33m.\u001b[0m\u001b[0mIsReadyToRun\u001b[0m\u001b[1;33m:\u001b[0m\u001b[1;33m\u001b[0m\u001b[0m\n\u001b[1;32m---> 60\u001b[1;33m             \u001b[0mtime\u001b[0m\u001b[1;33m.\u001b[0m\u001b[0msleep\u001b[0m\u001b[1;33m(\u001b[0m\u001b[1;36m.1\u001b[0m\u001b[1;33m)\u001b[0m\u001b[1;33m\u001b[0m\u001b[0m\n\u001b[0m\u001b[0;32m     61\u001b[0m         \u001b[0mprint\u001b[0m\u001b[1;33m(\u001b[0m\u001b[1;34mf'Lightfield: running Acquire()'\u001b[0m\u001b[1;33m)\u001b[0m\u001b[1;33m\u001b[0m\u001b[0m\n\u001b[0;32m     62\u001b[0m         \u001b[0mself\u001b[0m\u001b[1;33m.\u001b[0m\u001b[0mexperiment\u001b[0m\u001b[1;33m.\u001b[0m\u001b[0mAcquire\u001b[0m\u001b[1;33m(\u001b[0m\u001b[1;33m)\u001b[0m\u001b[1;33m\u001b[0m\u001b[0m\n",
      "\u001b[1;31mKeyboardInterrupt\u001b[0m: "
     ]
    }
   ],
   "source": [
    "import os\n",
    "wdir = base_dir_widg.value\n",
    "base_name = base_name_widg.value\n",
    "scan_step_size = (v_range_widg.value[1] - v_range_widg.value[0]) / 20\n",
    "V_range = np.arange(v_range_widg.value[0], v_range_widg.value[1] + scan_step_size, scan_step_size)\n",
    "acq_time = acq_time_widg.value\n",
    "save_data = True\n",
    "\n",
    "# Enable the voltage source output\n",
    "keithley.enable_source()\n",
    "#deal with LightField settings\n",
    "LFauto.set_acquisition_time(acq_time)\n",
    "LFauto.set_path(wdir)\n",
    "LFauto.set_filename(\"ref_spect_noV\")\n",
    "LFauto.set_filename_increment()\n",
    "\n",
    "# Acquire image in LightField\n",
    "keithley.ramp_to_voltage(0)\n",
    "if not \"ref_spect_noV.spe\" in os.listdir(wdir):\n",
    "    LFauto.acquire()\n",
    "    \n",
    "data_ref = LFauto.load_acquired_data(wdir, \"ref_spect_noV\")\n",
    "xdata = data_ref.x\n",
    "ydata = V_range\n",
    "zdata = np.zeros((len(ydata), len(xdata)))\n",
    "\n",
    "lp = LivePlot2D(xdata, ydata, zdata, 8, 6)\n",
    "prettify_2d_plot(lp.ax, lp.cb, x_axis_choice.value, 'Voltage (V)', 'Count rate (Hz)')\n",
    "\n",
    "for i, v in enumerate(V_range):\n",
    "    try: \n",
    "        # change the voltage\n",
    "        keithley.ramp_to_voltage(v)\n",
    "#         time.sleep()  # delay in seconds\n",
    "        curr_curr = keithley.current\n",
    "        # update file name to save data\n",
    "        LFauto.set_filename(base_name + str(v) + \"V\")\n",
    "        # Acquire image\n",
    "        LFauto.acquire()\n",
    "        data = LFauto.load_acquired_data(wdir, base_name + str(v) + \"V\")\n",
    "        data.remove_cosmic_ray(4)\n",
    "        if etaloning_choice.value:\n",
    "            data.remove_etaloning(0.28, 0.46, 0.02, plotplot=False)\n",
    "    #     if x_axis_choice.value == 'Energy (eV)':\n",
    "    #         data.x = 1241/data.x\n",
    "    #         data.x = data.x[::-1]\n",
    "    #         data.y = data.y[::-1]\n",
    "    #     if normalize_choice.value:\n",
    "    #         data.y = data.y / np.max(data.y) + i*0.5\n",
    "\n",
    "        zdata[i,:] = data.y\n",
    "        lp.plot_live(zdata)  \n",
    "    except KeyboardInterrupt:\n",
    "        break\n",
    "        \n",
    "keithley.ramp_to_voltage(0)\n",
    "keithley.disable_source()\n",
    "\n",
    "plt.show()\n",
    "if save_data:\n",
    "    lp.fig.savefig(wdir + '\\\\' + base_name + '_Vscan.png', format='png', bbox_inches='tight')\n",
    "    np.savetxt(wdir + '\\\\' + base_name + '_Vscan_x.txt', xdata)\n",
    "    np.savetxt(wdir + '\\\\' + base_name + '_Vscan_y.txt', ydata)\n",
    "    np.savetxt(wdir + '\\\\' + base_name + '_Vscan_z.txt', zdata)\n",
    "    print(wdir + '\\\\' + base_name + '_Vscan.png')\n",
    "    "
   ]
  },
  {
   "cell_type": "code",
   "execution_count": 11,
   "metadata": {},
   "outputs": [],
   "source": [
    "keithley.enable_source() \n",
    "keithley.ramp_to_voltage(15)             # Ramps the volage to 0.5 V\n",
    "curr_curr = keithley.current"
   ]
  },
  {
   "cell_type": "code",
   "execution_count": 12,
   "metadata": {},
   "outputs": [],
   "source": [
    "keithley.disable_source()                # Disables the source output"
   ]
  },
  {
   "cell_type": "code",
   "execution_count": 18,
   "metadata": {},
   "outputs": [
    {
     "data": {
      "text/plain": [
       "0.5"
      ]
     },
     "execution_count": 18,
     "metadata": {},
     "output_type": "execute_result"
    }
   ],
   "source": [
    "# display(etaloning_choice)\n",
    "# display(x_axis_choice)\n",
    "# display(base_dir_widg)\n",
    "# display(base_name_widg)\n",
    "# display(acq_time_widg)\n",
    "# display(v_range_widg)\n",
    "(v_range_widg.value[1] - v_range_widg.value[0]) / 20"
   ]
  },
  {
   "cell_type": "code",
   "execution_count": null,
   "metadata": {},
   "outputs": [],
   "source": []
  }
 ],
 "metadata": {
  "kernelspec": {
   "display_name": "Python 3",
   "language": "python",
   "name": "python3"
  },
  "language_info": {
   "codemirror_mode": {
    "name": "ipython",
    "version": 3
   },
   "file_extension": ".py",
   "mimetype": "text/x-python",
   "name": "python",
   "nbconvert_exporter": "python",
   "pygments_lexer": "ipython3",
   "version": "3.6.5"
  }
 },
 "nbformat": 4,
 "nbformat_minor": 2
}

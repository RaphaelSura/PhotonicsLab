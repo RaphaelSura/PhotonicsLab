{
 "cells": [
  {
   "cell_type": "code",
   "execution_count": null,
   "metadata": {},
   "outputs": [],
   "source": [
    "# Generic imports\n",
    "import clr\n",
    "import sys\n",
    "import os\n",
    "from System.IO import *\n",
    "from System import String\n",
    "from System.Collections.Generic import List\n",
    "\n",
    "# Needed dll for interaction with LF\n",
    "sys.path.append(os.environ['LIGHTFIELD_ROOT'])\n",
    "sys.path.append(os.environ['LIGHTFIELD_ROOT']+'\\\\AddInViews')\n",
    "clr.AddReference('PrincetonInstruments.LightFieldViewV5')\n",
    "clr.AddReference('PrincetonInstruments.LightField.AutomationV5')\n",
    "clr.AddReference('PrincetonInstruments.LightFieldAddInSupportServices')\n",
    "\n",
    "# PI imports\n",
    "import PrincetonInstruments.LightField.AddIns as AddIns\n",
    "from PrincetonInstruments.LightField.Automation import Automation\n",
    "from PrincetonInstruments.LightField.AddIns import CameraSettings\n",
    "from PrincetonInstruments.LightField.AddIns import DeviceType\n",
    "from PrincetonInstruments.LightField.AddIns import ExperimentSettings\n",
    "\n",
    "def set_value(setting, value):\n",
    "    # Check for existence before setting\n",
    "    # gain, adc rate, or adc quality\n",
    "    if experiment.Exists(setting):\n",
    "        experiment.SetValue(setting, value)"
   ]
  },
  {
   "cell_type": "code",
   "execution_count": null,
   "metadata": {},
   "outputs": [],
   "source": [
    "# SPE file plotting related\n",
    "import numpy as np\n",
    "import matplotlib\n",
    "%matplotlib inline\n",
    "import matplotlib.pyplot as plt\n",
    "sys.path.append(\"..\")\n",
    "from LowLevelModules.Spectroscopy import Spectrum\n",
    "from LowLevelModules.GeneralFunctions import get_work_dir, prettify_plot, prettify_2d_plot"
   ]
  },
  {
   "cell_type": "markdown",
   "metadata": {},
   "source": [
    "Keithley stuff"
   ]
  },
  {
   "cell_type": "code",
   "execution_count": 15,
   "metadata": {},
   "outputs": [],
   "source": [
    "from pymeasure.instruments.keithley import Keithley2400\n",
    "keithley = Keithley2400(\"GPIB0::24::INSTR\")   # 'ASRL9::INSTR' if RS232 connection\n",
    "keithley.apply_voltage()                      # Sets up to source voltage\n",
    "keithley.source_voltage_range = 20            # Sets the source voltage range to 1 V\n",
    "keithley.compliance_current = 5e-5            # Sets the compliance current to 1 mA\n",
    "keithley.source_voltage = 0                   # Sets the source current to 0 mA\n",
    "keithley.measure_voltage()                    # Sets up to measure voltage"
   ]
  },
  {
   "cell_type": "markdown",
   "metadata": {},
   "source": [
    "Start the LightField experiment instance and check if it is OK"
   ]
  },
  {
   "cell_type": "code",
   "execution_count": null,
   "metadata": {},
   "outputs": [],
   "source": [
    "# Create the LightField Application (true for visible)\n",
    "# The 2nd parameter forces LF to load with no experiment\n",
    "# find out how to load specific experiment\n",
    "auto = Automation(True, List[String]())\n",
    "experiment = auto.LightFieldApplication.Experiment\n",
    "for device in experiment.ExperimentDevices:\n",
    "        if device.Type == DeviceType.Camera:\n",
    "            print(\"Device setup OK\")"
   ]
  },
  {
   "cell_type": "code",
   "execution_count": null,
   "metadata": {},
   "outputs": [],
   "source": [
    "import ipywidgets as widgets\n",
    "from IPython.display import display\n",
    "\n",
    "etaloning_choice = widgets.Checkbox(value=False, description='Remove CCD etaloning')\n",
    "x_axis_choice = widgets.RadioButtons(options=['Wavelength (nm)', 'Energy (eV)'],\n",
    "                                     value='Wavelength (nm)',\n",
    "                                     description='X axis unit:')\n",
    "display(etaloning_choice)\n",
    "display(x_axis_choice)"
   ]
  },
  {
   "cell_type": "code",
   "execution_count": null,
   "metadata": {},
   "outputs": [],
   "source": [
    "wdir = r'Z:\\Projects\\WSe2\\2019\\03 march\\LF automation'\n",
    "V_range = np.arange(-5,5)\n",
    "# Enable the voltage source output\n",
    "keithley.enable_source()\n",
    "#Set exposure time\n",
    "set_value(CameraSettings.ShutterTimingExposureTime, 200.0) #ms\n",
    "\n",
    "#initialize the data\n",
    "xdata = np.arange(1340)\n",
    "ydata = V_range\n",
    "zdata = np.zeros((1340, len(ydata)))\n",
    "\n",
    "lp = VoltageScanPlot(xdata, ydata, zdata, 18, 6, 'o')\n",
    "prettify_2d_plot(lp.ax, lp.cb, x_axis_choice.value, 'Voltage (V)', 'Count rate (Hz)')\n",
    "\n",
    "for i, v in enumerate(V_range):\n",
    "    # change the voltage\n",
    "    keithley.ramp_to_voltage(v)\n",
    "    # update file name to save data\n",
    "    set_value(ExperimentSettings.FileNameGenerationBaseFileName, base_name + str(v) + \"V\")\n",
    "    # Acquire image\n",
    "    experiment.Acquire()\n",
    "    # Retrieve the saved data\n",
    "    filename = wdir + base_name + str(v) + \"V.spe\"\n",
    "    data = Spectrum(filename)\n",
    "    data.remove_cosmic_ray(2)\n",
    "    if etaloning_choice.value:\n",
    "        data.remove_etaloning(0.30, 0.46, 0.02, plotplot=False)\n",
    "    if x_axis_choice.value == 'Energy (eV)':\n",
    "        data.x = 1241/data.x\n",
    "        data.x = data.x[::-1]\n",
    "        data.y = data.y[::-1]\n",
    "    if normalize_choice.value:\n",
    "        data.y = data.y / np.max(data.y) + i*0.5\n",
    "    \n",
    "    zdata[i,:] = data.y\n",
    "    lp.plot_live(zdata)  \n",
    "    \n",
    "keithley.disable_source()                # Disables the source output"
   ]
  },
  {
   "cell_type": "code",
   "execution_count": null,
   "metadata": {},
   "outputs": [],
   "source": [
    "class VoltageScanPlot:\n",
    "    def __init__(self, x_data, y_data, z_data, x_ext=18, y_ext=6, mk='o'):\n",
    "        self.fig = plt.figure(figsize=(x_ext, y_ext))\n",
    "        self.ax = self.fig.add_subplot(111)\n",
    "        #self.pc = self.ax.pcolor(x_data, y_data, z_data, cmap='jet', vmin=0, vmax=np.max(z_data))\n",
    "        #self.cb = self.fig.colorbar(self.pc)\n",
    "        extent = [np.min(x_data), np.max(x_data), np.min(y_data), np.max(y_data)]\n",
    "        self.cp = self.ax.imshow(z_data, cmap='jet', origin='center', extent=extent, \n",
    "                       interpolation='nearest', vmin=0, vmax=np.max(z_data))\n",
    "        self.cb = self.fig.colorbar(self.cp, fraction=0.046, pad=0.04)\n",
    "        self.ax.set_ylim([y_data[0], y_data[-1]])\n",
    "        self.fig.show()\n",
    "        self.fig.canvas.draw()\n",
    "        self.fig.tight_layout()\n",
    "\n",
    "    def plot_live(self, z_data):\n",
    "                \n",
    "        self.cb.set_data(z_data) \n",
    "        #plt.draw()\n",
    "        self.fig.canvas.draw()\n",
    "        #plt.pause(1e-6)\n",
    "        \n",
    "        "
   ]
  }
 ],
 "metadata": {
  "kernelspec": {
   "display_name": "Python 3",
   "language": "python",
   "name": "python3"
  },
  "language_info": {
   "codemirror_mode": {
    "name": "ipython",
    "version": 3
   },
   "file_extension": ".py",
   "mimetype": "text/x-python",
   "name": "python",
   "nbconvert_exporter": "python",
   "pygments_lexer": "ipython3",
   "version": "3.6.5"
  }
 },
 "nbformat": 4,
 "nbformat_minor": 2
}

{
 "cells": [
  {
   "cell_type": "code",
   "execution_count": 12,
   "metadata": {},
   "outputs": [],
   "source": [
    "%matplotlib inline\n",
    "import numpy as np\n",
    "import matplotlib.pyplot as plt\n",
    "from LowLevelModules.GeneralFunctions import get_work_dir, prettify_2d_plot\n",
    "import os\n",
    "# user input\n",
    "wdir = r'C:\\data\\190312\\FSM-2D'\n",
    "## fetch all BMP file names in folder\n",
    "filenames = [f[:-4] for f in os.listdir(wdir) if '.BMP' in f]"
   ]
  },
  {
   "cell_type": "code",
   "execution_count": 13,
   "metadata": {
    "scrolled": true
   },
   "outputs": [
    {
     "name": "stdout",
     "output_type": "stream",
     "text": [
      "File 190312FSM01 FSM-2D.png already exists\n",
      "File 190312FSM02 FSM-2D.png already exists\n",
      "File 190312FSM03 FSM-2D.png already exists\n",
      "File 190312FSM04 FSM-2D.png already exists\n",
      "File 190312FSM05 FSM-2D.png already exists\n",
      "File 190312FSM06 FSM-2D.png already exists\n",
      "File 190312FSM07 FSM-2D.png already exists\n",
      "File 190312FSM08 FSM-2D.png already exists\n",
      "File 190312FSM09 FSM-2D.png already exists\n",
      "File 190312FSM10 FSM-2D.png already exists\n",
      "File 190312FSM11 FSM-2D.png already exists\n",
      "File 190312FSM12 FSM-2D.png already exists\n",
      "File 190312FSM13 FSM-2D.png already exists\n",
      "File 190312FSM14 FSM-2D.png saved\n",
      "All spectra exported as PNGs\n"
     ]
    }
   ],
   "source": [
    "# needed user input\n",
    "#data_path = r\"\\TMDs\\Spectroscopy\\20190213 - WSe2 on nanopillars\"\n",
    "#date = '190214'\n",
    "#Specify file index number\n",
    "idx = None #'05'\n",
    "val_min = 0\n",
    "val_max_fraction = .9\n",
    "\n",
    "#data_path = get_work_dir() + data_path\n",
    "#filename = r'%s\\FSM-2D\\%sFSM%s FSM-2D' % (data_path, date, idx)\n",
    "for f in filenames:\n",
    "    x = np.loadtxt(wdir + '\\\\' + f + \" X.dat\")\n",
    "    y = np.loadtxt(wdir + '\\\\' + f + \" Y.dat\")\n",
    "    z = np.loadtxt(wdir + '\\\\' + f + \" Z.dat\")\n",
    "    extent = [np.min(x), np.max(x), np.min(y), np.max(y)]\n",
    "    val_max = val_max_fraction * np.max(z)\n",
    "    \n",
    "    #plot\n",
    "    fig = plt.figure(figsize=(8, 6))\n",
    "    ax = fig.add_subplot(111)\n",
    "    cp = ax.imshow(z, cmap='CMRmap', origin='center', extent=extent, interpolation='nearest', vmin=val_min, vmax=val_max)\n",
    "    cb = plt.colorbar(cp, fraction=0.046, pad=0.04)\n",
    "    prettify_2d_plot(ax, cb, 'x-pos (µm)', 'y-pos (µm)', 'Count rate (kHz)')\n",
    "    fig.tight_layout()\n",
    "    plt.close(fig)\n",
    "    #plt.close(fig)\n",
    "    save_filename =  f + '.png'\n",
    "    if not save_filename in os.listdir(wdir):\n",
    "        fig.savefig(wdir + '\\\\' + save_filename, format='png', bbox_inches='tight')\n",
    "        print('File', save_filename, 'saved')\n",
    "    else: \n",
    "        print('File', save_filename, 'already exists')\n",
    "\n",
    "print(\"All spectra exported as PNGs\")"
   ]
  },
  {
   "cell_type": "code",
   "execution_count": 22,
   "metadata": {},
   "outputs": [],
   "source": [
    "fig.savefig(filename + '.png', format='png', bbox_inches='tight')"
   ]
  },
  {
   "cell_type": "code",
   "execution_count": 6,
   "metadata": {},
   "outputs": [
    {
     "data": {
      "text/plain": [
       "210.91"
      ]
     },
     "execution_count": 6,
     "metadata": {},
     "output_type": "execute_result"
    }
   ],
   "source": [
    "np.max(z)"
   ]
  },
  {
   "cell_type": "code",
   "execution_count": null,
   "metadata": {},
   "outputs": [],
   "source": []
  }
 ],
 "metadata": {
  "kernelspec": {
   "display_name": "Python 3",
   "language": "python",
   "name": "python3"
  },
  "language_info": {
   "codemirror_mode": {
    "name": "ipython",
    "version": 3
   },
   "file_extension": ".py",
   "mimetype": "text/x-python",
   "name": "python",
   "nbconvert_exporter": "python",
   "pygments_lexer": "ipython3",
   "version": "3.6.5"
  }
 },
 "nbformat": 4,
 "nbformat_minor": 2
}

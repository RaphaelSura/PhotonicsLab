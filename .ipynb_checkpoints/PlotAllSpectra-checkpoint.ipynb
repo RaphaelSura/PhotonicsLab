{
 "cells": [
  {
   "cell_type": "code",
   "execution_count": 1,
   "metadata": {},
   "outputs": [],
   "source": [
    "import matplotlib\n",
    "import matplotlib.pyplot as plt\n",
    "from LowLevelModules.Spectroscopy import Spectrum\n",
    "from LowLevelModules.GeneralFunctions import prettify_plot\n",
    "import numpy as np\n",
    "import os"
   ]
  },
  {
   "cell_type": "code",
   "execution_count": 2,
   "metadata": {},
   "outputs": [
    {
     "name": "stdout",
     "output_type": "stream",
     "text": [
      "All spectra exported as PNGs\n"
     ]
    }
   ],
   "source": [
    "# user input\n",
    "wdir = r'Z:\\Projects\\WSe2\\2019\\03 march\\03112019 Bottom and top gated WSe2\\RT spectra'\n",
    "\n",
    "## Don't change that\n",
    "files = [f for f in os.listdir(wdir) if '.spe' in f]\n",
    "files = [f[:-4] for f in files if not 'raw' in f]\n",
    "for i, f in enumerate(files):\n",
    "\n",
    "    # plot everything\n",
    "    file = wdir + '\\\\' + f + '.spe'\n",
    "    data = Spectrum(file)\n",
    "    #data.remove_etaloning(0.30, 0.46, 0.02, plotplot=False)\n",
    "    #plot\n",
    "    fig = plt.figure(figsize=(10, 7))\n",
    "    ax = fig.add_subplot(111)\n",
    "    ax.plot(data.x, data.y)   \n",
    "    plt.xlim(data.x[0], data.x[-1])\n",
    "    plt.ylim(0, 1.05*np.max(data.y))\n",
    "    prettify_plot(ax, \"Wavelength (nm)\", \"Counts (Hz)\")\n",
    "    fig.tight_layout()\n",
    "    plt.close(fig)\n",
    "    save_filename =  f + '.png'\n",
    "    if not save_filename in os.listdir(wdir):\n",
    "        fig.savefig(wdir + '\\\\' + save_filename, format='png', bbox_inches='tight')\n",
    "    else: \n",
    "        print('File', save_filename, 'already exists')\n",
    "\n",
    "print(\"All spectra exported as PNGs\")"
   ]
  },
  {
   "cell_type": "code",
   "execution_count": null,
   "metadata": {},
   "outputs": [],
   "source": []
  },
  {
   "cell_type": "code",
   "execution_count": null,
   "metadata": {},
   "outputs": [],
   "source": []
  }
 ],
 "metadata": {
  "kernelspec": {
   "display_name": "Python 3",
   "language": "python",
   "name": "python3"
  },
  "language_info": {
   "codemirror_mode": {
    "name": "ipython",
    "version": 3
   },
   "file_extension": ".py",
   "mimetype": "text/x-python",
   "name": "python",
   "nbconvert_exporter": "python",
   "pygments_lexer": "ipython3",
   "version": "3.6.5"
  }
 },
 "nbformat": 4,
 "nbformat_minor": 2
}

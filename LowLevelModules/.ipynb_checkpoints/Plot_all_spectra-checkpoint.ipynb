{
 "cells": [
  {
   "cell_type": "code",
   "execution_count": 1,
   "metadata": {},
   "outputs": [
    {
     "ename": "ModuleNotFoundError",
     "evalue": "No module named 'low_level_modules'",
     "output_type": "error",
     "traceback": [
      "\u001b[1;31m---------------------------------------------------------------------------\u001b[0m",
      "\u001b[1;31mModuleNotFoundError\u001b[0m                       Traceback (most recent call last)",
      "\u001b[1;32m<ipython-input-1-3fabeb0c5da7>\u001b[0m in \u001b[0;36m<module>\u001b[1;34m()\u001b[0m\n\u001b[0;32m      3\u001b[0m \u001b[1;32mimport\u001b[0m \u001b[0mmatplotlib\u001b[0m\u001b[1;33m.\u001b[0m\u001b[0mpyplot\u001b[0m \u001b[1;32mas\u001b[0m \u001b[0mplt\u001b[0m\u001b[1;33m\u001b[0m\u001b[0m\n\u001b[0;32m      4\u001b[0m \u001b[1;32mfrom\u001b[0m \u001b[0mspe_loader\u001b[0m \u001b[1;32mimport\u001b[0m \u001b[0mSpeFile\u001b[0m\u001b[1;33m\u001b[0m\u001b[0m\n\u001b[1;32m----> 5\u001b[1;33m \u001b[1;32mfrom\u001b[0m \u001b[0mlow_level_modules\u001b[0m\u001b[1;33m.\u001b[0m\u001b[0mgeneral_utilities\u001b[0m \u001b[1;32mimport\u001b[0m \u001b[0mprettify_plot\u001b[0m\u001b[1;33m\u001b[0m\u001b[0m\n\u001b[0m\u001b[0;32m      6\u001b[0m \u001b[1;32mimport\u001b[0m \u001b[0mnumpy\u001b[0m \u001b[1;32mas\u001b[0m \u001b[0mnp\u001b[0m\u001b[1;33m\u001b[0m\u001b[0m\n\u001b[0;32m      7\u001b[0m \u001b[1;33m\u001b[0m\u001b[0m\n",
      "\u001b[1;31mModuleNotFoundError\u001b[0m: No module named 'low_level_modules'"
     ]
    }
   ],
   "source": [
    "import matplotlib\n",
    "%matplotlib inline\n",
    "import matplotlib.pyplot as plt\n",
    "from spe_loader import SpeFile\n",
    "from low_level_modules.general_utilities import prettify_plot\n",
    "import numpy as np\n",
    "\n",
    "def remove_cosmic_ray(arr_x, arr_y, n_std):\n",
    "    idx, = np.where(abs(arr_y - np.median(arr_y)) > n_std * np.std(arr_y))\n",
    "    if idx.size != 0:\n",
    "        idx_prev = idx[0] - 1\n",
    "        idx_next = idx[-1] + 1\n",
    "        slope = (arr_y[idx_next] - arr_y[idx_prev]) / (arr_x[idx_next] - arr_x[idx_prev])\n",
    "        origin_crossing = arr_y[idx_prev] - slope * arr_x[idx_prev]\n",
    "        cts_replace = slope * arr_x[idx] + origin_crossing\n",
    "        y_noise = 0.1*np.std(arr_y)*np.random.normal(size=cts_replace.size)\n",
    "        arr_y[idx] = cts_replace + y_noise\n",
    "        return arr_y\n",
    "    else:\n",
    "        return arr_y"
   ]
  },
  {
   "cell_type": "code",
   "execution_count": 13,
   "metadata": {},
   "outputs": [
    {
     "data": {
      "text/plain": [
       "'10000'"
      ]
     },
     "execution_count": 13,
     "metadata": {},
     "output_type": "execute_result"
    }
   ],
   "source": [
    "# user input\n",
    "import os\n",
    "wdir = r'Z:\\Projects\\WSe2\\2019\\02 february\\20190211 - WSe2 suspended holes\\1000nmSiO2 RT vacuum spectra'\n",
    "f = 'WSe2_susp_holes_532exc_200nW_RT_1A_edge_10s 03'\n",
    "#[ f for f in os.listdir(wdir) if not 'raw' in os.listdir(wdir)]\n",
    "file = wdir + '\\\\' + f + '.spe'\n",
    "data = SpeFile(file)\n",
    "data.exposure_time"
   ]
  },
  {
   "cell_type": "code",
   "execution_count": null,
   "metadata": {},
   "outputs": [],
   "source": []
  }
 ],
 "metadata": {
  "kernelspec": {
   "display_name": "Python 3",
   "language": "python",
   "name": "python3"
  },
  "language_info": {
   "codemirror_mode": {
    "name": "ipython",
    "version": 3
   },
   "file_extension": ".py",
   "mimetype": "text/x-python",
   "name": "python",
   "nbconvert_exporter": "python",
   "pygments_lexer": "ipython3",
   "version": "3.6.5"
  }
 },
 "nbformat": 4,
 "nbformat_minor": 2
}

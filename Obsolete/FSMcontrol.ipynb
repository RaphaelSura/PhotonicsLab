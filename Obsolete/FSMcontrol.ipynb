{
 "cells": [
  {
   "cell_type": "code",
   "execution_count": 16,
   "metadata": {},
   "outputs": [
    {
     "data": {
      "text/plain": [
       "(-7.169819558388406, 4.795168790164483)"
      ]
     },
     "execution_count": 16,
     "metadata": {},
     "output_type": "execute_result"
    }
   ],
   "source": [
    "# write and read from the FSM and compare with LabVIEW vi\n",
    "import nidaqmx\n",
    "import numpy as np\n",
    "\n",
    "conversion = {'x': 8.54, 'y': 6.19}\n",
    "\n",
    "def microm_to_volts(pos_in_microm, axis):\n",
    "    return pos_in_microm / conversion[axis]\n",
    "\n",
    "def volts_to_microm(pos_in_volts, axis):\n",
    "    return pos_in_volts * conversion[axis]\n",
    "\n",
    "def read_position():\n",
    "    with nidaqmx.Task() as fsm_task:\n",
    "        fsm_task.ai_channels.add_ai_voltage_chan('/Dev1/ai1', 'FSM x axis')\n",
    "        fsm_task.ai_channels.add_ai_voltage_chan('/Dev1/ai0', 'FSM y axis')\n",
    "        curr_x, curr_y = fsm_task.read()\n",
    "        curr_x = volts_to_microm(curr_x, 'x')\n",
    "        curr_y = volts_to_microm(curr_y, 'y')\n",
    "    return curr_x, curr_y\n",
    "\n",
    "def calc_trajectory():\n",
    "    pass\n",
    "\n",
    "def go_to_position(x, y):\n",
    "    pass\n",
    "\n",
    "read_position()"
   ]
  },
  {
   "cell_type": "code",
   "execution_count": 14,
   "metadata": {},
   "outputs": [
    {
     "name": "stdout",
     "output_type": "stream",
     "text": [
      "Old y: volts: 0.1492013435944409 um 0.923810542976022\n",
      "y: volts: -0.1742921456912046 um -1.0791653605017995\n"
     ]
    }
   ],
   "source": [
    "import time\n",
    "# go to a position --> use smooth sinusoidal sweeping from start to end position\n",
    "x_terminal_out = '/Dev1/ao1'\n",
    "y_terminal_out = '/Dev1/ao0'\n",
    "new_pos = (0, 0)   # um\n",
    "scan_freq = 1000\n",
    "n_pts = 200\n",
    "\n",
    "# read current position\n",
    "curr_pos = read_position()\n",
    "\n",
    "# make sine-like profile for sweeping the values from one position to the next\n",
    "delta_pos = microm_to_volts(new_y, 'y') - curr_pos\n",
    "x_sine = np.linspace(-np.pi/2, np.pi/2, n_pts)\n",
    "vsweep_array = (np.sin(x_sine)+1)/2*delta_pos + curr_pos\n",
    "\n",
    "# scan the FSM until the desired position\n",
    "with nidaqmx.Task() as task:\n",
    "    output_volt = task.ao_channels.add_ao_voltage_chan(y_terminal_out, 'FSM y axis', min_val=-3.5, max_val=3.5)\n",
    "    #output_volt.ao_term_cfg = nidaqmx.constants.TerminalConfiguration.DEFAULT\n",
    "    \n",
    "#     task.timing.samp_timing_type = nidaqmx.constants.SampleTimingType.SAMPLE_CLOCK\n",
    "#     task.timing.samp_quant_samp_mode = nidaqmx.constants.AcquisitionType.FINITE\n",
    "#     task.timing.samp_quant_samp_per_channel = n_pts\n",
    "#     task.timing.samp_clk_rate = scan_freq\n",
    "#     task.timing.samp_clk_active_edge = nidaqmx.constants.Edge.RISING\n",
    "    #task.timing.samp_clk_src = \n",
    "    \n",
    "    task.write(vsweep_array, auto_start=True, timeout=5)\n",
    "    task.wait_until_done(timeout=5)\n",
    "\n",
    "# read the new position\n",
    "time.sleep(.5)\n",
    "with nidaqmx.Task() as y_task:\n",
    "    y_task.ai_channels.add_ai_voltage_chan(y_terminal)\n",
    "    curr_pos = y_task.read(number_of_samples_per_channel=8)\n",
    "    curr_pos = np.mean(curr_pos)\n",
    "    print('y: volts:', curr_pos, 'um', volts_to_microm(curr_pos, 'y'))"
   ]
  },
  {
   "cell_type": "code",
   "execution_count": null,
   "metadata": {},
   "outputs": [],
   "source": [
    "# scan_size = 10   #um\n",
    "# mesh_size = 100  #number of points per line scan\n",
    "# scan_rate = 100  #Hz\n",
    "# terminal = \"/Dev1/PFI1\"\n",
    "\n",
    "#pts = np.linspace(-scan_size/2, scan_size/2, 100)\n",
    "\n",
    "# make array of X values to scan at each new Y position\n",
    "x_scan = np.linspace(min_x, max_x, mesh_size)\n",
    "y_scan = np.linspace(min_y, max_y, mesh_size)\n",
    "\n",
    "# move to Y value and minimum value of X array\n",
    "\n",
    "# start clock, APD counter, AO task for FSM\n",
    "# use clock to move FSM to next X position (rising edge), read APD counts (falling edge)\n",
    "# do I need to read FSM position?\n",
    "# read all buffered APD counts at once\n",
    "# plot 1D scan\n",
    "# append to 2D scan and plot"
   ]
  }
 ],
 "metadata": {
  "kernelspec": {
   "display_name": "Python 3",
   "language": "python",
   "name": "python3"
  },
  "language_info": {
   "codemirror_mode": {
    "name": "ipython",
    "version": 3
   },
   "file_extension": ".py",
   "mimetype": "text/x-python",
   "name": "python",
   "nbconvert_exporter": "python",
   "pygments_lexer": "ipython3",
   "version": "3.6.5"
  }
 },
 "nbformat": 4,
 "nbformat_minor": 2
}

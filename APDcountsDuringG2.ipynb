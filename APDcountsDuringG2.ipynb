{
 "cells": [
  {
   "cell_type": "code",
   "execution_count": 6,
   "metadata": {},
   "outputs": [],
   "source": [
    "from LowLevelModules.NIdaqAPD import APDCounter, ExtClock\n",
    "import time\n",
    "import numpy as np\n",
    "terminal1 = '/Dev1/PFI1'\n",
    "terminal2 = '/Dev1/PFI5'"
   ]
  },
  {
   "cell_type": "code",
   "execution_count": 11,
   "metadata": {},
   "outputs": [],
   "source": [
    "# run this when you start g2 measurement\n",
    "APD1 = APDCounter(terminal1, ctr=1, task_name=\"APD1\")\n",
    "APD2 = APDCounter(terminal2, ctr=2, task_name=\"APD2\")\n",
    "# start task and count\n",
    "t_start = time.time()\n",
    "APD1.start()\n",
    "APD2.start()"
   ]
  },
  {
   "cell_type": "code",
   "execution_count": 12,
   "metadata": {},
   "outputs": [
    {
     "name": "stdout",
     "output_type": "stream",
     "text": [
      "Time elapsed: 3.078 seconds\n",
      "Total counts: APD1 1.401 kcts.    APD2 1.34 kcts\n",
      "APD1 count rate: 0.455 kHz\n",
      "APD1 count rate: 0.435 kHz\n"
     ]
    }
   ],
   "source": [
    "# run this when the g2 measurement is done\n",
    "delta_t = time.time() - t_start\n",
    "cts1 = APD1.read() / 1000\n",
    "cts2 = APD2.read() / 1000\n",
    "APD1.close()\n",
    "APD2.close()\n",
    "print(\"Time elapsed:\", np.round(delta_t, 3), \"seconds\")\n",
    "print(\"Total counts: APD1\", cts1, \"kcts,   APD2\", cts2, \"kcts\")\n",
    "print(\"APD1 count rate:\", np.round(cts1/delta_t, 3), \"kHz\")\n",
    "print(\"APD2 count rate:\", np.round(cts2/delta_t, 3), \"kHz\")"
   ]
  },
  {
   "cell_type": "code",
   "execution_count": null,
   "metadata": {},
   "outputs": [],
   "source": [
    "# in case something goes wrong or you just want to close the APD tasks\n",
    "APD1.close()\n",
    "APD2.close()"
   ]
  },
  {
   "cell_type": "markdown",
   "metadata": {},
   "source": [
    "# in case something goes wrong or you just want to close the APD tasks\n"
   ]
  }
 ],
 "metadata": {
  "kernelspec": {
   "display_name": "Python 3",
   "language": "python",
   "name": "python3"
  },
  "language_info": {
   "codemirror_mode": {
    "name": "ipython",
    "version": 3
   },
   "file_extension": ".py",
   "mimetype": "text/x-python",
   "name": "python",
   "nbconvert_exporter": "python",
   "pygments_lexer": "ipython3",
   "version": "3.6.5"
  }
 },
 "nbformat": 4,
 "nbformat_minor": 2
}

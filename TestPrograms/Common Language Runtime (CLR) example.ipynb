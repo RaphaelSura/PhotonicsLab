{
 "cells": [
  {
   "cell_type": "code",
   "execution_count": 1,
   "metadata": {},
   "outputs": [],
   "source": [
    "# let's try https://www.c-sharpcorner.com/UploadFile/1e050f/creating-and-using-dll-class-library-in-C-Sharp/\n",
    "# for some reason, this seems to work only if the .dll files are stored NOT on a network drive"
   ]
  },
  {
   "cell_type": "code",
   "execution_count": 2,
   "metadata": {},
   "outputs": [],
   "source": [
    "assembly_path=r\"C:\\Users\\FuchsDiamond\\source\\repos\\Calculation\\Calculation\\bin\\Debug\\netstandard1.4\"\n",
    "\n",
    "import sys\n",
    "sys.path.append(assembly_path)"
   ]
  },
  {
   "cell_type": "code",
   "execution_count": 3,
   "metadata": {},
   "outputs": [
    {
     "name": "stdout",
     "output_type": "stream",
     "text": [
      "2\n",
      "-1\n"
     ]
    }
   ],
   "source": [
    "import clr\n",
    "clr.AddReference(\"Calculation\")\n",
    "from CalcTestNS import calculate\n",
    "ct=calculate()\n",
    "\n",
    "ct = calculate()\n",
    "print(ct.Add(1,1))\n",
    "\n",
    "params=[1,2]\n",
    "print(ct.Sub(*params))"
   ]
  },
  {
   "cell_type": "code",
   "execution_count": 4,
   "metadata": {},
   "outputs": [
    {
     "data": {
      "text/plain": [
       "6"
      ]
     },
     "execution_count": 4,
     "metadata": {},
     "output_type": "execute_result"
    }
   ],
   "source": [
    "assembly_path2=r\"C:\\Users\\FuchsDiamond\\source\\repos\\ClassLibrary1\\ClassLibrary1\\bin\\Debug\\netstandard1.4\"\n",
    "\n",
    "import sys\n",
    "sys.path.append(assembly_path2)\n",
    "\n",
    "import clr\n",
    "clr.AddReference(\"ClassLibrary1\")\n",
    "\n",
    "from CalcTestNSV2 import calculateV2\n",
    "ct = calculateV2()\n",
    "ct.Mult(2,3)"
   ]
  },
  {
   "cell_type": "code",
   "execution_count": null,
   "metadata": {},
   "outputs": [],
   "source": []
  }
 ],
 "metadata": {
  "kernelspec": {
   "display_name": "Python 3",
   "language": "python",
   "name": "python3"
  },
  "language_info": {
   "codemirror_mode": {
    "name": "ipython",
    "version": 3
   },
   "file_extension": ".py",
   "mimetype": "text/x-python",
   "name": "python",
   "nbconvert_exporter": "python",
   "pygments_lexer": "ipython3",
   "version": "3.7.0"
  }
 },
 "nbformat": 4,
 "nbformat_minor": 2
}

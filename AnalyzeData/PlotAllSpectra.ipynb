{
 "cells": [
  {
   "cell_type": "code",
   "execution_count": 1,
   "metadata": {},
   "outputs": [],
   "source": [
    "import sys\n",
    "sys.path.append(\"..\")\n",
    "import matplotlib\n",
    "import matplotlib.pyplot as plt\n",
    "from LowLevelModules.Spectroscopy import Spectrum\n",
    "from LowLevelModules.GeneralFunctions import prettify_plot\n",
    "import numpy as np\n",
    "import os"
   ]
  },
  {
   "cell_type": "code",
   "execution_count": 6,
   "metadata": {},
   "outputs": [
    {
     "name": "stdout",
     "output_type": "stream",
     "text": [
      "File WSe2hBN_MANNP_5K_60nW_bright_spot_ML_3 03.png saved\n",
      "All spectra exported as PNGs\n"
     ]
    }
   ],
   "source": [
    "#####################   USER INPUT   ###############################\n",
    "wdir = r'Z:\\Projects\\WSe2\\2019\\09 september\\2019-09-04 WSe2hBN MANNP\\5K spectra'\n",
    "remove_cosmic = False\n",
    "remove_etaloning = True\n",
    "## Don't change that\n",
    "files = [f for f in os.listdir(wdir) if '.spe' in f and 'raw' not in f]\n",
    "\n",
    "for i, f in enumerate(files):\n",
    "    save_filename =  f[:-4] + '.png'\n",
    "    if not save_filename in os.listdir(wdir):\n",
    "        file = wdir + '\\\\' + f\n",
    "        data = Spectrum(file)\n",
    "        if remove_cosmic:\n",
    "            data.remove_cosmic_ray(5)\n",
    "        if remove_etaloning:\n",
    "            data.remove_etaloning(0.3, 0.48, 0.02, plotplot=False)\n",
    "        \n",
    "        #plot\n",
    "        fig = plt.figure(figsize=(10, 6))\n",
    "        ax = fig.add_subplot(111)\n",
    "        ax.plot(data.x, data.y)   \n",
    "        plt.xlim(data.x[0], data.x[-1])\n",
    "        plt.ylim(0, 1.05*np.max(data.y))\n",
    "        prettify_plot(ax, \"Wavelength (nm)\", \"Counts (Hz)\")\n",
    "        fig.tight_layout()\n",
    "        plt.close(fig)\n",
    "\n",
    "        # save figure\n",
    "        fig.savefig(wdir + '\\\\' + save_filename, format='png', bbox_inches='tight')\n",
    "        print('File', save_filename, 'saved')\n",
    "        \n",
    "print(\"All spectra exported as PNGs\")"
   ]
  },
  {
   "cell_type": "code",
   "execution_count": null,
   "metadata": {},
   "outputs": [],
   "source": []
  },
  {
   "cell_type": "code",
   "execution_count": null,
   "metadata": {},
   "outputs": [],
   "source": []
  }
 ],
 "metadata": {
  "kernelspec": {
   "display_name": "Python 3",
   "language": "python",
   "name": "python3"
  },
  "language_info": {
   "codemirror_mode": {
    "name": "ipython",
    "version": 3
   },
   "file_extension": ".py",
   "mimetype": "text/x-python",
   "name": "python",
   "nbconvert_exporter": "python",
   "pygments_lexer": "ipython3",
   "version": "3.6.5"
  }
 },
 "nbformat": 4,
 "nbformat_minor": 2
}

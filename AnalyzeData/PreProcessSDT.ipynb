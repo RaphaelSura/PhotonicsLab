{
 "cells": [
  {
   "cell_type": "code",
   "execution_count": 1,
   "metadata": {},
   "outputs": [
    {
     "data": {
      "text/plain": [
       "['background_2020_02_12', 'IRF_mira_60kHz', 'WSe2_5K_pulsed780_14uW']"
      ]
     },
     "execution_count": 1,
     "metadata": {},
     "output_type": "execute_result"
    }
   ],
   "source": [
    "import sys\n",
    "sys.path.append(\"..\")\n",
    "import os\n",
    "import numpy as np\n",
    "from LowLevelModules.GeneralFunctions import get_work_dir, TRMData, MyPlot\n",
    "import ipywidgets as widgets\n",
    "from IPython.display import display\n",
    "\n",
    "wdir = r\"Z:\\Sharing\\Raphael2Raphael\\Lifetime_test\"\n",
    "\n",
    "filenames = [f[:-4] for f in os.listdir(wdir) if '.sdt' in f]\n",
    "filenames"
   ]
  },
  {
   "cell_type": "code",
   "execution_count": 10,
   "metadata": {},
   "outputs": [],
   "source": [
    "for f in filenames:\n",
    "    sdt_data_path = wdir + '//' + f + '.sdt'\n",
    "    data = TRMData(sdt_data_path)\n",
    "    data_array = np.array([data.x, data.y]).T\n",
    "    np.savetxt(f\"{wdir}/{f}.txt\", data_array)\n",
    "    useful_info = ('col_t', 'bin_size', 'total_counts', 'APD1_rate', 'APD2_rate', 'laser_rep_rate')\n",
    "    with open(f\"{wdir}/{f}_extra_info.txt\", 'w') as f:\n",
    "        for ei in useful_info:\n",
    "            f.write(f'\\n {ei} {getattr(data, ei)}')"
   ]
  },
  {
   "cell_type": "code",
   "execution_count": 7,
   "metadata": {},
   "outputs": [
    {
     "data": {
      "text/plain": [
       "'\\n col_t = 125.78425598144531\\n bin_size = 4.071742509131893e-12\\n total_counts = 77104\\n APD1_rate = 736.0\\n APD2_rate = 76590336.0\\n laser_rep_rate = 76590336.0'"
      ]
     },
     "execution_count": 7,
     "metadata": {},
     "output_type": "execute_result"
    }
   ],
   "source": [
    "extra_info"
   ]
  },
  {
   "cell_type": "code",
   "execution_count": null,
   "metadata": {},
   "outputs": [],
   "source": []
  }
 ],
 "metadata": {
  "kernelspec": {
   "display_name": "Python 3",
   "language": "python",
   "name": "python3"
  },
  "language_info": {
   "codemirror_mode": {
    "name": "ipython",
    "version": 3
   },
   "file_extension": ".py",
   "mimetype": "text/x-python",
   "name": "python",
   "nbconvert_exporter": "python",
   "pygments_lexer": "ipython3",
   "version": "3.6.5"
  }
 },
 "nbformat": 4,
 "nbformat_minor": 2
}

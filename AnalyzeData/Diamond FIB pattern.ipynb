{
 "cells": [
  {
   "cell_type": "markdown",
   "metadata": {},
   "source": [
    "Solid immersion lens - modified from Huiyao's Matlab code"
   ]
  },
  {
   "cell_type": "code",
   "execution_count": 1,
   "metadata": {},
   "outputs": [],
   "source": [
    "# mill a SIL with less milled material with the same NA\n",
    "# previous version (full hemisphere with 45 degree side wall) effective NA ~ 0.894 = Sin[ArcTan[2]]\n",
    "\n",
    "# The milling rate remains the same for a fixed:\n",
    "# viewwidth/magnification and ion current(30 kV 9.86 nA) and millingstep;\n",
    "\n",
    "# If the magnification changes, then each pixel effective area changes, the\n",
    "# milling rate changes by cube of the magnification change, i.e., changes\n",
    "# from 10X to 20X, each pixel is 1/4 of the original size, to ensure the\n",
    "# same milling rate of each pixel, the dwell time has to be reduced to 1/8.\n",
    "# However, SIL automation are just a series of points, the dwelling time\n",
    "# shouln't vary too much for different magnification, once the milling step\n",
    "# is set.\n",
    "\n",
    "# One would sill better re-calibrate the etch rate when magnification changes.\n",
    "\n",
    "# FIB stream file generation"
   ]
  },
  {
   "cell_type": "code",
   "execution_count": 2,
   "metadata": {},
   "outputs": [],
   "source": [
    "# use the following for matplotlib upgrade\n",
    "# python -m pip install --upgrade --user matplotlib\n",
    "# some issues with permission"
   ]
  },
  {
   "cell_type": "code",
   "execution_count": 1,
   "metadata": {},
   "outputs": [],
   "source": [
    "import numpy as np\n",
    "import matplotlib.pyplot as plt\n",
    "import os\n",
    "from mpl_toolkits.mplot3d import Axes3D\n",
    "import skimage"
   ]
  },
  {
   "cell_type": "code",
   "execution_count": 2,
   "metadata": {},
   "outputs": [
    {
     "name": "stdout",
     "output_type": "stream",
     "text": [
      "0.927295218002\n"
     ]
    }
   ],
   "source": [
    "FOVX = [ 0, 4095] # field of view\n",
    "FOVY = [280, 3816]\n",
    "NA = 0.8\n",
    "thetaNA = np.arcsin(NA)\n",
    "print(thetaNA)\n",
    "outputfile = True\n",
    "seee = False\n",
    "FileNameSIL = 'New600us21nA' # change it according to the set ion beam current"
   ]
  },
  {
   "cell_type": "code",
   "execution_count": 3,
   "metadata": {},
   "outputs": [],
   "source": [
    "viewwidth=42.58 #um width of the ion view.2000X \n",
    "R_sil= 5# um\n",
    "R_cone=R_sil*2 # um \n",
    "layerdepth=0.1 # um  0.1 um, DO NOT change \n",
    "\n",
    "dwelltime=600 #us  This is going to be dependent on the etch/milling rate  \n",
    "# 1200 for diamond\n",
    "# and 900 for SiC at 9.3 nA beam current selection\n",
    "# 9.86 nA, dwell time: 1200 us; diamond\n",
    "# 21 nA, dwell time: 600us; diamond\n",
    "millingstep=0.1 # um  0.1 um, DO NOT change\n",
    "\n",
    "# back calculate\n",
    "# assume the ion beam diameter is significantly larger than step size\n",
    "# in this regime, the FIB surface is smooth instead of a number of holes\n",
    "# 4096 pixel equivalent to 42.58 um (at 2000x mag), 0.0104 um/pixel\n",
    "# millingstep (in XY) 0.1 um\n",
    "# 600 us, 21 nA, mill away 0.1*0.1*0.1 um^3"
   ]
  },
  {
   "cell_type": "code",
   "execution_count": 4,
   "metadata": {},
   "outputs": [
    {
     "data": {
      "text/plain": [
       "1.6666666666666672"
      ]
     },
     "execution_count": 4,
     "metadata": {},
     "output_type": "execute_result"
    }
   ],
   "source": [
    "# volume/charge\n",
    "\n",
    "0.1**3/600e-6"
   ]
  },
  {
   "cell_type": "code",
   "execution_count": null,
   "metadata": {},
   "outputs": [],
   "source": [
    "# at 21 nA, mill away 1.67 um**3 per second\n"
   ]
  },
  {
   "cell_type": "code",
   "execution_count": 67,
   "metadata": {},
   "outputs": [],
   "source": [
    "def compute_milled_volume(NA,R):\n",
    "    thetaNA = np.arcsin(NA)\n",
    "    cone_vol = (1./3)*np.pi*R * (R* np.tan(thetaNA)  )**2\n",
    "    part_sphere_vol  = 4./3*np.pi*R**3 * (1-np.cos(thetaNA))/2\n",
    "    return cone_vol-part_sphere_vol\n",
    "\n",
    "def compute_45deg_SIL_vol(NA,R):\n",
    "    thetaNA = np.arcsin(NA)\n",
    "    part_cone_vol = 1./3* np.pi * 8*R**3  *7/8\n",
    "    hemi_vol = 2./3*np.pi*R**3\n",
    "    return part_cone_vol-hemi_vol"
   ]
  },
  {
   "cell_type": "code",
   "execution_count": 68,
   "metadata": {},
   "outputs": [
    {
     "data": {
      "text/plain": [
       "(1023.9264945033402, 654.4984694978737)"
      ]
     },
     "execution_count": 68,
     "metadata": {},
     "output_type": "execute_result"
    }
   ],
   "source": [
    "compute_milled_volume(0.8,10),compute_45deg_SIL_vol(0.8,5)"
   ]
  },
  {
   "cell_type": "code",
   "execution_count": 69,
   "metadata": {},
   "outputs": [
    {
     "data": {
      "text/plain": [
       "10.209580838323353"
      ]
     },
     "execution_count": 69,
     "metadata": {},
     "output_type": "execute_result"
    }
   ],
   "source": [
    "1023/1.67/60"
   ]
  },
  {
   "cell_type": "code",
   "execution_count": 70,
   "metadata": {},
   "outputs": [
    {
     "data": {
      "text/plain": [
       "(1023.9264945033402, 654.4984694978737)"
      ]
     },
     "execution_count": 70,
     "metadata": {},
     "output_type": "execute_result"
    }
   ],
   "source": [
    "compute_milled_volume(0.8,10),compute_45deg_SIL_vol(0.8,5)"
   ]
  },
  {
   "cell_type": "code",
   "execution_count": 11,
   "metadata": {},
   "outputs": [
    {
     "data": {
      "text/plain": [
       "3.141592653589793"
      ]
     },
     "execution_count": 11,
     "metadata": {},
     "output_type": "execute_result"
    }
   ],
   "source": [
    "np.pi"
   ]
  },
  {
   "cell_type": "code",
   "execution_count": null,
   "metadata": {},
   "outputs": [],
   "source": []
  },
  {
   "cell_type": "code",
   "execution_count": null,
   "metadata": {},
   "outputs": [],
   "source": []
  },
  {
   "cell_type": "code",
   "execution_count": null,
   "metadata": {},
   "outputs": [],
   "source": []
  },
  {
   "cell_type": "code",
   "execution_count": 5,
   "metadata": {},
   "outputs": [],
   "source": [
    "# generate SIL center in Ion beam view:\n",
    "# (X,Y) coordinate system\n",
    "C0=[-10,-15] # fiducial left 1 in ion beam view\n",
    "C1=[9,-14] # fiducial right 2 in ion beam view\n",
    "R0s=17.2675 # um, fiducial 1 distance to SIL center\n",
    "R1s=19.2369 # um, fiducial 2 distance to SIL center\n",
    "SILrelpos=-1 # -1 left of line 0->1, +1 right of line 0->1\n",
    "\n",
    "R01=np.sqrt((C1[0]-C0[0])**2+(C1[1]-C0[1])**2)\n",
    "correction=R01/20 # norminal separation 20 um\n",
    "angle01=np.arctan((C1[0]-C0[0])/(C1[1]-C0[1])) # angle tilt of fiducials in FIB view\n",
    "angle0s=np.arccos((20**2+R0s**2-R1s**2)/(2*20*R0s))\n",
    "\n",
    "if C1[0]-C0[0] < 0:\n",
    "    print('Please swap fiducials!')\n",
    "    \n",
    "if angle01<0:\n",
    "    angle01=angle01+pi\n",
    "\n",
    "if SILrelpos>0:  #being right of the line\n",
    "    SILcenterx=C0[0]+R0s*np.sin(angle01+angle0s)*correction;\n",
    "    SILcentery=C0[1]+R0s*np.cos(angle01+angle0s)*correction;\n",
    "else:\n",
    "    SILcenterx=C0[0]+R0s*np.sin(angle01-angle0s)*correction;\n",
    "    SILcentery=C0[1]+R0s*np.cos(angle01-angle0s)*correction;\n",
    "\n",
    "SILcenter=[SILcenterx,SILcentery]\n"
   ]
  },
  {
   "cell_type": "code",
   "execution_count": 14,
   "metadata": {},
   "outputs": [],
   "source": [
    "def plot_fiducial_and_sil(C0,C1,SILcenter):\n",
    "    threePts = np.asarray([C0 ,C1 ,SILcenter ,C0]).transpose()\n",
    "    fig, axs = plt.subplots(1, 1)\n",
    "    plt.plot(threePts[0,:],threePts[1,:],'o-')\n",
    "    plt.scatter(SILcenterx,SILcentery,c='red')\n",
    "    axs.axis('equal')\n",
    "    # axs.set_title('Ion view', fontsize=10)\n",
    "    # plt.legend()\n",
    "    plt.title(\"Ion view\")\n",
    "    \n",
    "def compute_layers(R0,layerdepth,thetaNA):\n",
    "    \"\"\"\n",
    "    compute inner and outer radius at each depth\n",
    "    \n",
    "    return inner, outer radius,yy [um]\n",
    "    \"\"\"\n",
    "    # yy=R-layerdepth:-layerdepth:0 # for 45 deg version\n",
    "    yy = np.arange(R0-layerdepth,R0*np.cos(thetaNA),-layerdepth) # vertical distance above sphere center\n",
    "    \n",
    "    # in micron\n",
    "    xxSILinner=np.round(np.sqrt(R0**2-yy**2),2) #tracing out the circular profile, one can modify this to adapt to other curves, like a parabola.\n",
    "    # xxSILouter=round(yy+R,2);% 45 degree tilt\n",
    "    xxSILouter=yy*np.tan(thetaNA) # thetaNA tilt\n",
    "    return xxSILinner,xxSILouter,yy    \n",
    "\n",
    "def compute_45deg_layers(R0,layerdepth,thetaNA):\n",
    "    \"\"\"\n",
    "    compute inner and outer radius at each depth\n",
    "    \n",
    "    return inner, outer radius,yy [um]\n",
    "    \"\"\"\n",
    "    # yy - vertical distance above sphere center \n",
    "    yy = np.arange(R0-layerdepth,0,-layerdepth)#45 deg version\n",
    "#     yy = np.arange(R0-layerdepth,R0*np.cos(thetaNA),-layerdepth)\n",
    "    \n",
    "    # in micron\n",
    "    xxSILinner=np.round(np.sqrt(R0**2-yy**2),2) #tracing out the circular profile, one can modify this to adapt to other curves, like a parabola.\n",
    "    xxSILouter=np.round(yy+R0,2) # 45 degree tilt\n",
    "#     xxSILouter=yy*np.tan(thetaNA) # thetaNA tilt\n",
    "    return xxSILinner,xxSILouter,yy    \n",
    "\n",
    "def plot_layers(xxSILinner,xxSILouter,yy,R0):\n",
    "    \"\"\"\n",
    "    plot sil layers cross-section\n",
    "    \"\"\"\n",
    "    fig, axs = plt.subplots(1, 1)\n",
    "    plt.plot(xxSILinner,yy,'o-')\n",
    "    plt.plot(xxSILouter,yy,'o-')\n",
    "    plt.scatter(0,0,c='red')\n",
    "\n",
    "    plt.plot(xxSILouter,yy,'o-')\n",
    "\n",
    "    plt.plot(xxSILouter,yy,'o-')\n",
    "\n",
    "    plt.plot(np.arange(0,R0*1.3,0.1),  1/np.tan(np.arcsin(NA))*np.arange(0,R0*1.3,0.1))\n",
    "\n",
    "    plt.plot(np.arange(0,R0/2,0.1),  1/np.tan(np.arcsin(NA/2.4))*np.arange(0,R0/2,0.1))\n",
    "\n",
    "\n",
    "    for i,v in enumerate(yy):\n",
    "        plt.plot([xxSILinner[i], xxSILouter[i]],[v, v]);\n",
    "\n",
    "    # axis equal;\n",
    "    plt.xlim([0,1.1*max(xxSILouter)])\n",
    "    plt.ylim([0,R0+max(xxSILouter)/2])\n",
    "    plt.xlabel('x(um)');\n",
    "    plt.ylabel('z(um)');\n",
    "    plt.title('milling factor 1.4')#  what is milling factor?\n",
    "\n",
    "    # output list inner diamter, outerdiameter, depth\n",
    "    # list size = number of layers = R_sil/layerdepth\n",
    "    siltab= np.zeros( (len(yy),3)  )\n",
    "    siltab[:,1]=xxSILinner*2;\n",
    "    siltab[:,0]=xxSILouter*2;\n",
    "    # siltab[:,3]=[layerdepth,-np.diff(yy)*1.4];\n",
    "\n",
    "    axs.axis('equal')\n",
    "    plt.text(R0*2/2,R0/3,'layer#= ' + str(len(siltab)) )\n",
    "\n",
    "def gen_tXYZ_file(xxSILinner,xxSILouter,yy,R):\n",
    "    \"\"\"\n",
    "    tXYZ file in\n",
    "    dwell time [0.1 us], inner radius [um], outer radius [um], height [um]\n",
    "    \"\"\"\n",
    "    siltab= np.zeros( (len(yy),3)  )\n",
    "    siltab[:,1]=xxSILinner*2;\n",
    "    siltab[:,0]=xxSILouter*2;\n",
    "    tXYZ=np.empty((0,4))\n",
    "    Ntot = len(siltab)\n",
    "    for n,val in enumerate(siltab):\n",
    "        outerdia=siltab[n,0]\n",
    "        innerdia=siltab[n,1]\n",
    "\n",
    "        # one layer\n",
    "        for millR in np.arange(innerdia/2,outerdia/2,millingstep ):\n",
    "            # one ring\n",
    "            philist= np.arange(   n/Ntot*2*np.pi,(2*np.pi+n/Ntot*2*np.pi  ),millingstep/millR   )\n",
    "            ringlen = len(philist)\n",
    "            milltXYZ = np.zeros((ringlen,4)  )\n",
    "            for phiind, phi in enumerate(philist):            \n",
    "                milltXYZ[phiind,:] = np.array( [dwelltime*10,millR*np.cos(phi),millR*np.sin(phi),yy[n]])\n",
    "            tXYZ = np.concatenate((tXYZ, milltXYZ), axis=0)\n",
    "    return tXYZ\n",
    "\n",
    "def tXYZ_to_stream(tXYZ,viewwidth,SILcenter=[0,0]):\n",
    "    \"\"\"\n",
    "    stream format in pixel    \n",
    "    \"\"\"\n",
    "    #map coordinate to Ion grid\n",
    "    mapscalefactor=4096/viewwidth # pixel/um\n",
    "    stream = np.zeros((len(tXYZ),3 ))\n",
    "    \n",
    "    [SILcenterx,SILcentery] = SILcenter\n",
    "\n",
    "    # shift X,Y center \n",
    "    stream[:,1] = ((tXYZ[:,1]+SILcenterx)*mapscalefactor)+4096/2\n",
    "    stream[:,2] = ((tXYZ[:,2]+SILcentery)*mapscalefactor)+4096/2\n",
    "\n",
    "    stream[:,0]=dwelltime*10 # in 0.1 us\n",
    "\n",
    "    stream = stream.astype(int)\n",
    "    return stream\n",
    "\n",
    "def gen_and_write_stream(R0,layerdepth,thetaNA,SILcenter=[0,0],plotLayers = True, plot2D =True, plot3D = True, writeToFile = True,filename = \"newSIL.str\"):\n",
    "    \"\"\"\n",
    "    \"\"\"\n",
    "    \n",
    "#     inR, outR, yheight = compute_layers(R0,layerdepth,thetaNA)\n",
    "    inR, outR, yheight = compute_45deg_layers(R0,layerdepth,thetaNA)\n",
    "    if plotLayers:\n",
    "        plot_layers(inR, outR, yheight,R0)\n",
    "        \n",
    "    \n",
    "    thistXYZ = gen_tXYZ_file(inR,outR,yheight,R0)\n",
    "    thisstream = tXYZ_to_stream(thistXYZ ,viewwidth,SILcenter)\n",
    "    if plot2D:\n",
    "        scatter_plot_2d(thisstream)\n",
    "    if plot3D:\n",
    "        scatter_plot_3d_surface(inR,outR,yheight)\n",
    "    \n",
    "    if writeToFile:\n",
    "        write_stream_to_file(filename,thisstream)\n",
    "    \n",
    "    return thisstream\n",
    "\n",
    "def scatter_plot_2d(stream):\n",
    "    \"\"\"\n",
    "    scatter plot stream file\n",
    "    \"\"\"\n",
    "    fig,axs = plt.subplots(1, 1)\n",
    "    XX = stream[:,1]\n",
    "    YY = stream[:,2]   \n",
    "    \n",
    "    plt.scatter(XX/4095.*40-20,(YY-280)/4095.*40-20)\n",
    "#     plt.scatter(XX,YY)\n",
    "    \n",
    "    axs.axis('equal')\n",
    "    plt.xlabel('x(um)')\n",
    "    plt.ylabel('y(um)')\n",
    "    plt.autoscale(enable=True, axis='y')\n",
    "    plt.autoscale(enable=True, axis='x')\n",
    "    \n",
    "def scatter_plot_3d_tXYZ(tXYZ):\n",
    "    \"\"\"\n",
    "    scatter plot stream file\n",
    "    \"\"\"\n",
    "    \n",
    "    fig = plt.figure()\n",
    "    ax = fig.add_subplot(111, projection='3d')\n",
    "\n",
    "    # defined by x in [23, 32], y in [0, 100], z in [zlow, zhigh].\n",
    "    for t,xx,yy,zz in tXYZ:\n",
    "        ax.scatter(xx, yy, zz, marker=m)\n",
    "\n",
    "    ax.set_xlabel('X [um]')\n",
    "    ax.set_ylabel('Y [um]')\n",
    "    ax.set_zlabel('Z [um]')\n",
    "\n",
    "    plt.show()\n",
    "\n",
    "def scatter_plot_3d_surface(xxSILinner,xxSILouter,yy):\n",
    "    \"\"\"\n",
    "    scatter plot stream file\n",
    "    \"\"\"\n",
    "    \n",
    "#     fig = plt.figure()\n",
    "#     ax = fig.add_subplot(111, projection='3d')\n",
    "    \n",
    "    fig = plt.figure()\n",
    "    ax = fig.gca(projection='3d')\n",
    "\n",
    "    philist = np.arange(0,2*np.pi,0.1   ) \n",
    "    # defined by x in [23, 32], y in [0, 100], z in [zlow, zhigh].\n",
    "    for ind,y0 in enumerate(yy):    \n",
    "        \n",
    "         \n",
    "        xx = np.cos(philist)*xxSILinner[ind]\n",
    "        yy = np.sin(philist)*xxSILinner[ind]\n",
    "        ax.scatter(xx, yy, y0)\n",
    "        \n",
    "        xx = np.cos(philist)*xxSILouter[ind]\n",
    "        yy = np.sin(philist)*xxSILouter[ind]\n",
    "        ax.scatter(xx, yy, y0)\n",
    "\n",
    "    ax.set_xlabel('X [um]')\n",
    "    ax.set_ylabel('Y [um]')\n",
    "    ax.set_zlabel('Z [um]')\n",
    "\n",
    "    routmax = max(xxSILouter)\n",
    "    \n",
    "    ax.set_xlim(-1.1*routmax,1.1*routmax)\n",
    "    ax.set_ylim(-1.1*routmax,1.1*routmax)\n",
    "    ax.set_zlim(0, 2.2*routmax)\n",
    "#     ax.axis('equal')\n",
    "    plt.show()\n",
    "    \n",
    "def write_stream_to_file(filename,streamarray):\n",
    "    \"\"\"\n",
    "    output .str file\n",
    "\n",
    "    stream file format\n",
    "    dwell_time X Y  \n",
    "    \"\"\"\n",
    "    with open(filename, 'w') as the_file:\n",
    "        the_file.write(  '%s\\n' % 's')\n",
    "        the_file.write(  '%s\\n' % '1')\n",
    "        the_file.write(  '%s\\n' % str(len(streamarray)))\n",
    "        for line in streamarray:\n",
    "            linestr = \" \".join(str(elem) for elem in line)+'\\n'\n",
    "            the_file.write(linestr)\n",
    "    print(\"Total time = \" +str(len(streamarray)*dwelltime/10**6*1.0     ) + \" sec\")\n",
    "    \n",
    "def read_and_plot(filename):\n",
    "    FOVX=[0 ,4095]\n",
    "    FOVY=[280, 3816]\n",
    "    Areadtest=np.loadtxt(filename,skiprows=3)\n",
    "    XX = Areadtest[:,1]\n",
    "    YY = Areadtest[:,2]\n",
    "    fig,axs = plt.subplots(1, 1)\n",
    "    plt.scatter(XX/4095.*40-20,(YY-280)/4095.*40-20)\n",
    "    axs.axis('equal')\n",
    "\n"
   ]
  },
  {
   "cell_type": "code",
   "execution_count": 7,
   "metadata": {},
   "outputs": [
    {
     "data": {
      "image/png": "[encoded data removed]",
      "text/plain": [
       "<Figure size 432x288 with 1 Axes>"
      ]
     },
     "metadata": {
      "needs_background": "light"
     },
     "output_type": "display_data"
    }
   ],
   "source": [
    "plot_fiducial_and_sil(C0,C1,SILcenter)"
   ]
  },
  {
   "cell_type": "code",
   "execution_count": 8,
   "metadata": {},
   "outputs": [
    {
     "data": {
      "image/png": "[encoded data removed]",
      "text/plain": [
       "<Figure size 432x288 with 1 Axes>"
      ]
     },
     "metadata": {
      "needs_background": "light"
     },
     "output_type": "display_data"
    }
   ],
   "source": [
    "inR,outR,yheight = compute_layers(2,layerdepth,thetaNA)\n",
    "plot_layers(inR,outR,yheight,2)"
   ]
  },
  {
   "cell_type": "code",
   "execution_count": 16,
   "metadata": {},
   "outputs": [
    {
     "data": {
      "image/png": "[encoded data removed]",
      "text/plain": [
       "<Figure size 432x288 with 1 Axes>"
      ]
     },
     "metadata": {
      "needs_background": "light"
     },
     "output_type": "display_data"
    }
   ],
   "source": [
    "inR,outR,yheight = compute_45deg_layers(2,layerdepth,thetaNA)\n",
    "plot_layers(inR,outR,yheight,2)"
   ]
  },
  {
   "cell_type": "code",
   "execution_count": 48,
   "metadata": {},
   "outputs": [
    {
     "data": {
      "text/plain": [
       "7551"
      ]
     },
     "execution_count": 48,
     "metadata": {},
     "output_type": "execute_result"
    }
   ],
   "source": [
    "thistXYZ = gen_tXYZ_file(inR,outR,yheight ,10)\n",
    "len(thistXYZ)"
   ]
  },
  {
   "cell_type": "code",
   "execution_count": 17,
   "metadata": {},
   "outputs": [
    {
     "data": {
      "image/png": "[encoded data removed]",
      "text/plain": [
       "<Figure size 432x288 with 1 Axes>"
      ]
     },
     "metadata": {
      "needs_background": "light"
     },
     "output_type": "display_data"
    },
    {
     "data": {
      "image/png": "[encoded data removed]",
      "text/plain": [
       "<Figure size 432x288 with 1 Axes>"
      ]
     },
     "metadata": {
      "needs_background": "light"
     },
     "output_type": "display_data"
    },
    {
     "name": "stdout",
     "output_type": "stream",
     "text": [
      "Total time = 387.0 sec\n"
     ]
    }
   ],
   "source": [
    "tstream=gen_and_write_stream(R_sil,layerdepth,thetaNA,plot2D=False)"
   ]
  },
  {
   "cell_type": "code",
   "execution_count": 57,
   "metadata": {},
   "outputs": [
    {
     "data": {
      "text/plain": [
       "1004587"
      ]
     },
     "execution_count": 57,
     "metadata": {},
     "output_type": "execute_result"
    }
   ],
   "source": [
    "len(tstream)"
   ]
  },
  {
   "cell_type": "code",
   "execution_count": 68,
   "metadata": {},
   "outputs": [
    {
     "data": {
      "text/plain": [
       "6.45"
      ]
     },
     "execution_count": 68,
     "metadata": {},
     "output_type": "execute_result"
    }
   ],
   "source": [
    "387./60\n"
   ]
  },
  {
   "cell_type": "code",
   "execution_count": null,
   "metadata": {},
   "outputs": [],
   "source": [
    "# show trjactory of milling\n",
    "\n",
    "if seee:\n",
    "    fig,axs = plt.subplots(1, 1)\n",
    "    scatter3(str(:,2),str(:,3),str(:,4),[],linspace(1,10,size(str,1)),'filled');\n",
    "    hold on; plot3(str(:,2),str(:,3),str(:,4));\n",
    "    axis equal;\n",
    "    shading interp;\n",
    "\n",
    "\n",
    "#map coordinate to Ion grid\n",
    "\n",
    "# mapscalefactor=4096/viewwidth # pixel/um\n",
    "\n",
    "# str(:,2:3)=str(:,2:3);\n",
    "# %str(:,2)=int16((str(:,2)+SILcenterx).*mapscalefactor)+4096/2; %if need to\n",
    "# %shift the center\n",
    "# %str(:,3)=int16((str(:,3)+SILcentery).*mapscalefactor)+4096/2;\n",
    "\n",
    "# % no center shift; SIL at field of view center\n",
    "# str(:,2)=int16((str(:,2)).*mapscalefactor)+4096/2;\n",
    "# str(:,3)=int16((str(:,3)).*mapscalefactor)+4096/2;\n",
    "\n",
    "# see=1;   %if you want to see\n",
    "# if see\n",
    "# figure;\n",
    "# plot(str(:,2),str(:,3));\n",
    "# hold on;\n",
    "# plot(plot1(1,:).*mapscalefactor+4096/2,plot1(2,:).*mapscalefactor+4096/2,'o-'); hold on;\n",
    "# scatter(SILcenterx.*mapscalefactor+4096/2,SILcentery.*mapscalefactor+4096/2,'filled');\n",
    "# axis equal;\n",
    "# xlim([0,4096]);\n",
    "# ylim([0,4096]);\n",
    "# end\n"
   ]
  },
  {
   "cell_type": "code",
   "execution_count": 111,
   "metadata": {},
   "outputs": [],
   "source": []
  },
  {
   "cell_type": "code",
   "execution_count": 68,
   "metadata": {},
   "outputs": [
    {
     "name": "stdout",
     "output_type": "stream",
     "text": [
      "Total time = 0.0 sec\n"
     ]
    },
    {
     "data": {
      "image/png": "[encoded data removed]",
      "text/plain": [
       "<Figure size 432x288 with 1 Axes>"
      ]
     },
     "metadata": {
      "needs_background": "light"
     },
     "output_type": "display_data"
    }
   ],
   "source": [
    "# generate test .str file 25 points array.\n",
    "\n",
    "# data = [96,1229,2867;96,1639,2867;96,2048,2867;96,2457,2867;96,2867,2867;96,1229,2457;96,1639,2457;96,2048,2457;96,2457,2457;96,2867,2457;96,1229,2048;96,1639,2048;96,2048,2048;96,2457,2048;96,2867,2048;96,1229,1639;96,1639,1639;96,2048,1639;96,2457,1639;96,2867,1639;96,1229,1229;96,1639,1229;96,2048,1229;96,2457,1229;96,2867,1229]\n",
    "data= np.random.rand(25,3)*100\n",
    "\n",
    "time = 98.*(np.zeros((1,25))+1) # 0.1 us\n",
    "Atest = np.zeros((25,3))\n",
    "Atest[:,0] = time\n",
    "Atest[:,1] = data[:,1]\n",
    "Atest[:,2] = data[:,2]\n",
    "\n",
    "Atest=Atest.astype(int)\n",
    "\n",
    "write_stream_to_file('testwrite.str',Atest)\n",
    "read_and_plot('testwrite.str')"
   ]
  },
  {
   "cell_type": "code",
   "execution_count": 132,
   "metadata": {},
   "outputs": [
    {
     "data": {
      "image/png": "[encoded data removed]",
      "text/plain": [
       "<Figure size 432x288 with 1 Axes>"
      ]
     },
     "metadata": {
      "needs_background": "light"
     },
     "output_type": "display_data"
    }
   ],
   "source": [
    "read_and_plot('newSIL.str')"
   ]
  },
  {
   "cell_type": "code",
   "execution_count": null,
   "metadata": {},
   "outputs": [],
   "source": [
    "\n",
    "\"\"\"{\n",
    "Parameters:\n",
    "\n",
    "    width        = width of the writing area [micron]\n",
    "\n",
    "    mu           = milling rate [micron**3 / (micro s * nA )]\n",
    "    I            = beam current [nA]  9 nA \n",
    "    ds           = step size in the x-y-plane [micron]\n",
    "\n",
    "    R_sil        = radius of the SIL [micron]\n",
    "    R_cone       = outer radius of the cone around the SIL [micron]\n",
    "    N            = number of slices. The geometry is divided into N slices.\n",
    "    rep          = number of repetitions. Note that the milling time on each pixel is\n",
    "                   divided by the number of repetitons, i.e., the number of\n",
    "                   repetitions just determines 'how smooth' the milling is done\n",
    "                   and not how long.    \n",
    "\n",
    "    position     = position of the structure on the writing area [micron]\n",
    "\n",
    "Output:\n",
    "    sil.str      = stream file \n",
    "}\n",
    "\"\"\" "
   ]
  },
  {
   "cell_type": "code",
   "execution_count": 17,
   "metadata": {},
   "outputs": [
    {
     "data": {
      "image/png": "[encoded data removed]",
      "text/plain": [
       "<Figure size 432x288 with 1 Axes>"
      ]
     },
     "metadata": {
      "needs_background": "light"
     },
     "output_type": "display_data"
    }
   ],
   "source": [
    "from mpl_toolkits.mplot3d import Axes3D\n",
    "from matplotlib import cm\n",
    "import matplotlib.pyplot as plt\n",
    "import numpy as np\n",
    "\n",
    "fig = plt.figure()\n",
    "ax = fig.gca(projection='3d')\n",
    "ax.set_aspect('equal')\n",
    "\n",
    "X = np.random.rand(100)*10+5\n",
    "Y = np.random.rand(100)*5+2.5\n",
    "Z = np.random.rand(100)*50+25\n",
    "\n",
    "scat = ax.scatter(X, Y, Z)\n",
    "\n",
    "max_range = np.array([X.max()-X.min(), Y.max()-Y.min(), Z.max()-Z.min()]).max() / 2.0\n",
    "\n",
    "mid_x = (X.max()+X.min()) * 0.5\n",
    "mid_y = (Y.max()+Y.min()) * 0.5\n",
    "mid_z = (Z.max()+Z.min()) * 0.5\n",
    "ax.set_xlim(mid_x - max_range, mid_x + max_range)\n",
    "ax.set_ylim(mid_y - max_range, mid_y + max_range)\n",
    "ax.set_zlim(mid_z - max_range, mid_z + max_range)\n",
    "\n",
    "plt.show()"
   ]
  },
  {
   "cell_type": "code",
   "execution_count": null,
   "metadata": {},
   "outputs": [],
   "source": []
  },
  {
   "cell_type": "code",
   "execution_count": null,
   "metadata": {},
   "outputs": [],
   "source": [
    "# generate pattern and text\n"
   ]
  },
  {
   "cell_type": "code",
   "execution_count": 18,
   "metadata": {},
   "outputs": [
    {
     "name": "stdout",
     "output_type": "stream",
     "text": [
      "(104, 15)\n",
      "<type 'ImagingCore'>\n"
     ]
    }
   ],
   "source": [
    "from PIL import Image, ImageFont\n",
    "img = Image.new('L', (500, 500), color=0)\n",
    "img_w, img_h = img.size\n",
    "font = ImageFont.truetype('arial.ttf', 20)\n",
    "mask = font.getmask('Leonardo-B', mode='L')\n",
    "mask_w, mask_h = mask.size\n",
    "print(mask_w,mask_h)\n",
    "print(type(mask))\n",
    "d = Image.core.draw(img.im, 0)\n",
    "# d = d.rotate(40)\n",
    "d.draw_bitmap(((img_w - mask_w)/2, (img_h - mask_h)/2), mask, 255)\n",
    "img = img.rotate(40)\n",
    "img.show()\n",
    "img.save('op.jpg')"
   ]
  },
  {
   "cell_type": "code",
   "execution_count": 24,
   "metadata": {},
   "outputs": [],
   "source": [
    "# white text on black background\n",
    "from PIL import Image, ImageDraw, ImageFont\n",
    "import numpy as np\n",
    "\n",
    "img = Image.new('RGB', (512, 512), color = (0,0, 0))\n",
    " \n",
    "# fnt = ImageFont.truetype('/Library/Fonts/Arial.ttf', 15)\n",
    "d = ImageDraw.Draw(img)\n",
    "font = ImageFont.truetype('arial.ttf', 30)\n",
    "d.text((10,10), \"Upper Left\", fill=(255, 255, 255),font=font)\n",
    "# text = 'Upper left'\n",
    "# mask = [x for x in fnt.getmask(text, mode='1')]\n",
    "# # img.putdata(mask)\n",
    "# img.putdata(mask)\n",
    "    \n",
    "xscan = np.arange(100,461,40)\n",
    "yscan = np.arange(100,461,40)\n",
    "\n",
    "rX = 2\n",
    "rY = 2\n",
    "\n",
    "for x in xscan:\n",
    "    for y in yscan:\n",
    "        bbox =  (x - rX, y - rY, x + rX, y + rY)\n",
    "        d.ellipse(bbox, fill = (255, 255, 255), outline =(255, 255, 255))\n",
    "\n",
    "        \n",
    "fontsmall = ImageFont.truetype('arial.ttf', 15)\n",
    "for ind,x in enumerate(xscan):\n",
    "    d.text((x-5,70), str(ind+1), fill=(255, 255, 255),font=fontsmall)\n",
    "\n",
    "for ind,y in enumerate(yscan):\n",
    "    d.text((70,y-10), str(ind+1), fill=(255, 255, 255),font=fontsmall)\n",
    "\n",
    "    \n",
    "# img = img.convert('1') # convert image to black and white\n",
    "    \n",
    "    \n",
    "img.save('pil_text_font.bmp')\n",
    "\n",
    "img.show()\n",
    "# display(Image(filename='pil_text_font.png'))"
   ]
  },
  {
   "cell_type": "code",
   "execution_count": 100,
   "metadata": {},
   "outputs": [
    {
     "ename": "IndentationError",
     "evalue": "expected an indented block (<ipython-input-100-d21879a646a3>, line 35)",
     "output_type": "error",
     "traceback": [
      "\u001b[1;36m  File \u001b[1;32m\"<ipython-input-100-d21879a646a3>\"\u001b[1;36m, line \u001b[1;32m35\u001b[0m\n\u001b[1;33m    for ind,y in enumerate(yscan):\u001b[0m\n\u001b[1;37m      ^\u001b[0m\n\u001b[1;31mIndentationError\u001b[0m\u001b[1;31m:\u001b[0m expected an indented block\n"
     ]
    }
   ],
   "source": [
    "\n",
    "img = Image.new('RGB', (1024, 1024), color = (0,0, 0))\n",
    " \n",
    "# fnt = ImageFont.truetype('/Library/Fonts/Arial.ttf', 15)\n",
    "d = ImageDraw.Draw(img)\n",
    "font = ImageFont.truetype('arial.ttf', 60)\n",
    "# d.text((200,20), \"Left\", fill=(255, 255, 255),font=font)\n",
    "\n",
    "\n",
    "fontlarge = ImageFont.truetype('arial.ttf', 300)\n",
    "# d.text((0,-80), \"+\", fill=(255, 255, 255),font=fontlarge)\n",
    "\n",
    "\n",
    "# text = 'Upper left'\n",
    "# mask = [x for x in fnt.getmask(text, mode='1')]\n",
    "# # img.putdata(mask)\n",
    "# img.putdata(mask)\n",
    "    \n",
    "xscan = np.arange(200,921,80)\n",
    "yscan = np.arange(200,921,80)\n",
    "\n",
    "rX = 6\n",
    "rY = 6\n",
    "\n",
    "for x in xscan:\n",
    "    for y in yscan:\n",
    "        bbox =  (x - rX, y - rY, x + rX, y + rY)\n",
    "        d.ellipse(bbox, fill = (255, 255, 255), outline =(255, 255, 255))\n",
    "\n",
    "        \n",
    "fontsmall = ImageFont.truetype('arial.ttf', 40)\n",
    "for ind,x in enumerate(xscan):\n",
    "#     d.text((x-10,120), str(ind+1), fill=(255, 255, 255),font=fontsmall)\n",
    "\n",
    "for ind,y in enumerate(yscan):\n",
    "#     d.text((120,y-20), str(ind+1), fill=(255, 255, 255),font=fontsmall)\n",
    "\n",
    "    \n",
    "img = img.convert('1') # convert image to black and white\n",
    "    \n",
    "    \n",
    "# img.save('Leftdots.bmp')\n",
    "\n",
    "# img.show()\n",
    "# display(Image(filename='pil_text_font.png'))"
   ]
  },
  {
   "cell_type": "code",
   "execution_count": 102,
   "metadata": {},
   "outputs": [
    {
     "data": {
      "image/png": "[encoded data removed]",
      "text/plain": [
       "<PIL.Image.Image image mode=1 size=1024x1024 at 0xCAA18D0>"
      ]
     },
     "execution_count": 102,
     "metadata": {},
     "output_type": "execute_result"
    }
   ],
   "source": [
    "img"
   ]
  },
  {
   "cell_type": "code",
   "execution_count": 91,
   "metadata": {},
   "outputs": [],
   "source": [
    "data = np.asarray( img, dtype=\"int32\" )"
   ]
  },
  {
   "cell_type": "code",
   "execution_count": 92,
   "metadata": {},
   "outputs": [],
   "source": [
    "thisarray  =np.asarray(data)"
   ]
  },
  {
   "cell_type": "code",
   "execution_count": 93,
   "metadata": {},
   "outputs": [],
   "source": [
    "new_array = np.zeros((1024,1024))"
   ]
  },
  {
   "cell_type": "code",
   "execution_count": 97,
   "metadata": {},
   "outputs": [],
   "source": [
    "new_array  = thisarray[:,:]"
   ]
  },
  {
   "cell_type": "code",
   "execution_count": 98,
   "metadata": {},
   "outputs": [
    {
     "data": {
      "text/plain": [
       "26468"
      ]
     },
     "execution_count": 98,
     "metadata": {},
     "output_type": "execute_result"
    }
   ],
   "source": [
    "np.count_nonzero(new_array)"
   ]
  },
  {
   "cell_type": "code",
   "execution_count": 89,
   "metadata": {},
   "outputs": [
    {
     "data": {
      "text/plain": [
       "457.328125"
      ]
     },
     "execution_count": 89,
     "metadata": {},
     "output_type": "execute_result"
    }
   ],
   "source": [
    "29269*(1./8)*(1./8)"
   ]
  },
  {
   "cell_type": "code",
   "execution_count": 96,
   "metadata": {},
   "outputs": [
    {
     "data": {
      "text/plain": [
       "1024"
      ]
     },
     "execution_count": 96,
     "metadata": {},
     "output_type": "execute_result"
    }
   ],
   "source": [
    "len(thisarray)"
   ]
  },
  {
   "cell_type": "code",
   "execution_count": null,
   "metadata": {},
   "outputs": [],
   "source": []
  },
  {
   "cell_type": "code",
   "execution_count": null,
   "metadata": {},
   "outputs": [],
   "source": []
  },
  {
   "cell_type": "code",
   "execution_count": 67,
   "metadata": {},
   "outputs": [],
   "source": [
    "\n",
    "img = Image.new('RGB', (1024, 1024), color = (0,0, 0))\n",
    " \n",
    "# fnt = ImageFont.truetype('/Library/Fonts/Arial.ttf', 15)\n",
    "d = ImageDraw.Draw(img)\n",
    "font = ImageFont.truetype('arial.ttf', 60)\n",
    "d.text((680,20), \"Right\", fill=(255, 255, 255),font=font)\n",
    "fontlarge = ImageFont.truetype('arial.ttf', 300)\n",
    "d.text((800,-70), \"+\", fill=(255, 255, 255),font=fontlarge)\n",
    "\n",
    "\n",
    "# text = 'Upper left'\n",
    "# mask = [x for x in fnt.getmask(text, mode='1')]\n",
    "# # img.putdata(mask)\n",
    "# img.putdata(mask)\n",
    "    \n",
    "xscan = np.arange(200,921,80)\n",
    "yscan = np.arange(200,921,80)\n",
    "\n",
    "rX = 6\n",
    "rY = 6\n",
    "\n",
    "for x in xscan:\n",
    "    for y in yscan:\n",
    "        bbox =  (x - rX, y - rY, x + rX, y + rY)\n",
    "        d.ellipse(bbox, fill = (255, 255, 255), outline =(255, 255, 255))\n",
    "\n",
    "        \n",
    "fontsmall = ImageFont.truetype('arial.ttf', 40)\n",
    "for ind,x in enumerate(xscan):\n",
    "    d.text((x-10,120), str(ind+1), fill=(255, 255, 255),font=fontsmall)\n",
    "\n",
    "for ind,y in enumerate(yscan):\n",
    "    d.text((120,y-20), str(ind+1), fill=(255, 255, 255),font=fontsmall)\n",
    "\n",
    "    \n",
    "# img = img.convert('1') # convert image to black and white\n",
    "    \n",
    "    \n",
    "img.save('Rightdots.bmp')\n",
    "\n",
    "img.show()\n",
    "# display(Image(filename='pil_text_font.png'))"
   ]
  },
  {
   "cell_type": "code",
   "execution_count": 62,
   "metadata": {},
   "outputs": [],
   "source": [
    "img = Image.new('RGB', (400, 400), color = (0,0, 0))\n",
    "# fnt = ImageFont.truetype('/Library/Fonts/Arial.ttf', 15)\n",
    "d = ImageDraw.Draw(img)\n",
    "font = ImageFont.truetype('arial.ttf', 60)\n",
    "d.text((20,20), \"Leonardo-B\", fill=(255, 255, 255),font=font)\n",
    "fontlarge= ImageFont.truetype('arial.ttf', 300)\n",
    "d.text((100,0), \"+\", fill=(255, 255, 255),font=fontlarge)\n",
    "# text = 'Upper left'\n",
    "# mask = [x for x in fnt.getmask(text, mode='1')]\n",
    "# # img.putdata(mask)\n",
    "# img.putdata(mask)\n",
    "    \n",
    "    \n",
    "# img = img.convert('1') # convert image to black and white\n",
    "    \n",
    "    \n",
    "img.save('crossLeonardoB.bmp')\n",
    "\n",
    "img.show()\n",
    "# display(Image(filename='pil_text_font.png'))"
   ]
  },
  {
   "cell_type": "code",
   "execution_count": 31,
   "metadata": {},
   "outputs": [],
   "source": [
    "img = Image.new('RGB', (500, 400), color = (0,0, 0))\n",
    "# fnt = ImageFont.truetype('/Library/Fonts/Arial.ttf', 15)\n",
    "d = ImageDraw.Draw(img)\n",
    "font = ImageFont.truetype('arial.ttf', 60)\n",
    "d.text((20,20), \"Silicon 20191009\", fill=(255, 255, 255),font=font)\n",
    "fontlarge= ImageFont.truetype('arial.ttf', 120)\n",
    "d.text((160,60), \"+\", fill=(255, 255, 255),font=fontlarge)\n",
    "# text = 'Upper left'\n",
    "# mask = [x for x in fnt.getmask(text, mode='1')]\n",
    "# # img.putdata(mask)\n",
    "# img.putdata(mask)\n",
    "    \n",
    "    \n",
    "# img = img.convert('1') # convert image to black and white\n",
    "    \n",
    "    \n",
    "img.save('silicon_cross.bmp')\n",
    "\n",
    "img.show()\n",
    "# display(Image(filename='pil_text_font.png'))"
   ]
  },
  {
   "cell_type": "code",
   "execution_count": 64,
   "metadata": {},
   "outputs": [],
   "source": [
    "img = Image.new('RGB', (400, 400), color = (0,0, 0))\n",
    "# fnt = ImageFont.truetype('/Library/Fonts/Arial.ttf', 15)\n",
    "d = ImageDraw.Draw(img)\n",
    "font = ImageFont.truetype('arial.ttf', 60)\n",
    "d.text((20,20), \"2810753-3 A\", fill=(255, 255, 255),font=font)\n",
    "fontlarge= ImageFont.truetype('arial.ttf', 300)\n",
    "d.text((100,0), \"+\", fill=(255, 255, 255),font=fontlarge)\n",
    "# text = 'Upper left'\n",
    "# mask = [x for x in fnt.getmask(text, mode='1')]\n",
    "# # img.putdata(mask)\n",
    "# img.putdata(mask)\n",
    "    \n",
    "    \n",
    "# img = img.convert('1') # convert image to black and white\n",
    "    \n",
    "    \n",
    "img.save('cross2810753A.bmp')\n",
    "\n",
    "img.show()\n",
    "# display(Image(filename='pil_text_font.png'))"
   ]
  },
  {
   "cell_type": "code",
   "execution_count": 65,
   "metadata": {},
   "outputs": [],
   "source": [
    "img = Image.new('RGB', (400, 400), color = (0,0, 0))\n",
    "# fnt = ImageFont.truetype('/Library/Fonts/Arial.ttf', 15)\n",
    "d = ImageDraw.Draw(img)\n",
    "# font = ImageFont.truetype('arial.ttf', 60)\n",
    "# d.text((20,20), \"2810753-3 A\", fill=(255, 255, 255),font=font)\n",
    "fontlarge= ImageFont.truetype('arial.ttf', 300)\n",
    "d.text((100,0), \"+\", fill=(255, 255, 255),font=fontlarge)\n",
    "# text = 'Upper left'\n",
    "# mask = [x for x in fnt.getmask(text, mode='1')]\n",
    "# # img.putdata(mask)\n",
    "# img.putdata(mask)\n",
    "    \n",
    "    \n",
    "# img = img.convert('1') # convert image to black and white\n",
    "    \n",
    "    \n",
    "img.save('cross_only.bmp')\n",
    "\n",
    "img.show()\n",
    "# display(Image(filename='pil_text_font.png'))"
   ]
  },
  {
   "cell_type": "code",
   "execution_count": 25,
   "metadata": {},
   "outputs": [],
   "source": [
    "from PIL import Image, ImageFont\n",
    "\n",
    "fnt = ImageFont.truetype('arial.ttf', 50)\n",
    "text = 'test, test'\n",
    "img = Image.new('1', fnt.getsize(text))\n",
    "mask = [x for x in fnt.getmask(text, mode='1')]\n",
    "img.putdata(mask)\n",
    "img.show()"
   ]
  },
  {
   "cell_type": "code",
   "execution_count": null,
   "metadata": {},
   "outputs": [],
   "source": []
  },
  {
   "cell_type": "code",
   "execution_count": null,
   "metadata": {},
   "outputs": [],
   "source": []
  },
  {
   "cell_type": "markdown",
   "metadata": {},
   "source": []
  }
 ],
 "metadata": {
  "kernelspec": {
   "display_name": "Python 3",
   "language": "python",
   "name": "python3"
  },
  "language_info": {
   "codemirror_mode": {
    "name": "ipython",
    "version": 3
   },
   "file_extension": ".py",
   "mimetype": "text/x-python",
   "name": "python",
   "nbconvert_exporter": "python",
   "pygments_lexer": "ipython3",
   "version": "3.6.5"
  }
 },
 "nbformat": 4,
 "nbformat_minor": 2
}

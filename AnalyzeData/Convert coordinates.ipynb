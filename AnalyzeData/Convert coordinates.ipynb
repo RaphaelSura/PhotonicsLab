{
 "cells": [
  {
   "cell_type": "code",
   "execution_count": 7,
   "metadata": {},
   "outputs": [
    {
     "data": {
      "text/plain": [
       "'64bit'"
      ]
     },
     "execution_count": 7,
     "metadata": {},
     "output_type": "execute_result"
    }
   ],
   "source": [
    "import platform\n",
    "import numpy as np\n",
    "import matplotlib.pyplot as plt\n",
    "import math\n",
    "import skimage\n",
    "from skimage import data\n",
    "from skimage.feature import match_template\n",
    "\n",
    "\n",
    "\n",
    "platform.architecture()[0]"
   ]
  },
  {
   "cell_type": "code",
   "execution_count": null,
   "metadata": {},
   "outputs": [],
   "source": [
    "# B70 2nd setup\n",
    "def convert_B70_2nd(H,V,marks,margin=[100,100,100,100],samplesize=3000,displayFig=True):\n",
    "    \"\"\"\n",
    "    [um]    \n",
    "    alignment marks [topleft_H,topleft_V, topright_H, topright_V]\n",
    "    Return:\n",
    "    coordinates (row,column) relative to topleft corner, where topleft topright marks are on the same horizontal line\n",
    "    if displayFig, display the coordinates in lab frame and sample frame\n",
    "    \"\"\"\n",
    "    markyy = marks[3]-marks[1]\n",
    "    markxx = -(marks[2]-marks[0])\n",
    "    theta = np.arctan2(markyy,markxx)\n",
    "    yy = V - marks[1]\n",
    "    xx = -(H-marks[0])\n",
    "    \n",
    "    c, s = np.cos(-theta), np.sin(-theta)\n",
    "    R = np.array(((c,-s), (s, c)))\n",
    "    \n",
    "    v = np.array((xx,yy))\n",
    "    vrot = R.dot(v)"
   ]
  },
  {
   "cell_type": "code",
   "execution_count": 1,
   "metadata": {},
   "outputs": [],
   "source": [
    "leoCmarks=[2000,32,21,42]"
   ]
  },
  {
   "cell_type": "code",
   "execution_count": 2,
   "metadata": {},
   "outputs": [
    {
     "data": {
      "text/plain": [
       "2000"
      ]
     },
     "execution_count": 2,
     "metadata": {},
     "output_type": "execute_result"
    }
   ],
   "source": [
    "theta = np.arctan2(          )"
   ]
  },
  {
   "cell_type": "code",
   "execution_count": 5,
   "metadata": {},
   "outputs": [
    {
     "data": {
      "text/plain": [
       "1.1071487177940904"
      ]
     },
     "execution_count": 5,
     "metadata": {},
     "output_type": "execute_result"
    }
   ],
   "source": [
    "np.arctan2(2,1)"
   ]
  },
  {
   "cell_type": "code",
   "execution_count": 6,
   "metadata": {},
   "outputs": [
    {
     "data": {
      "text/plain": [
       "1.9992566321281273"
      ]
     },
     "execution_count": 6,
     "metadata": {},
     "output_type": "execute_result"
    }
   ],
   "source": [
    "np.tan(1.107)"
   ]
  },
  {
   "cell_type": "code",
   "execution_count": 51,
   "metadata": {},
   "outputs": [],
   "source": [
    "marks = [7000,6000, 4132,7000]\n",
    "H = 5231\n",
    "V = 6000\n",
    "\n",
    "TLh,TLv,TRh,TRv = marks\n",
    "\n",
    "\n",
    "\n",
    "markyy = marks[3]-marks[1]\n",
    "markxx = -(marks[2]-marks[0])\n",
    "\n",
    "\n",
    "\n",
    "\n",
    "theta = np.arctan2(markyy,markxx)\n",
    "yy = V - marks[1]\n",
    "xx = -(H-marks[0])\n",
    "\n",
    "c, s = np.cos(-theta), np.sin(-theta)\n",
    "R = np.array(((c,-s), (s, c)))\n",
    "\n",
    "v = np.array((xx,yy))\n",
    "vrot = R.dot(v)\n",
    "\n",
    "vecTR = np.array((markxx,markyy))\n",
    "vecTRrot = R.dot(vecTR)\n",
    "samplesize=3000"
   ]
  },
  {
   "cell_type": "code",
   "execution_count": 54,
   "metadata": {},
   "outputs": [
    {
     "name": "stdout",
     "output_type": "stream",
     "text": [
      "5566.0\n"
     ]
    },
    {
     "data": {
      "image/png": "[encoded data removed]",
      "text/plain": [
       "<Figure size 1152x432 with 2 Axes>"
      ]
     },
     "metadata": {
      "needs_background": "light"
     },
     "output_type": "display_data"
    }
   ],
   "source": [
    "image = data.coins() # full image\n",
    "coin = image[170:220, 75:130] # coin template\n",
    "\n",
    "result = match_template(image, coin)\n",
    "ij = np.unravel_index(np.argmax(result), result.shape)\n",
    "x, y = ij[::-1]\n",
    "\n",
    "fig = plt.figure(figsize=(16, 6))\n",
    "ax1 = plt.subplot(1, 2, 1)\n",
    "ax2 = plt.subplot(1, 2, 2)\n",
    "# ax3 = plt.subplot(1, 3, 3, sharex=ax2, sharey=ax2)\n",
    "# image = image*0+255\n",
    "\n",
    "# ax1.imshow(coin, cmap=plt.cm.gray)\n",
    "\n",
    "# ax1.set_axis_off()\n",
    "\n",
    "ax1.set_title('Lab frame - B70 2nd setup')\n",
    "centerh = (TLh+TRh)/2\n",
    "print(centerh)\n",
    "centerv = (TLv+TRv)/2 -samplesize/2\n",
    "ax1.plot(TLh, TLv, '+', markeredgecolor='r', markerfacecolor='none', markersize=30)\n",
    "\n",
    "ax1.plot(TRh, TRv, '+', markeredgecolor='b', markerfacecolor='none', markersize=30)\n",
    "ax1.plot(H, V, 'x', markeredgecolor='g', markerfacecolor='none', markersize=30)\n",
    "\n",
    "ax1.set_xlim(centerh+samplesize,centerh-samplesize)\n",
    "ax1.set_ylim(centerv-samplesize,centerv+samplesize)\n",
    "ax1.yaxis.tick_right()\n",
    "\n",
    "# row column\n",
    "# ax2.imshow(image, cmap=plt.cm.gray)\n",
    "# ax2.set_axis_off()\n",
    "ax2.set_title('Sample frame')\n",
    "# highlight matched region\n",
    "\n",
    "# column, row := x,-y\n",
    "ax2.plot(0, 0, '+', markeredgecolor='r', markerfacecolor='none', markersize=30)\n",
    "\n",
    "ax2.plot(vecTRrot[0], -vecTRrot[1], '+', markeredgecolor='b', markerfacecolor='none', markersize=30)\n",
    "ax2.plot(vrot[0], -vrot[1], 'x', markeredgecolor='g', markerfacecolor='none', markersize=30)\n",
    "\n",
    "ax2.set_xlim(-samplesize/2.,1.5*samplesize)\n",
    "ax2.set_ylim(1.5*samplesize,-samplesize/2.)\n",
    "\n",
    "hcoin, wcoin = coin.shape\n",
    "rect = plt.Rectangle((x, y), wcoin, hcoin, edgecolor='r', facecolor='none')\n",
    "# ax2.add_patch(rect)\n",
    "\n",
    "# ax2.plot(x, y, '+', markeredgecolor='r', markerfacecolor='none', markersize=30)\n",
    "\n",
    "\n",
    "# ax3.imshow(result)\n",
    "# # ax3.set_axis_off()\n",
    "# ax3.set_title('`match_template`\\nresult')\n",
    "# # highlight matched region\n",
    "# ax3.autoscale(False)\n",
    "# ax3.plot(x, y, 'o', markeredgecolor='r', markerfacecolor='none', markersize=10)\n",
    "\n",
    "plt.show()"
   ]
  },
  {
   "cell_type": "code",
   "execution_count": 43,
   "metadata": {},
   "outputs": [
    {
     "data": {
      "text/plain": [
       "array([1659.07375976, -783.58423905])"
      ]
     },
     "execution_count": 43,
     "metadata": {},
     "output_type": "execute_result"
    }
   ],
   "source": [
    "vrot"
   ]
  },
  {
   "cell_type": "code",
   "execution_count": 15,
   "metadata": {},
   "outputs": [],
   "source": [
    "image=image*0"
   ]
  },
  {
   "cell_type": "code",
   "execution_count": 20,
   "metadata": {},
   "outputs": [
    {
     "data": {
      "text/plain": [
       "array([[255, 255, 255, ..., 255, 255, 255],\n",
       "       [255, 255, 255, ..., 255, 255, 255],\n",
       "       [255, 255, 255, ..., 255, 255, 255],\n",
       "       ...,\n",
       "       [255, 255, 255, ..., 255, 255, 255],\n",
       "       [255, 255, 255, ..., 255, 255, 255],\n",
       "       [255, 255, 255, ..., 255, 255, 255]], dtype=uint8)"
      ]
     },
     "execution_count": 20,
     "metadata": {},
     "output_type": "execute_result"
    }
   ],
   "source": [
    "image"
   ]
  },
  {
   "cell_type": "code",
   "execution_count": 26,
   "metadata": {},
   "outputs": [
    {
     "data": {
      "image/png": "[encoded data removed]",
      "text/plain": [
       "<Figure size 432x288 with 1 Axes>"
      ]
     },
     "metadata": {
      "needs_background": "light"
     },
     "output_type": "display_data"
    }
   ],
   "source": [
    "# https://matplotlib.org/3.1.1/gallery/subplots_axes_and_figures/invert_axes.html\n",
    "import matplotlib.pyplot as plt\n",
    "import numpy as np\n",
    "\n",
    "t = np.arange(0.01, 5.0, 0.01)\n",
    "s = np.exp(-t)\n",
    "\n",
    "fig, ax = plt.subplots()\n",
    "\n",
    "ax.plot(t, s)\n",
    "ax.set_xlim(5, 0)  # decreasing time\n",
    "ax.set_xlabel('decreasing time (s)')\n",
    "ax.set_ylabel('voltage (mV)')\n",
    "ax.set_title('Should be growing...')\n",
    "ax.grid(True)\n",
    "\n",
    "plt.show()"
   ]
  },
  {
   "cell_type": "code",
   "execution_count": 48,
   "metadata": {},
   "outputs": [
    {
     "data": {
      "image/png": "[encoded data removed]",
      "text/plain": [
       "<Figure size 432x288 with 1 Axes>"
      ]
     },
     "metadata": {
      "needs_background": "light"
     },
     "output_type": "display_data"
    }
   ],
   "source": [
    "import numpy as np\n",
    "from matplotlib.path import Path\n",
    "from matplotlib.patches import PathPatch\n",
    "import matplotlib.pyplot as plt\n",
    "\n",
    "\n",
    "vertices = []\n",
    "codes = []\n",
    "\n",
    "codes = [Path.MOVETO] + [Path.LINETO]*3 + [Path.CLOSEPOLY]\n",
    "vertices = [(1, 1), (1, 2), (2, 2), (2, 1), (0, 0)]\n",
    "\n",
    "codes += [Path.MOVETO] + [Path.LINETO]*2 + [Path.CLOSEPOLY]\n",
    "vertices += [(4, 4), (5, 5), (5, 4), (0, 0)]\n",
    "\n",
    "vertices = np.array(vertices, float)\n",
    "path = Path(vertices, codes)\n",
    "\n",
    "pathpatch = PathPatch(path, facecolor='None', edgecolor='green')\n",
    "\n",
    "fig, ax = plt.subplots()\n",
    "ax.add_patch(pathpatch)\n",
    "ax.set_title('A compound path')\n",
    "\n",
    "ax.autoscale_view()\n",
    "\n",
    "plt.show()"
   ]
  },
  {
   "cell_type": "code",
   "execution_count": null,
   "metadata": {},
   "outputs": [],
   "source": []
  }
 ],
 "metadata": {
  "kernelspec": {
   "display_name": "Python 3",
   "language": "python",
   "name": "python3"
  },
  "language_info": {
   "codemirror_mode": {
    "name": "ipython",
    "version": 3
   },
   "file_extension": ".py",
   "mimetype": "text/x-python",
   "name": "python",
   "nbconvert_exporter": "python",
   "pygments_lexer": "ipython3",
   "version": "3.7.0"
  }
 },
 "nbformat": 4,
 "nbformat_minor": 2
}

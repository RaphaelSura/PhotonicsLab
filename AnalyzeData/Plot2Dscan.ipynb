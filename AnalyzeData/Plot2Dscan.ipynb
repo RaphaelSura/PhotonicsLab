{
 "cells": [
  {
   "cell_type": "code",
   "execution_count": 1,
   "metadata": {},
   "outputs": [],
   "source": [
    "import sys\n",
    "sys.path.append(\"..\")\n",
    "%matplotlib inline\n",
    "import numpy as np\n",
    "import matplotlib.pyplot as plt\n",
    "from LowLevelModules.GeneralFunctions import get_work_dir, prettify_2d_plot\n",
    "import os\n",
    "import datetime"
   ]
  },
  {
   "cell_type": "code",
   "execution_count": 12,
   "metadata": {},
   "outputs": [
    {
     "name": "stdout",
     "output_type": "stream",
     "text": [
      "File 190819FSM59 FSM-2D.png saved\n",
      "File 190819FSM60 FSM-2D.png saved\n",
      "File 190819FSM61 FSM-2D.png saved\n",
      "All spectra exported as PNGs\n"
     ]
    }
   ],
   "source": [
    "###################   USER INPUT   #######################\n",
    "# rotate image counter-clock wise 90 degrees times user input\n",
    "rotate_scan = 2\n",
    "\n",
    "##########################################################\n",
    "currentDT = datetime.datetime.now()\n",
    "currentDT = currentDT.strftime(\"%y%m%d\")\n",
    "# user input\n",
    "wdir = 'C:\\\\data\\\\' + currentDT + '\\\\FSM-2D'\n",
    "## fetch all BMP file names in folder\n",
    "filenames = [f[:-4] for f in os.listdir(wdir) if '.BMP' in f]\n",
    "\n",
    "# needed user input\n",
    "#data_path = r\"\\TMDs\\Spectroscopy\\20190213 - WSe2 on nanopillars\"\n",
    "#date = '190214'\n",
    "#Specify file index number\n",
    "idx = None #'05'\n",
    "val_min = 0\n",
    "val_max_fraction = 1\n",
    "\n",
    "#data_path = get_work_dir() + data_path\n",
    "#filename = r'%s\\FSM-2D\\%sFSM%s FSM-2D' % (data_path, date, idx)\n",
    "for f in filenames:\n",
    "    save_filename =  f + '.png'\n",
    "    if not save_filename in os.listdir(wdir):\n",
    "        x = np.loadtxt(wdir + '\\\\' + f + \" X.dat\")\n",
    "        y = np.loadtxt(wdir + '\\\\' + f + \" Y.dat\")\n",
    "        z = np.loadtxt(wdir + '\\\\' + f + \" Z.dat\")\n",
    "        if rotate_scan > 0:\n",
    "            z = np.rot90(z, rotate_scan)\n",
    "        extent_x = (np.max(x) - np.min(x)) / 2\n",
    "        extent_y = (np.max(y) - np.min(y)) / 2\n",
    "        extent = [-extent_x, extent_x, -extent_y, extent_y]\n",
    "        val_max = val_max_fraction * np.max(z)\n",
    "\n",
    "        #plot\n",
    "        fig = plt.figure(figsize=(8, 6))\n",
    "        ax = fig.add_subplot(111)\n",
    "        cp = ax.imshow(z, cmap='terrain', origin='center', extent=extent, interpolation='nearest', vmin=val_min, vmax=val_max)\n",
    "        cb = plt.colorbar(cp, fraction=0.046, pad=0.04)\n",
    "        prettify_2d_plot(ax, cb, 'x-pos (µm)', 'y-pos (µm)', 'Count rate (kHz)')\n",
    "        fig.tight_layout()\n",
    "        plt.close(fig)\n",
    "        \n",
    "        # save figure\n",
    "        fig.savefig(wdir + '\\\\' + save_filename, format='png', bbox_inches='tight')\n",
    "        print('File', save_filename, 'saved')\n",
    "\n",
    "\n",
    "print(\"All spectra exported as PNGs\")\n"
   ]
  },
  {
   "cell_type": "code",
   "execution_count": 22,
   "metadata": {},
   "outputs": [],
   "source": [
    "fig.savefig(filename + '.png', format='png', bbox_inches='tight')"
   ]
  },
  {
   "cell_type": "code",
   "execution_count": 6,
   "metadata": {},
   "outputs": [
    {
     "data": {
      "text/plain": [
       "210.91"
      ]
     },
     "execution_count": 6,
     "metadata": {},
     "output_type": "execute_result"
    }
   ],
   "source": [
    "np.max(z)"
   ]
  },
  {
   "cell_type": "code",
   "execution_count": 7,
   "metadata": {},
   "outputs": [
    {
     "name": "stdout",
     "output_type": "stream",
     "text": [
      "190717\n"
     ]
    }
   ],
   "source": []
  },
  {
   "cell_type": "code",
   "execution_count": null,
   "metadata": {},
   "outputs": [],
   "source": []
  }
 ],
 "metadata": {
  "kernelspec": {
   "display_name": "Python 3",
   "language": "python",
   "name": "python3"
  },
  "language_info": {
   "codemirror_mode": {
    "name": "ipython",
    "version": 3
   },
   "file_extension": ".py",
   "mimetype": "text/x-python",
   "name": "python",
   "nbconvert_exporter": "python",
   "pygments_lexer": "ipython3",
   "version": "3.6.5"
  }
 },
 "nbformat": 4,
 "nbformat_minor": 2
}

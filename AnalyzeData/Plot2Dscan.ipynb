{
 "cells": [
  {
   "cell_type": "code",
   "execution_count": 1,
   "metadata": {},
   "outputs": [],
   "source": [
    "import sys\n",
    "sys.path.append(\"..\")\n",
    "%matplotlib inline\n",
    "import numpy as np\n",
    "import matplotlib.pyplot as plt\n",
    "from LowLevelModules.GeneralFunctions import get_work_dir, prettify_2d_plot\n",
    "import os\n",
    "import datetime"
   ]
  },
  {
   "cell_type": "code",
   "execution_count": 6,
   "metadata": {},
   "outputs": [
    {
     "name": "stdout",
     "output_type": "stream",
     "text": [
      "File 200217FSM15 FSM-2D.png saved\n",
      "File 200217FSM16 FSM-2D.png saved\n",
      "All spectra exported as PNGs\n"
     ]
    }
   ],
   "source": [
    "###################   USER INPUT   #######################\n",
    "# rotate image counter-clock wise 90 degrees times user input\n",
    "rotate_scan = 2\n",
    "\n",
    "##########################################################\n",
    "currentDT = datetime.datetime.now()\n",
    "currentDT = currentDT.strftime(\"%y%m%d\")\n",
    "# user input\n",
    "wdir = 'C:\\\\data\\\\' + currentDT + '\\\\FSM-2D'\n",
    "#wdir = 'C:\\\\data\\\\200116\\\\FSM-2D'\n",
    "## fetch all BMP file names in folder\n",
    "filenames = [f[:-4] for f in os.listdir(wdir) if '.BMP' in f]\n",
    "\n",
    "# needed user input\n",
    "#data_path = r\"\\TMDs\\Spectroscopy\\20190213 - WSe2 on nanopillars\"\n",
    "#date = '190214'\n",
    "#Specify file index number\n",
    "idx = None #'05'\n",
    "val_min = 0\n",
    "val_max_fraction = 1\n",
    "\n",
    "#data_path = get_work_dir() + data_path\n",
    "#filename = r'%s\\FSM-2D\\%sFSM%s FSM-2D' % (data_path, date, idx)\n",
    "for f in filenames:\n",
    "    save_filename =  f + '.png'\n",
    "    if not save_filename in os.listdir(wdir):\n",
    "        x = np.loadtxt(wdir + '\\\\' + f + \" X.dat\")\n",
    "        y = np.loadtxt(wdir + '\\\\' + f + \" Y.dat\")\n",
    "        z = np.loadtxt(wdir + '\\\\' + f + \" Z.dat\")\n",
    "        if rotate_scan > 0:\n",
    "            z = np.rot90(z, rotate_scan)\n",
    "        extent_x = (np.max(x) - np.min(x)) / 2\n",
    "        extent_y = (np.max(y) - np.min(y)) / 2\n",
    "        extent = [-extent_x, extent_x, -extent_y, extent_y]\n",
    "        val_max = val_max_fraction * np.max(z)\n",
    "\n",
    "        #plot\n",
    "        fig = plt.figure(figsize=(8, 6))\n",
    "        ax = fig.add_subplot(111)\n",
    "        cp = ax.imshow(z, cmap='terrain', origin='center', extent=extent, interpolation='nearest', vmin=val_min, vmax=val_max)\n",
    "        cb = plt.colorbar(cp, fraction=0.046, pad=0.04)\n",
    "        prettify_2d_plot(ax, cb, 'x-pos (µm)', 'y-pos (µm)', 'Count rate (kHz)')\n",
    "        fig.tight_layout()\n",
    "        plt.close(fig)\n",
    "        \n",
    "        # save figure\n",
    "        fig.savefig(wdir + '\\\\' + save_filename, format='png', bbox_inches='tight')\n",
    "        print('File', save_filename, 'saved')\n",
    "\n",
    "\n",
    "print(\"All spectra exported as PNGs\")\n"
   ]
  },
  {
   "cell_type": "code",
   "execution_count": 18,
   "metadata": {},
   "outputs": [
    {
     "ename": "NameError",
     "evalue": "name 'filename' is not defined",
     "output_type": "error",
     "traceback": [
      "\u001b[1;31m---------------------------------------------------------------------------\u001b[0m",
      "\u001b[1;31mNameError\u001b[0m                                 Traceback (most recent call last)",
      "\u001b[1;32m<ipython-input-18-3ec782602ddb>\u001b[0m in \u001b[0;36m<module>\u001b[1;34m()\u001b[0m\n\u001b[1;32m----> 1\u001b[1;33m \u001b[0mfig\u001b[0m\u001b[1;33m.\u001b[0m\u001b[0msavefig\u001b[0m\u001b[1;33m(\u001b[0m\u001b[0mfilename\u001b[0m \u001b[1;33m+\u001b[0m \u001b[1;34m'.png'\u001b[0m\u001b[1;33m,\u001b[0m \u001b[0mformat\u001b[0m\u001b[1;33m=\u001b[0m\u001b[1;34m'png'\u001b[0m\u001b[1;33m,\u001b[0m \u001b[0mbbox_inches\u001b[0m\u001b[1;33m=\u001b[0m\u001b[1;34m'tight'\u001b[0m\u001b[1;33m)\u001b[0m\u001b[1;33m\u001b[0m\u001b[0m\n\u001b[0m",
      "\u001b[1;31mNameError\u001b[0m: name 'filename' is not defined"
     ]
    }
   ],
   "source": [
    "fig.savefig(filename + '.png', format='png', bbox_inches='tight')"
   ]
  },
  {
   "cell_type": "code",
   "execution_count": 3,
   "metadata": {},
   "outputs": [
    {
     "data": {
      "text/plain": [
       "['200116FSM01 FSM-2D',\n",
       " '200116FSM02 FSM-2D',\n",
       " '200116FSM03 FSM-2D',\n",
       " '200116FSM04 FSM-2D',\n",
       " '200116FSM05 FSM-2D',\n",
       " '200116FSM06 FSM-2D',\n",
       " '200116FSM07 FSM-2D',\n",
       " '200116FSM08 FSM-2D',\n",
       " '200116FSM09 FSM-2D',\n",
       " '200116FSM10 FSM-2D',\n",
       " '200116FSM100 FSM-2D',\n",
       " '200116FSM11 FSM-2D',\n",
       " '200116FSM12 FSM-2D',\n",
       " '200116FSM13 FSM-2D',\n",
       " '200116FSM14 FSM-2D',\n",
       " '200116FSM15 FSM-2D',\n",
       " '200116FSM16 FSM-2D',\n",
       " '200116FSM17 FSM-2D',\n",
       " '200116FSM18 FSM-2D',\n",
       " '200116FSM19 FSM-2D',\n",
       " '200116FSM20 FSM-2D',\n",
       " '200116FSM21 FSM-2D',\n",
       " '200116FSM22 FSM-2D',\n",
       " '200116FSM23 FSM-2D',\n",
       " '200116FSM24 FSM-2D',\n",
       " '200116FSM25 FSM-2D',\n",
       " '200116FSM26 FSM-2D',\n",
       " '200116FSM27 FSM-2D',\n",
       " '200116FSM28 FSM-2D',\n",
       " '200116FSM29 FSM-2D',\n",
       " '200116FSM30 FSM-2D',\n",
       " '200116FSM31 FSM-2D',\n",
       " '200116FSM32 FSM-2D',\n",
       " '200116FSM33 FSM-2D',\n",
       " '200116FSM34 FSM-2D',\n",
       " '200116FSM35 FSM-2D',\n",
       " '200116FSM36 FSM-2D',\n",
       " '200116FSM37 FSM-2D',\n",
       " '200116FSM38 FSM-2D',\n",
       " '200116FSM39 FSM-2D',\n",
       " '200116FSM40 FSM-2D',\n",
       " '200116FSM41 FSM-2D',\n",
       " '200116FSM42 FSM-2D',\n",
       " '200116FSM43 FSM-2D',\n",
       " '200116FSM44 FSM-2D',\n",
       " '200116FSM45 FSM-2D',\n",
       " '200116FSM46 FSM-2D',\n",
       " '200116FSM47 FSM-2D',\n",
       " '200116FSM48 FSM-2D',\n",
       " '200116FSM49 FSM-2D',\n",
       " '200116FSM50 FSM-2D',\n",
       " '200116FSM51 FSM-2D',\n",
       " '200116FSM52 FSM-2D',\n",
       " '200116FSM53 FSM-2D',\n",
       " '200116FSM54 FSM-2D',\n",
       " '200116FSM55 FSM-2D',\n",
       " '200116FSM56 FSM-2D',\n",
       " '200116FSM57 FSM-2D',\n",
       " '200116FSM58 FSM-2D',\n",
       " '200116FSM59 FSM-2D',\n",
       " '200116FSM60 FSM-2D',\n",
       " '200116FSM61 FSM-2D',\n",
       " '200116FSM62 FSM-2D',\n",
       " '200116FSM63 FSM-2D',\n",
       " '200116FSM64 FSM-2D',\n",
       " '200116FSM65 FSM-2D',\n",
       " '200116FSM66 FSM-2D',\n",
       " '200116FSM67 FSM-2D',\n",
       " '200116FSM68 FSM-2D',\n",
       " '200116FSM69 FSM-2D',\n",
       " '200116FSM70 FSM-2D',\n",
       " '200116FSM71 FSM-2D',\n",
       " '200116FSM72 FSM-2D',\n",
       " '200116FSM73 FSM-2D',\n",
       " '200116FSM74 FSM-2D',\n",
       " '200116FSM75 FSM-2D',\n",
       " '200116FSM76 FSM-2D',\n",
       " '200116FSM77 FSM-2D',\n",
       " '200116FSM78 FSM-2D',\n",
       " '200116FSM79 FSM-2D',\n",
       " '200116FSM80 FSM-2D',\n",
       " '200116FSM81 FSM-2D',\n",
       " '200116FSM82 FSM-2D',\n",
       " '200116FSM83 FSM-2D',\n",
       " '200116FSM84 FSM-2D',\n",
       " '200116FSM85 FSM-2D',\n",
       " '200116FSM86 FSM-2D',\n",
       " '200116FSM87 FSM-2D',\n",
       " '200116FSM88 FSM-2D',\n",
       " '200116FSM89 FSM-2D',\n",
       " '200116FSM90 FSM-2D',\n",
       " '200116FSM91 FSM-2D',\n",
       " '200116FSM92 FSM-2D',\n",
       " '200116FSM93 FSM-2D',\n",
       " '200116FSM94 FSM-2D',\n",
       " '200116FSM95 FSM-2D',\n",
       " '200116FSM96 FSM-2D',\n",
       " '200116FSM97 FSM-2D',\n",
       " '200116FSM98 FSM-2D',\n",
       " '200116FSM99 FSM-2D']"
      ]
     },
     "execution_count": 3,
     "metadata": {},
     "output_type": "execute_result"
    }
   ],
   "source": [
    "filenames"
   ]
  },
  {
   "cell_type": "code",
   "execution_count": 7,
   "metadata": {},
   "outputs": [
    {
     "name": "stdout",
     "output_type": "stream",
     "text": [
      "190717\n"
     ]
    }
   ],
   "source": []
  },
  {
   "cell_type": "code",
   "execution_count": null,
   "metadata": {},
   "outputs": [],
   "source": []
  }
 ],
 "metadata": {
  "kernelspec": {
   "display_name": "Python 3",
   "language": "python",
   "name": "python3"
  },
  "language_info": {
   "codemirror_mode": {
    "name": "ipython",
    "version": 3
   },
   "file_extension": ".py",
   "mimetype": "text/x-python",
   "name": "python",
   "nbconvert_exporter": "python",
   "pygments_lexer": "ipython3",
   "version": "3.6.5"
  }
 },
 "nbformat": 4,
 "nbformat_minor": 2
}

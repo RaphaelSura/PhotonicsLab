{
 "cells": [
  {
   "cell_type": "code",
   "execution_count": null,
   "metadata": {},
   "outputs": [],
   "source": [
    "from LowLevelModules.GeneralFunctions import *\n",
    "from LowLevelModules.NIdaqAPD import APDCounter, ExtClock\n",
    "\n",
    "\"\"\"#######################################   USER INPUT   #################################################\"\"\"\n",
    "terminal = '/Dev1/PFI1'\n",
    "frequency = 10    #Hz\n",
    "save_data = False\n",
    "\"\"\"#########################################################################################################\"\"\"\n",
    "\n",
    "delta_t = 1 / frequency\n",
    "\n",
    "# CREATE EXT CLOCK TO GATE THE READING OF PULSES COMING FROM THE APD\n",
    "ext_clock_task = ExtClock(frequency)\n",
    "\n",
    "# CREATE THE APD COUNTER\n",
    "APD1 = APDCounter(terminal)\n",
    "APD1.sync_to_ext_clock()\n",
    "\n",
    "# start task and count\n",
    "APD1.start()\n",
    "\n",
    "# read the count rate: should be written in that wa but doesn't seem to work at the moment\n",
    "# cr = CounterReader()\n",
    "# cts = cr.read_many_sample_double(cts, number_of_samples_per_channel=-1, timeout=10.0)\n",
    "\n",
    "old_cts_cum = 0\n",
    "lp = LivePlot(1, 10, 6, 'o', 'Time (s)', 'APD counts (kHz)')\n",
    "t, cts = [], []\n",
    "i = 0\n",
    "\n",
    "while True:\n",
    "    try:\n",
    "        cts_cum = APD1.read() * frequency / 1000\n",
    "        current_cts = cts_cum - old_cts_cum\n",
    "\n",
    "        # append new data and plot\n",
    "        t.append(i*delta_t)\n",
    "        cts.append(current_cts)\n",
    "        lp.plot_live(t, cts)\n",
    "\n",
    "        # store old data and go to next loop iteration\n",
    "        old_cts_cum = cts_cum\n",
    "        i += 1\n",
    "    except KeyboardInterrupt:\n",
    "        # press the stop button to trigger this\n",
    "        APD1.close()\n",
    "        break\n",
    "\n",
    "if save_data:\n",
    "    data_type = 'PLvsTime'\n",
    "    data_header = \"Time (s)     APD counts (kHz)\"\n",
    "    data_array = np.array([pos, cts]).T\n",
    "    data_save(data_array, lp.fig, data_type, data_header)\n"
   ]
  }
 ],
 "metadata": {
  "kernelspec": {
   "display_name": "Python 3",
   "language": "python",
   "name": "python3"
  },
  "language_info": {
   "codemirror_mode": {
    "name": "ipython",
    "version": 3
   },
   "file_extension": ".py",
   "mimetype": "text/x-python",
   "name": "python",
   "nbconvert_exporter": "python",
   "pygments_lexer": "ipython3",
   "version": "3.6.5"
  }
 },
 "nbformat": 4,
 "nbformat_minor": 2
}
